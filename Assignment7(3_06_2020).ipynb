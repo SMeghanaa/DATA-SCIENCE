{
  "nbformat": 4,
  "nbformat_minor": 0,
  "metadata": {
    "colab": {
      "name": "Assignment7(3-06-2020).ipynb",
      "provenance": [],
      "collapsed_sections": [],
      "authorship_tag": "ABX9TyPBRaLDxQcHZonT4Go04FFu",
      "include_colab_link": true
    },
    "kernelspec": {
      "name": "python3",
      "display_name": "Python 3"
    }
  },
  "cells": [
    {
      "cell_type": "markdown",
      "metadata": {
        "id": "view-in-github",
        "colab_type": "text"
      },
      "source": [
        "<a href=\"https://colab.research.google.com/github/SMeghanaa/DATA-SCIENCE/blob/master/Assignment7(3_06_2020).ipynb\" target=\"_parent\"><img src=\"https://colab.research.google.com/assets/colab-badge.svg\" alt=\"Open In Colab\"/></a>"
      ]
    },
    {
      "cell_type": "code",
      "metadata": {
        "id": "DqJ7dBFXizV7",
        "colab_type": "code",
        "colab": {}
      },
      "source": [
        "f=open(\"sample.txt\",\"w\")\n",
        "f.write(\"hello\")\n",
        "f.close()"
      ],
      "execution_count": 0,
      "outputs": []
    },
    {
      "cell_type": "code",
      "metadata": {
        "id": "jFVkJgkqjNSc",
        "colab_type": "code",
        "colab": {}
      },
      "source": [
        "f=open(\"sample.txt\",\"a\")\n",
        "s='''\n",
        "    how are you?\n",
        "    how is yout day going on?\n",
        "    this program is print line number'''\n",
        "f.write(s)\n",
        "f.close()"
      ],
      "execution_count": 0,
      "outputs": []
    },
    {
      "cell_type": "code",
      "metadata": {
        "id": "XY8tr77wkddY",
        "colab_type": "code",
        "outputId": "9f94976f-1ec9-4fec-f707-76783abadbee",
        "colab": {
          "base_uri": "https://localhost:8080/",
          "height": 90
        }
      },
      "source": [
        "f=open(\"sample.txt\",\"r\")\n",
        "data=f.read()\n",
        "print(data)\n",
        "f.close()"
      ],
      "execution_count": 0,
      "outputs": [
        {
          "output_type": "stream",
          "text": [
            "hello\n",
            "    how are you?\n",
            "    how is yout day going on?\n",
            "    this program is print line number\n"
          ],
          "name": "stdout"
        }
      ]
    },
    {
      "cell_type": "markdown",
      "metadata": {
        "id": "hu7ufpsXlCst",
        "colab_type": "text"
      },
      "source": [
        "###Question 1:\n",
        "[Reverse] Copy the contents of a text file into another, printing the reversed version of each input line"
      ]
    },
    {
      "cell_type": "code",
      "metadata": {
        "id": "qearPW6hlKGC",
        "colab_type": "code",
        "outputId": "14332402-1e11-4f9d-b479-50282c6fcd6f",
        "colab": {
          "base_uri": "https://localhost:8080/",
          "height": 145
        }
      },
      "source": [
        "with open(\"sample.txt\",\"r\") as f:\n",
        "    with open(\"sample1.txt\",\"w\") as f1:     #copying contents\n",
        "        for line in f:\n",
        "            f1.write(line)\n",
        "            print(line[::-1])             #printing it in reverse"
      ],
      "execution_count": 0,
      "outputs": [
        {
          "output_type": "stream",
          "text": [
            "\n",
            "olleh\n",
            "\n",
            "?uoy era woh    \n",
            "\n",
            "?no gniog yad tuoy si woh    \n",
            "rebmun enil tnirp si margorp siht    \n"
          ],
          "name": "stdout"
        }
      ]
    },
    {
      "cell_type": "markdown",
      "metadata": {
        "id": "0UG2VchVk6_g",
        "colab_type": "text"
      },
      "source": [
        "###Question 2:\n",
        "[Number Lines] Print the contents of a file line by line putting a line number for each line"
      ]
    },
    {
      "cell_type": "code",
      "metadata": {
        "id": "iPnraI7qiq8f",
        "colab_type": "code",
        "outputId": "c9972e4b-e728-47d8-d9c1-3cbe151ff5e4",
        "colab": {
          "base_uri": "https://localhost:8080/",
          "height": 145
        }
      },
      "source": [
        "with open(\"sample.txt\",\"r\") as f:\n",
        "    i=1\n",
        "    for line in f:\n",
        "        print(i,\". \",line)\n",
        "        i+=1"
      ],
      "execution_count": 0,
      "outputs": [
        {
          "output_type": "stream",
          "text": [
            "1 .  hello\n",
            "\n",
            "2 .      how are you?\n",
            "\n",
            "3 .      how is yout day going on?\n",
            "\n",
            "4 .      this program is print line number\n"
          ],
          "name": "stdout"
        }
      ]
    },
    {
      "cell_type": "markdown",
      "metadata": {
        "id": "3lm-wPrKp6rk",
        "colab_type": "text"
      },
      "source": [
        "###Question 3:\n",
        "[deDuplicate] Avoiding Duplicates\n",
        "In many situations, lists should not contain duplicate elements. For example, a pack of cards should not contain the same card twice. Define a function\n",
        "- duplicates (list): bool\n",
        "- which returns True if its argument contains duplicate elements.\n",
        "\t\tduplicates [1,2,3,4,5]\n",
        "\t\t\tFalse\n",
        "\t\tduplicates [1,2,3,2]\n",
        "\t\t\tTrue\n",
        "Hint: the standard operation in, which tests whether an element occurs in a list, is helpful here.\n",
        "\n",
        "One way to ensure a list contains no duplicates is to start with a list that might contain duplicate elements, and remove them. Define a function\n",
        "  -   removeDuplicates (list): list\n",
        "\n",
        "##### which returns a list containing the same elements as its argument, but without duplicates.\n"
      ]
    },
    {
      "cell_type": "code",
      "metadata": {
        "id": "_qOfGwtEqc_t",
        "colab_type": "code",
        "outputId": "ae0947c1-42bd-4deb-b1e2-e03bb3645633",
        "colab": {
          "base_uri": "https://localhost:8080/",
          "height": 54
        }
      },
      "source": [
        "def duplicates(l):\n",
        "  for i in l:\n",
        "    if (l.count(i)>1):\n",
        "      return True\n",
        "def removeDuplicates(list1):\n",
        "   l1=set(list1)\n",
        "   print(list(l1))\n",
        "\n",
        "l=[1,2,3,6,8,4,5,6]\n",
        "f=duplicates(l)\n",
        "if f:\n",
        "  print(f)\n",
        "  removeDuplicates(l)\n",
        "else:\n",
        "  print(False)\n",
        "  print(l)\n",
        "\n",
        "\n"
      ],
      "execution_count": 0,
      "outputs": [
        {
          "output_type": "stream",
          "text": [
            "True\n",
            "[1, 2, 3, 4, 5, 6, 8]\n"
          ],
          "name": "stdout"
        }
      ]
    },
    {
      "cell_type": "markdown",
      "metadata": {
        "id": "RCl8OtFpypqw",
        "colab_type": "text"
      },
      "source": [
        "###Question 4:\n",
        "[fractions.py] Develop a package for fractions. \n",
        "- Develop a module that performs operations on fractions. \n",
        "- It should have methods to create fractions, perform operations on two fractions, simplify a fraction, and print a fraction. You should use that package and illustrate those operations."
      ]
    },
    {
      "cell_type": "code",
      "metadata": {
        "id": "1U43D9-m6Rwk",
        "colab_type": "code",
        "colab": {}
      },
      "source": [
        ""
      ],
      "execution_count": 0,
      "outputs": []
    },
    {
      "cell_type": "markdown",
      "metadata": {
        "id": "t-7cYJdtTrcq",
        "colab_type": "text"
      },
      "source": [
        "####Question 5:\n",
        "[Permutations] \n",
        "A permutation of a list is another list with the same elements, but in a possibly different order. For example, [1,2,1] is a permutation of [2,1,1], but not of [1,2,2]. \n",
        "- Write a function\n",
        "    -\tisPermutation (list1, list2): bool\n",
        "#####that returns True if its arguments are permutations of each other.\n"
      ]
    },
    {
      "cell_type": "code",
      "metadata": {
        "id": "8JUYiCnw_sFU",
        "colab_type": "code",
        "outputId": "e1d08dac-2608-4e5b-8cd5-f3ce01b1522c",
        "colab": {
          "base_uri": "https://localhost:8080/",
          "height": 35
        }
      },
      "source": [
        "def ispermutation(l1,l2):\n",
        "  l1.sort()\n",
        "  l2.sort()\n",
        "  if l1==l2:\n",
        "    return True\n",
        "  else:\n",
        "    return False\n",
        "\n",
        "l1=[1,2,1]\n",
        "l2=[2,1,1]\n",
        "f=ispermutation(l1,l2)\n",
        "print(f)"
      ],
      "execution_count": 0,
      "outputs": [
        {
          "output_type": "stream",
          "text": [
            "True\n"
          ],
          "name": "stdout"
        }
      ]
    },
    {
      "cell_type": "code",
      "metadata": {
        "id": "Ifp729gYVCf5",
        "colab_type": "code",
        "colab": {}
      },
      "source": [
        ""
      ],
      "execution_count": 0,
      "outputs": []
    }
  ]
}