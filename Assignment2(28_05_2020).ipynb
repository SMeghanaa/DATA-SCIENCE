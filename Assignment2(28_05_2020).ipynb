{
  "nbformat": 4,
  "nbformat_minor": 0,
  "metadata": {
    "colab": {
      "name": "Assignment2(28-05-2020)",
      "provenance": [],
      "collapsed_sections": []
    },
    "kernelspec": {
      "name": "python3",
      "display_name": "Python 3"
    }
  },
  "cells": [
    {
      "cell_type": "markdown",
      "metadata": {
        "id": "5WDOYZxnOa_X",
        "colab_type": "text"
      },
      "source": [
        "###Question 1:\n",
        "Accept a string from the user and count no.of vowels,consonants and special characters"
      ]
    },
    {
      "cell_type": "code",
      "metadata": {
        "id": "gQjjgBa4OKix",
        "colab_type": "code",
        "outputId": "8eab4cf9-ebcd-4c0e-9aa5-5d8d410cef27",
        "colab": {
          "base_uri": "https://localhost:8080/",
          "height": 51
        }
      },
      "source": [
        "s=input(\"Enter a string: \")\n",
        "v,c,sc=0,0,0\n",
        "s.lower()\n",
        "for i in range(0,len(s)):\n",
        "  if s[i]=='a' or s[i]=='e' or s[i]=='i' or s[i]=='o' or s[i]=='u' :\n",
        "    v+=1\n",
        "  elif s[i]>='a' and s[i]<='z':\n",
        "    c+=1\n",
        "  else:\n",
        "    sc+=1\n",
        "print(\"vowels:\",v,\"consonants:\",c,\"special character:\",sc)\n"
      ],
      "execution_count": 0,
      "outputs": [
        {
          "output_type": "stream",
          "text": [
            "Enter a string: meghana\n",
            "vowels: 3 consonants: 7 special character: 0\n"
          ],
          "name": "stdout"
        }
      ]
    },
    {
      "cell_type": "markdown",
      "metadata": {
        "id": "bTjcenwnRxEx",
        "colab_type": "text"
      },
      "source": [
        "###Question 2:\n",
        "count the no.of pairs of a in the given string(Infosys InfyTQ)\n",
        " - string →  \"abbaaccbbaaa\"\n",
        " - output →  2\n",
        "\n"
      ]
    },
    {
      "cell_type": "code",
      "metadata": {
        "id": "8qbmPd4VR85b",
        "colab_type": "code",
        "outputId": "261867c1-d91f-46fa-9a2f-2c7e2a6e3f6d",
        "colab": {
          "base_uri": "https://localhost:8080/",
          "height": 51
        }
      },
      "source": [
        "s=input('enter string: ')\n",
        "print(s.count('aa'))"
      ],
      "execution_count": 0,
      "outputs": [
        {
          "output_type": "stream",
          "text": [
            "enter string: abbaaccbbaaa\n",
            "2\n"
          ],
          "name": "stdout"
        }
      ]
    },
    {
      "cell_type": "markdown",
      "metadata": {
        "id": "KVtUxm20SyUM",
        "colab_type": "text"
      },
      "source": [
        "###Question 3:\n",
        "    Test case1:\n",
        "        string →  \"((((()()()))))()\"\n",
        "        output →  8\n",
        "    Test case2:\n",
        "        string →  \"((()))()\"\n",
        "        Output →  4\n"
      ]
    },
    {
      "cell_type": "code",
      "metadata": {
        "id": "Dn1GScaZSA12",
        "colab_type": "code",
        "outputId": "4452db74-31b5-4109-84b7-76b113a922bb",
        "colab": {
          "base_uri": "https://localhost:8080/",
          "height": 51
        }
      },
      "source": [
        "s=input('ENTER THE STRING: ')\n",
        "l,r=0,0\n",
        "for i in range(0,len(s)):\n",
        "  if s[i]=='(':\n",
        "    l+=1\n",
        "  elif s[i]==')':\n",
        "    r+=1\n",
        "if l==r:\n",
        "  print(l)"
      ],
      "execution_count": 0,
      "outputs": [
        {
          "output_type": "stream",
          "text": [
            "ENTER THE STRING: ((((()()()))))()\n",
            "8\n"
          ],
          "name": "stdout"
        }
      ]
    },
    {
      "cell_type": "markdown",
      "metadata": {
        "id": "yff7Zt7LT2PB",
        "colab_type": "text"
      },
      "source": [
        "###Question 4:\n",
        "Read the input as two limits and Print the output as Palindrome count between the two limits\n",
        "- Example #1; Input : 1 10 Output : 9\n",
        "-  Example #2: Input : 1 100 Output : 18\n"
      ]
    },
    {
      "cell_type": "code",
      "metadata": {
        "id": "o-adfFT_T63z",
        "colab_type": "code",
        "outputId": "988489fa-1d57-44a7-b347-a8be1f95f2b8",
        "colab": {
          "base_uri": "https://localhost:8080/",
          "height": 68
        }
      },
      "source": [
        "ll=int(input('LOWER LIMIT: '))\n",
        "ul=int(input('UPPER LIMIT: '))\n",
        "c=0\n",
        "for i in range(ll,ul):\n",
        "   rev,t=0,i\n",
        "   while(i>0):\n",
        "      num=i%10\n",
        "      rev=rev*10+num\n",
        "      i=i//10\n",
        "   if(t==rev):\n",
        "      c+=1\n",
        "print(c)\n"
      ],
      "execution_count": 21,
      "outputs": [
        {
          "output_type": "stream",
          "text": [
            "LOWER LIMIT: 1\n",
            "UPPER LIMIT: 10\n",
            "9\n"
          ],
          "name": "stdout"
        }
      ]
    },
    {
      "cell_type": "markdown",
      "metadata": {
        "id": "5fGpyjkPYEJy",
        "colab_type": "text"
      },
      "source": [
        "###Question 5:\n",
        "\n",
        " Accept a number as an input and check whether the given number is palindrome or not\n",
        "- if it is a palindrome number print the number on the screen\n",
        "- if it is not a palindrome number reverse that number and add it to previous number repeat this until will get a palindrome number and print that palindrome number on the screen\n",
        "input: 127\n",
        "output: 848\n"
      ]
    },
    {
      "cell_type": "code",
      "metadata": {
        "id": "flCf0WXBYIKr",
        "colab_type": "code",
        "colab": {
          "base_uri": "https://localhost:8080/",
          "height": 51
        },
        "outputId": "f379e689-a20f-49c0-828c-25c436262d2f"
      },
      "source": [
        "def again(rev,t):\n",
        "  n=rev+t\n",
        "  palindrome(n)\n",
        "\n",
        "def palindrome(n):\n",
        "   rev=0\n",
        "   t=n\n",
        "   while(n>0):\n",
        "      num=n%10\n",
        "      rev=rev*10+num\n",
        "      n=n//10\n",
        "   if(t==rev):\n",
        "        print(rev)\n",
        "   else:\n",
        "        again(rev,t)\n",
        "n=int(input('enter a number: '))\n",
        "palindrome(n)"
      ],
      "execution_count": 29,
      "outputs": [
        {
          "output_type": "stream",
          "text": [
            "enter a number: 147\n",
            "888\n"
          ],
          "name": "stdout"
        }
      ]
    },
    {
      "cell_type": "markdown",
      "metadata": {
        "id": "SrpcDWUIb4AL",
        "colab_type": "text"
      },
      "source": [
        "###Question 6:\n",
        "input:orange  →   output : puboif\n"
      ]
    },
    {
      "cell_type": "code",
      "metadata": {
        "id": "HBZp8TugUNA1",
        "colab_type": "code",
        "colab": {
          "base_uri": "https://localhost:8080/",
          "height": 51
        },
        "outputId": "cb158c5c-cfa8-4e43-a544-2a9af67dc014"
      },
      "source": [
        "s=input(\"enter string: \")\n",
        "s=s.lower()\n",
        "for i in range(0,len(s)):\n",
        "  if s[i] in ('a','e','i','o','u','n'):\n",
        "    print(chr(ord(s[i])+1),end=\"\")\n",
        "  elif s[i] in ('g'):\n",
        "    print(chr(ord(s[i])+2),end=\"\")\n",
        "  else:\n",
        "    print(chr(ord(s[i])+3),end=\"\")"
      ],
      "execution_count": 32,
      "outputs": [
        {
          "output_type": "stream",
          "text": [
            "enter string: orange\n",
            "puboif"
          ],
          "name": "stdout"
        }
      ]
    },
    {
      "cell_type": "markdown",
      "metadata": {
        "id": "q6SVyQ7Ddzoy",
        "colab_type": "text"
      },
      "source": [
        "###Question 7:\n",
        "Accept input as a string and display sum of digits as the output \n",
        "- input:Appli123cation456 ---> Output: 21\n"
      ]
    },
    {
      "cell_type": "code",
      "metadata": {
        "id": "ZBxtnCaXcyzT",
        "colab_type": "code",
        "colab": {
          "base_uri": "https://localhost:8080/",
          "height": 51
        },
        "outputId": "b0fe25dd-5efc-42ff-f98b-23a37ef579ed"
      },
      "source": [
        "n=input(\"enter string: \")\n",
        "sum=0\n",
        "for i in range(0,len(n)):\n",
        "  if (n[i]>='1' and n[i]<='9'):\n",
        "    sum+=int(n[i])\n",
        "print(sum)"
      ],
      "execution_count": 37,
      "outputs": [
        {
          "output_type": "stream",
          "text": [
            "enter string: Appli123cation456\n",
            "21\n"
          ],
          "name": "stdout"
        }
      ]
    },
    {
      "cell_type": "markdown",
      "metadata": {
        "id": "XkhYwwNxe_45",
        "colab_type": "text"
      },
      "source": [
        "###Question 8:\n",
        "Write a program to prompt for a score between 0.0 and 1.0. If the score is out of range, print an error. If the score is between 0.0 and 1.0, print a grade using the following table:\n",
        "Score Grade\n",
        "- >= 0.9 A\n",
        "- >= 0.8 B\n",
        "- >= 0.7 C\n",
        "- >= 0.6 D\n",
        "- < 0.6 F\n",
        "If the user enters a value out of range, print a suitable error message and exit. For the test, enter a score of 0.85\n"
      ]
    },
    {
      "cell_type": "code",
      "metadata": {
        "id": "Joi10qcUeGtw",
        "colab_type": "code",
        "colab": {
          "base_uri": "https://localhost:8080/",
          "height": 51
        },
        "outputId": "8cc5246c-45e9-4a27-f548-0419d2f01677"
      },
      "source": [
        "n=float(input(\"enter your score: \"))\n",
        "if n>=0.0 and n<=1.0:\n",
        "  if n>0.9:\n",
        "    print('A')\n",
        "  elif n>0.8:\n",
        "    print('B')\n",
        "  elif n>0.7:\n",
        "    print('C')\n",
        "  elif n>0.6:\n",
        "    print('D')\n",
        "  elif n<0.6:\n",
        "    print('F')\n",
        "  else:\n",
        "    print(\"INVALID SCORE!\")"
      ],
      "execution_count": 41,
      "outputs": [
        {
          "output_type": "stream",
          "text": [
            "enter your score: 0.85\n",
            "B\n"
          ],
          "name": "stdout"
        }
      ]
    },
    {
      "cell_type": "markdown",
      "metadata": {
        "id": "Xl3ofuFeg4RM",
        "colab_type": "text"
      },
      "source": [
        "###Question 9:\n",
        "Write a Python program which iterates the integers from 1 to 50. For multiples of three print \"Fizz\" instead of the number and for the multiples of five print \"Buzz\". For numbers which are multiples of both three and five print \"FizzBuzz\".\n"
      ]
    },
    {
      "cell_type": "code",
      "metadata": {
        "id": "nCNPdd26f0Sq",
        "colab_type": "code",
        "colab": {
          "base_uri": "https://localhost:8080/",
          "height": 867
        },
        "outputId": "c3656704-744c-4251-c2bd-2b420e73bb8e"
      },
      "source": [
        "for i in range(1,51):\n",
        "  if i%3==0 and i%5==0:\n",
        "    print(\"FizzBuzz\",end=\"\\n\")\n",
        "  elif i%3==0:\n",
        "    print(\"Fizz\")\n",
        "  elif i%5==0:\n",
        "    print(\"Buzz\")\n",
        "  else:\n",
        "    print(i)\n"
      ],
      "execution_count": 45,
      "outputs": [
        {
          "output_type": "stream",
          "text": [
            "1\n",
            "2\n",
            "Fizz\n",
            "4\n",
            "Buzz\n",
            "Fizz\n",
            "7\n",
            "8\n",
            "Fizz\n",
            "Buzz\n",
            "11\n",
            "Fizz\n",
            "13\n",
            "14\n",
            "FizzBuzz\n",
            "16\n",
            "17\n",
            "Fizz\n",
            "19\n",
            "Buzz\n",
            "Fizz\n",
            "22\n",
            "23\n",
            "Fizz\n",
            "Buzz\n",
            "26\n",
            "Fizz\n",
            "28\n",
            "29\n",
            "FizzBuzz\n",
            "31\n",
            "32\n",
            "Fizz\n",
            "34\n",
            "Buzz\n",
            "Fizz\n",
            "37\n",
            "38\n",
            "Fizz\n",
            "Buzz\n",
            "41\n",
            "Fizz\n",
            "43\n",
            "44\n",
            "FizzBuzz\n",
            "46\n",
            "47\n",
            "Fizz\n",
            "49\n",
            "Buzz\n"
          ],
          "name": "stdout"
        }
      ]
    },
    {
      "cell_type": "markdown",
      "metadata": {
        "id": "CER2aUZFh81U",
        "colab_type": "text"
      },
      "source": [
        "###Question 10:\n",
        "Write a Python program to find the median of three values.\n",
        "- Expected Output:\n",
        "- Input first number: 26                                            \n",
        "- Input second number: 15                                                \n",
        "- Input third number: 29                                                  \n",
        "The median is 26\n",
        "\n"
      ]
    },
    {
      "cell_type": "code",
      "metadata": {
        "id": "IIL5rUdHhHob",
        "colab_type": "code",
        "colab": {
          "base_uri": "https://localhost:8080/",
          "height": 119
        },
        "outputId": "c7f87b2c-4384-4b7c-c762-6defce3f7364"
      },
      "source": [
        "x = [int(x) for x in input(\"Enter the three numbers: \").split(\" \")] \n",
        "x.sort()\n",
        "print(\"Median:\",x[1])\n",
        "\n",
        "#Or\n",
        "\n",
        "x=int(input('ENTER 1ST NUMBER: '))\n",
        "y=int(input('ENTER 2ND NUMBER: '))\n",
        "z=int(input('ENTER 3RD NUMBER: '))\n",
        "if x>y and x<z:\n",
        "  print(\"Median:\",x)\n",
        "elif y>x and y<z:\n",
        "  print(\"Median:\",y)\n",
        "elif z>x and z<y:\n",
        "  print(\"Median:\",z)"
      ],
      "execution_count": 61,
      "outputs": [
        {
          "output_type": "stream",
          "text": [
            "Enter the three numbers: 13 17 15\n",
            "Median: 15\n",
            "ENTER 1ST NUMBER: 13\n",
            "ENTER 2ND NUMBER: 17\n",
            "ENTER 3RD NUMBER: 15\n",
            "Median: 15\n"
          ],
          "name": "stdout"
        }
      ]
    },
    {
      "cell_type": "code",
      "metadata": {
        "id": "bnCOOunGlDX6",
        "colab_type": "code",
        "colab": {}
      },
      "source": [
        ""
      ],
      "execution_count": 0,
      "outputs": []
    }
  ]
}