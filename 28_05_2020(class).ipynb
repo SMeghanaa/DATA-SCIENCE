{
  "nbformat": 4,
  "nbformat_minor": 0,
  "metadata": {
    "colab": {
      "name": "28-05-2020(class).ipynb",
      "provenance": [],
      "authorship_tag": "ABX9TyM6jeBbi7EljorUy5wANWfI",
      "include_colab_link": true
    },
    "kernelspec": {
      "name": "python3",
      "display_name": "Python 3"
    }
  },
  "cells": [
    {
      "cell_type": "markdown",
      "metadata": {
        "id": "view-in-github",
        "colab_type": "text"
      },
      "source": [
        "<a href=\"https://colab.research.google.com/github/SMeghanaa/DATA-SCIENCE/blob/master/28_05_2020(class).ipynb\" target=\"_parent\"><img src=\"https://colab.research.google.com/assets/colab-badge.svg\" alt=\"Open In Colab\"/></a>"
      ]
    },
    {
      "cell_type": "markdown",
      "metadata": {
        "id": "GgEOPwSHY8TK",
        "colab_type": "text"
      },
      "source": [
        "##Strings\n",
        "Strings and String Built-in methods\n",
        "we can create strings simply by enclosing characters in quotes. Python treats single quotes the same as double quotes.\n"
      ]
    },
    {
      "cell_type": "code",
      "metadata": {
        "id": "_LmYeHpUX1BD",
        "colab_type": "code",
        "outputId": "a6d06f57-dc4f-4e15-d9b5-e1f30e9d17b6",
        "colab": {
          "base_uri": "https://localhost:8080/",
          "height": 34
        }
      },
      "source": [
        "var1='hello'\n",
        "var2=\"python\"\n",
        "print(var1,var2)\n"
      ],
      "execution_count": 0,
      "outputs": [
        {
          "output_type": "stream",
          "text": [
            "hello python\n"
          ],
          "name": "stdout"
        }
      ]
    },
    {
      "cell_type": "markdown",
      "metadata": {
        "id": "VGxJJKEr_3Vi",
        "colab_type": "text"
      },
      "source": [
        "####String Special Operators: +,*,[],[:],in,not in"
      ]
    },
    {
      "cell_type": "code",
      "metadata": {
        "id": "INC_MIBDavgc",
        "colab_type": "code",
        "colab": {
          "base_uri": "https://localhost:8080/",
          "height": 102
        },
        "outputId": "d63047e1-1906-4ab0-c071-daaa69b5fd8b"
      },
      "source": [
        "s1='zzzzz'\n",
        "s2=\"good afternoon\"\n",
        "print(s1+s2)  #add\n",
        "print(s1*2)   #repition,samw word can be repeated\n",
        "print(s1[4])   #slicing, deleted the first 4 letters\n",
        "print(s1[-1])  #displays the letter in the revere order\n",
        " print(s2[2:]) #start:stop:length"
      ],
      "execution_count": 41,
      "outputs": [
        {
          "output_type": "stream",
          "text": [
            "zzzzzgood afternoon\n",
            "zzzzzzzzzz\n",
            "od afternoon\n",
            "z\n",
            "z\n"
          ],
          "name": "stdout"
        }
      ]
    },
    {
      "cell_type": "code",
      "metadata": {
        "id": "MHByS8jwDA2H",
        "colab_type": "code",
        "colab": {
          "base_uri": "https://localhost:8080/",
          "height": 51
        },
        "outputId": "54f4c553-37eb-47a2-95c9-2ce9bbf447b1"
      },
      "source": [
        "s3='python'\n",
        "print('on' in s3)\n",
        "print('on' not in s3)"
      ],
      "execution_count": 27,
      "outputs": [
        {
          "output_type": "stream",
          "text": [
            "True\n",
            "False\n"
          ],
          "name": "stdout"
        }
      ]
    },
    {
      "cell_type": "markdown",
      "metadata": {
        "id": "kDOst6ssDhq6",
        "colab_type": "text"
      },
      "source": [
        "#####Palindrome"
      ]
    },
    {
      "cell_type": "code",
      "metadata": {
        "id": "Z_BAf4f6DV0m",
        "colab_type": "code",
        "colab": {
          "base_uri": "https://localhost:8080/",
          "height": 51
        },
        "outputId": "9a7643c9-68b5-460d-e462-fb772b45f4b8"
      },
      "source": [
        "s4=input('Enter a string')\n",
        "if s4==s4[: :-1]:\n",
        "  print(\"Its a palindrome\")\n",
        "else:\n",
        "  print(\"Its not a palindrome\")"
      ],
      "execution_count": 43,
      "outputs": [
        {
          "output_type": "stream",
          "text": [
            "Enter a stringmom\n",
            "Its a palindrome\n"
          ],
          "name": "stdout"
        }
      ]
    },
    {
      "cell_type": "markdown",
      "metadata": {
        "id": "OCbFN_c3FRy2",
        "colab_type": "text"
      },
      "source": [
        "####String Built-in Functions: len(),min(),max(),str()"
      ]
    },
    {
      "cell_type": "code",
      "metadata": {
        "id": "mQ6Sh_3qFUoJ",
        "colab_type": "code",
        "colab": {
          "base_uri": "https://localhost:8080/",
          "height": 85
        },
        "outputId": "5f14ab97-c72b-4ba4-ae75-57447f9945e3"
      },
      "source": [
        "s='sTrawberry123'\n",
        "s5='289'\n",
        "print(len(s))\n",
        "print(min(s))\n",
        "print(max(s5))\n",
        "print(str(s))"
      ],
      "execution_count": 70,
      "outputs": [
        {
          "output_type": "stream",
          "text": [
            "13\n",
            "1\n",
            "9\n",
            "sTrawberry123\n"
          ],
          "name": "stdout"
        }
      ]
    },
    {
      "cell_type": "markdown",
      "metadata": {
        "id": "dZbamscQGIje",
        "colab_type": "text"
      },
      "source": [
        "####String Built-in Methods : capitalize(),index(),isalpha(),isdigit(),isalnum(),isupper(),islower(),upper(),lower(),startswith(),find(),count(),replace(present,new,how-many)"
      ]
    },
    {
      "cell_type": "markdown",
      "metadata": {
        "id": "PZoqLfF-JXBA",
        "colab_type": "text"
      },
      "source": [
        ""
      ]
    },
    {
      "cell_type": "code",
      "metadata": {
        "id": "0Sv4-LG8GLkQ",
        "colab_type": "code",
        "colab": {
          "base_uri": "https://localhost:8080/",
          "height": 187
        },
        "outputId": "2c0b20ef-33c0-4204-f970-30ae095696ae"
      },
      "source": [
        "#s=strawberry123\n",
        "#s5=289\n",
        "print(s.index('w'))\n",
        "print(s.capitalize()) #capitalizes the first letter only, takes no arguments\n",
        "print(s.isalpha())\n",
        "print(s.isdigit())\n",
        "print(s5.isalnum())\n",
        "print(s5.isupper())\n",
        "print(s.islower())\n",
        "print(s.upper())\n",
        "print(s.lower())"
      ],
      "execution_count": 73,
      "outputs": [
        {
          "output_type": "stream",
          "text": [
            "4\n",
            "Strawberry123\n",
            "False\n",
            "False\n",
            "True\n",
            "False\n",
            "False\n",
            "STRAWBERRY123\n",
            "strawberry123\n",
            "3\n"
          ],
          "name": "stdout"
        }
      ]
    },
    {
      "cell_type": "code",
      "metadata": {
        "id": "mRXJhia9IXud",
        "colab_type": "code",
        "colab": {
          "base_uri": "https://localhost:8080/",
          "height": 85
        },
        "outputId": "02abf6f4-7922-49e5-ec4e-eef3d34f8606"
      },
      "source": [
        "print(s.find('y'))   #prints the first occurence index\n",
        "print(s.startswith('s'))  #checks if the string starts with the given letter\n",
        "print(s.count('r'))\n",
        "print(s.replace('a','g'))"
      ],
      "execution_count": 82,
      "outputs": [
        {
          "output_type": "stream",
          "text": [
            "9\n",
            "True\n",
            "3\n",
            "sTrgwberry123\n"
          ],
          "name": "stdout"
        }
      ]
    },
    {
      "cell_type": "code",
      "metadata": {
        "id": "EaB4vZTYJoH6",
        "colab_type": "code",
        "colab": {
          "base_uri": "https://localhost:8080/",
          "height": 68
        },
        "outputId": "beaa7830-7684-469a-af9a-3ad90261ce9a"
      },
      "source": [
        "s=input(\"Enter the string:\")\n",
        "p=int(input(\"Enter the position\"))\n",
        "print(s.replace(s[p-1],\"\",1))               #1 specifies how many letters have to be replaces\n"
      ],
      "execution_count": 90,
      "outputs": [
        {
          "output_type": "stream",
          "text": [
            "Enter the string:abcabc\n",
            "Enter the position3\n",
            "ababc\n"
          ],
          "name": "stdout"
        }
      ]
    },
    {
      "cell_type": "markdown",
      "metadata": {
        "id": "tgJtWAOZK9Fk",
        "colab_type": "text"
      },
      "source": [
        "#### For Loop\n",
        "We can use for loop in 2 different ways:\n",
        " - using range()\n",
        " - using iterable object\n",
        " \n",
        "---\n",
        "**Syntax:**\n",
        "- for variable in range(start,stop,step):\n",
        "    \t\tStatements\n",
        "---\n",
        "- for variable in iterable-obj:\n",
        "      statements"
      ]
    },
    {
      "cell_type": "code",
      "metadata": {
        "id": "CbFxkSGKLvWa",
        "colab_type": "code",
        "colab": {
          "base_uri": "https://localhost:8080/",
          "height": 51
        },
        "outputId": "f279ba37-625f-441d-a1cd-4d7bf4066ecb"
      },
      "source": [
        "n=5\n",
        "for i in range(0,5):\n",
        "  print(i,end=\" \")\n",
        "print(i)\n",
        "\n",
        "i=1\n",
        "while i<n:\n",
        "  i+=2\n",
        "  print(i,end=\" \")"
      ],
      "execution_count": 95,
      "outputs": [
        {
          "output_type": "stream",
          "text": [
            "0 1 2 3 4 4\n",
            "3 5 "
          ],
          "name": "stdout"
        }
      ]
    },
    {
      "cell_type": "code",
      "metadata": {
        "id": "UIgbVkLqMG_Y",
        "colab_type": "code",
        "colab": {
          "base_uri": "https://localhost:8080/",
          "height": 102
        },
        "outputId": "b3e6a98b-2b84-46c6-bbce-bc59f4b4e92e"
      },
      "source": [
        "s='hello'\n",
        "for i in s:\n",
        "  print(i,end=\" \")\n",
        "print(\"\\n\")\n",
        "i=0\n",
        "while i< len(s):\n",
        "  print(s[i],end=\"  \")\n",
        "  i+=1\n",
        "print(\"\\n\")\n",
        "for j in range(0,len(s)):\n",
        "  print(s[j],end=\" \")\n"
      ],
      "execution_count": 107,
      "outputs": [
        {
          "output_type": "stream",
          "text": [
            "h e l l o \n",
            "\n",
            "h  e  l  l  o  \n",
            "\n",
            "h e l l o "
          ],
          "name": "stdout"
        }
      ]
    },
    {
      "cell_type": "code",
      "metadata": {
        "id": "FuNUQpnRMyMq",
        "colab_type": "code",
        "colab": {}
      },
      "source": [
        ""
      ],
      "execution_count": 0,
      "outputs": []
    }
  ]
}