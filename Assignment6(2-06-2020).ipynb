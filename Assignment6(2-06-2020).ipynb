{
  "nbformat": 4,
  "nbformat_minor": 0,
  "metadata": {
    "colab": {
      "name": "Assignment6(2-06-2020).ipynb",
      "provenance": [],
      "collapsed_sections": [],
      "authorship_tag": "ABX9TyNa7xGIbFHtAtFKIVJex/Ng",
      "include_colab_link": true
    },
    "kernelspec": {
      "name": "python3",
      "display_name": "Python 3"
    }
  },
  "cells": [
    {
      "cell_type": "markdown",
      "metadata": {
        "id": "view-in-github",
        "colab_type": "text"
      },
      "source": [
        "<a href=\"https://colab.research.google.com/github/SMeghanaa/DATA-SCIENCE/blob/master/Assignment6(2-06-2020).ipynb\" target=\"_parent\"><img src=\"https://colab.research.google.com/assets/colab-badge.svg\" alt=\"Open In Colab\"/></a>"
      ]
    },
    {
      "cell_type": "markdown",
      "metadata": {
        "id": "gjoiqPUmPbla",
        "colab_type": "text"
      },
      "source": [
        "###Nine Lives Problem!"
      ]
    },
    {
      "cell_type": "code",
      "metadata": {
        "id": "QX7mjR8mItVx",
        "colab_type": "code",
        "colab": {}
      },
      "source": [
        "import random\n",
        "import string"
      ],
      "execution_count": 0,
      "outputs": []
    },
    {
      "cell_type": "code",
      "metadata": {
        "id": "rEaXKNIaIpP-",
        "colab_type": "code",
        "colab": {
          "base_uri": "https://localhost:8080/",
          "height": 345
        },
        "outputId": "243106ca-d74e-4560-ab8f-3e98c984e86f"
      },
      "source": [
        "\n",
        "w=['president','pizza','friends','sheep','fries','books','entry','burger','corn','glasses']\n",
        "lives=9\n",
        "guess='no'\n",
        "word=random.choice(w)\n",
        "clue=list('?'*len(word))\n",
        "def update(letter,word,clue):\n",
        "    index=0\n",
        "    while index<len(word):\n",
        "        if letter==word[index]:\n",
        "            clue[index]=letter\n",
        "        index=index+1\n",
        "while lives!=0:\n",
        "        print(clue)\n",
        "        print('Lives left: ',lives)\n",
        "        letter=input(\"Guess a letter or a whole word: \")\n",
        "        if letter==word:\n",
        "            guess='yes'\n",
        "            break\n",
        "        if letter in word:\n",
        "           update(letter,word,clue)\n",
        "        else:\n",
        "           print(\"oho!you loose a life!\")\n",
        "           lives=lives-1\n",
        "if guess=='yes':\n",
        "  print(\"Yayy, You guessed it correct! The word is: \",word)\n",
        "else:\n",
        "  print(\"oops! You lost, The word is: \",word)"
      ],
      "execution_count": 27,
      "outputs": [
        {
          "output_type": "stream",
          "text": [
            "['?', '?', '?', '?', '?']\n",
            "Lives left:  9\n",
            "Guess a letter or a whole word: f\n",
            "oho!you loose a life!\n",
            "['?', '?', '?', '?', '?']\n",
            "Lives left:  8\n",
            "Guess a letter or a whole word: p\n",
            "['?', '?', '?', '?', 'p']\n",
            "Lives left:  8\n",
            "Guess a letter or a whole word: i\n",
            "oho!you loose a life!\n",
            "['?', '?', '?', '?', 'p']\n",
            "Lives left:  7\n",
            "Guess a letter or a whole word: e\n",
            "['?', '?', 'e', 'e', 'p']\n",
            "Lives left:  7\n",
            "Guess a letter or a whole word: sheep\n",
            "Yayy, You guessed it correct! The word is:  sheep\n"
          ],
          "name": "stdout"
        }
      ]
    }
  ]
}