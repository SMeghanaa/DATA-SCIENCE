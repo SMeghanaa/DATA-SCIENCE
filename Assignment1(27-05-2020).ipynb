{
  "nbformat": 4,
  "nbformat_minor": 0,
  "metadata": {
    "colab": {
      "name": "Assignment1.ipynb",
      "provenance": [],
      "collapsed_sections": []
    },
    "kernelspec": {
      "name": "python3",
      "display_name": "Python 3"
    }
  },
  "cells": [
    {
      "cell_type": "markdown",
      "metadata": {
        "id": "eMrLg4loquM7",
        "colab_type": "text"
      },
      "source": [
        "##Pattern"
      ]
    },
    {
      "cell_type": "code",
      "metadata": {
        "id": "v58Gnsb0q2WC",
        "colab_type": "code",
        "outputId": "37799772-ca33-483a-ae1f-a19bef908300",
        "colab": {
          "base_uri": "https://localhost:8080/",
          "height": 102
        }
      },
      "source": [
        " def part(n):\n",
        "     for i in range(1,n+1):\n",
        "         for j in range(1,i+1):\n",
        "              print(\"* \",end=\" \")\n",
        "         print(\"\\r\")\n",
        " part(5)\n",
        "    "
      ],
      "execution_count": 0,
      "outputs": [
        {
          "output_type": "stream",
          "text": [
            "*  \r\n",
            "*  *  \r\n",
            "*  *  *  \r\n",
            "*  *  *  *  \r\n",
            "*  *  *  *  *  \r\n"
          ],
          "name": "stdout"
        }
      ]
    },
    {
      "cell_type": "markdown",
      "metadata": {
        "id": "InFhGpSQPHLu",
        "colab_type": "text"
      },
      "source": [
        "##Multiplication of k"
      ]
    },
    {
      "cell_type": "code",
      "metadata": {
        "id": "KA3j4KQSP94S",
        "colab_type": "code",
        "outputId": "fdbb2fc0-a3dd-4f3a-fb68-c67f046a8503",
        "colab": {
          "base_uri": "https://localhost:8080/",
          "height": 204
        }
      },
      "source": [
        " k=int(input(\"Enter a number\"))\n",
        "\n",
        "for i in range(1,11):\n",
        "      print(k,\"*\",i,\"=\",k*i) \n"
      ],
      "execution_count": 0,
      "outputs": [
        {
          "output_type": "stream",
          "text": [
            "Enter a number3\n",
            "3 * 1 = 3\n",
            "3 * 2 = 6\n",
            "3 * 3 = 9\n",
            "3 * 4 = 12\n",
            "3 * 5 = 15\n",
            "3 * 6 = 18\n",
            "3 * 7 = 21\n",
            "3 * 8 = 24\n",
            "3 * 9 = 27\n",
            "3 * 10 = 30\n"
          ],
          "name": "stdout"
        }
      ]
    },
    {
      "cell_type": "markdown",
      "metadata": {
        "id": "tOqVBMCxjCMU",
        "colab_type": "text"
      },
      "source": [
        "##Roots of a quadratic equation"
      ]
    },
    {
      "cell_type": "code",
      "metadata": {
        "id": "U9ayfU51jIJc",
        "colab_type": "code",
        "outputId": "4f4d7205-79e5-4a88-fe13-fc22a832ce76",
        "colab": {
          "base_uri": "https://localhost:8080/",
          "height": 85
        }
      },
      "source": [
        "from math import sqrt\n",
        "a=int(input(\"Enter a:\"))\n",
        "b=int(input(\"Enter b:\"))\n",
        "c=int(input(\"enter c:\"))\n",
        "d=b** - 4*a*c\n",
        "if d>0:\n",
        "  x1=((-b)-(sqrt(d))/(2*a))\n",
        "  x2=((-b)+(sqrt(d))/(2*a))\n",
        "  print(\"roots are:\",x1,\"and\",x2)\n",
        "elif d==0:\n",
        "   x1=((-b)/(2*a))\n",
        "   print(\"The root is:\",x1)\n",
        "else:\n",
        "  print(\"No roots\")\n"
      ],
      "execution_count": 0,
      "outputs": [
        {
          "output_type": "stream",
          "text": [
            "Enter a1\n",
            "Enter b1\n",
            "enter c1\n",
            "roots are: -1.5 and -0.5\n"
          ],
          "name": "stdout"
        }
      ]
    },
    {
      "cell_type": "markdown",
      "metadata": {
        "id": "ekr4Ylazrlec",
        "colab_type": "text"
      },
      "source": [
        "##Decimal to Binary"
      ]
    },
    {
      "cell_type": "code",
      "metadata": {
        "id": "2VRS4IYZr5yI",
        "colab_type": "code",
        "outputId": "64ea648c-b22d-4d4c-fc50-efd0dea868b4",
        "colab": {
          "base_uri": "https://localhost:8080/",
          "height": 51
        }
      },
      "source": [
        "a=int(input(\"Enter a decimal number\"))\n",
        "def binary(a):\n",
        " if a>1:\n",
        "    binary(a//2)\n",
        " print(a%2,end=\" \")\n",
        "binary(a)\n"
      ],
      "execution_count": 0,
      "outputs": [
        {
          "output_type": "stream",
          "text": [
            "Enter a decimal number42\n",
            "1 0 1 0 1 0 "
          ],
          "name": "stdout"
        }
      ]
    },
    {
      "cell_type": "markdown",
      "metadata": {
        "id": "NsnB184UOs-M",
        "colab_type": "text"
      },
      "source": [
        "##Fibonacci Series for n numbers"
      ]
    },
    {
      "cell_type": "code",
      "metadata": {
        "id": "5OUbUMnhOsNu",
        "colab_type": "code",
        "outputId": "7cdcc144-8e57-4e77-bc6a-bc330325cbb8",
        "colab": {
          "base_uri": "https://localhost:8080/",
          "height": 51
        }
      },
      "source": [
        "n=int(input(\"Enter number:\"))\n",
        "a,b=0,1\n",
        "print( \"The series is:\",a,b,end=\" \")\n",
        "count=0;\n",
        "for i in range(2,n):\n",
        "    c=a+b\n",
        "    a=b\n",
        "    b=c\n",
        "    print(c,end=\" \")\n",
        "    count+=1"
      ],
      "execution_count": 15,
      "outputs": [
        {
          "output_type": "stream",
          "text": [
            "Enter number:8\n",
            "The series is: 0 1 1 2 3 5 8 13 "
          ],
          "name": "stdout"
        }
      ]
    }
  ]
}