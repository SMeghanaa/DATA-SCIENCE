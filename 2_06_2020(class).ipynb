{
  "nbformat": 4,
  "nbformat_minor": 0,
  "metadata": {
    "colab": {
      "name": "2-06-2020(class).ipynb",
      "provenance": [],
      "collapsed_sections": [],
      "authorship_tag": "ABX9TyMiKlJIDqoqcjrEvrEt5HrR",
      "include_colab_link": true
    },
    "kernelspec": {
      "name": "python3",
      "display_name": "Python 3"
    }
  },
  "cells": [
    {
      "cell_type": "markdown",
      "metadata": {
        "id": "view-in-github",
        "colab_type": "text"
      },
      "source": [
        "<a href=\"https://colab.research.google.com/github/SMeghanaa/DATA-SCIENCE/blob/master/2_06_2020(class).ipynb\" target=\"_parent\"><img src=\"https://colab.research.google.com/assets/colab-badge.svg\" alt=\"Open In Colab\"/></a>"
      ]
    },
    {
      "cell_type": "code",
      "metadata": {
        "id": "5fysHmgRVgY1",
        "colab_type": "code",
        "outputId": "e778b0e8-d8f8-4c7f-9a05-e2ac8153b2e0",
        "colab": {
          "base_uri": "https://localhost:8080/",
          "height": 35
        }
      },
      "source": [
        "list1=list(range(1,11))\n",
        "list1\n",
        "list2=[]\n",
        "for i in list1:\n",
        "  if i%2==0:\n",
        "    list2.append(i)\n",
        "list2    "
      ],
      "execution_count": 0,
      "outputs": [
        {
          "output_type": "execute_result",
          "data": {
            "text/plain": [
              "[2, 4, 6, 8, 10]"
            ]
          },
          "metadata": {
            "tags": []
          },
          "execution_count": 2
        }
      ]
    },
    {
      "cell_type": "code",
      "metadata": {
        "id": "621J8w2MXLzn",
        "colab_type": "code",
        "colab": {}
      },
      "source": [
        "#list comprehension\n",
        "list3=[i for i in list1 if i%2==0]"
      ],
      "execution_count": 0,
      "outputs": []
    },
    {
      "cell_type": "code",
      "metadata": {
        "id": "CELnVfE5aLmo",
        "colab_type": "code",
        "outputId": "70b7091f-8e16-4590-ee8f-cef3608c10ff",
        "colab": {
          "base_uri": "https://localhost:8080/",
          "height": 54
        }
      },
      "source": [
        "#accept string as an input and print the digits and their count\n",
        "#using list comprehension\n",
        "#input:\"hello 12345\"\n",
        "#output: [1,2,3,4,5]5\n",
        "\n",
        "string=input(\"Enter a string: \")\n",
        "list4=[ch for ch in string if ch.isdigit()]\n",
        "print(list4,len(list4))"
      ],
      "execution_count": 0,
      "outputs": [
        {
          "output_type": "stream",
          "text": [
            "Enter a string: hello 12345\n",
            "['1', '2', '3', '4', '5'] 5\n"
          ],
          "name": "stdout"
        }
      ]
    },
    {
      "cell_type": "code",
      "metadata": {
        "id": "LLD122OAm7Hw",
        "colab_type": "code",
        "outputId": "e66d9e47-bae6-4b80-9d1b-5d407f2d71cd",
        "colab": {
          "base_uri": "https://localhost:8080/",
          "height": 35
        }
      },
      "source": [
        "list5=list(range(1,11))\n",
        "list6=list(range(11,21))\n",
        "print(list5,list6)"
      ],
      "execution_count": 0,
      "outputs": [
        {
          "output_type": "stream",
          "text": [
            "[1, 2, 3, 4, 5, 6, 7, 8, 9, 10] [11, 12, 13, 14, 15, 16, 17, 18, 19, 20]\n"
          ],
          "name": "stdout"
        }
      ]
    },
    {
      "cell_type": "code",
      "metadata": {
        "id": "GJZWGvrYnNkj",
        "colab_type": "code",
        "outputId": "4567ec36-494e-4194-94fe-5065ae20aaf9",
        "colab": {
          "base_uri": "https://localhost:8080/",
          "height": 35
        }
      },
      "source": [
        "result=[list5[i]+list6[i] for i in range(len(list5))]\n",
        "result"
      ],
      "execution_count": 0,
      "outputs": [
        {
          "output_type": "execute_result",
          "data": {
            "text/plain": [
              "[12, 14, 16, 18, 20, 22, 24, 26, 28, 30]"
            ]
          },
          "metadata": {
            "tags": []
          },
          "execution_count": 18
        }
      ]
    },
    {
      "cell_type": "code",
      "metadata": {
        "id": "yCCzuZ3jnc_n",
        "colab_type": "code",
        "outputId": "0186c961-0c81-4333-a498-e74d24c2b4b9",
        "colab": {
          "base_uri": "https://localhost:8080/",
          "height": 35
        }
      },
      "source": [
        "result=[x+y for x,y in zip(list5,list6)]\n",
        "result"
      ],
      "execution_count": 0,
      "outputs": [
        {
          "output_type": "execute_result",
          "data": {
            "text/plain": [
              "[12, 14, 16, 18, 20, 22, 24, 26, 28, 30]"
            ]
          },
          "metadata": {
            "tags": []
          },
          "execution_count": 22
        }
      ]
    },
    {
      "cell_type": "markdown",
      "metadata": {
        "id": "iRt9wNoafOnR",
        "colab_type": "text"
      },
      "source": [
        "###Anonymous functions\n",
        "####Lambda function\n",
        "\n",
        "- lambda function : logic"
      ]
    },
    {
      "cell_type": "code",
      "metadata": {
        "id": "Mw4xf-GMdSWj",
        "colab_type": "code",
        "outputId": "ac74c747-ea33-43ea-d511-dc571da2c9f6",
        "colab": {
          "base_uri": "https://localhost:8080/",
          "height": 35
        }
      },
      "source": [
        "add=lambda x,y : x+y\n",
        "add(10,20)"
      ],
      "execution_count": 0,
      "outputs": [
        {
          "output_type": "execute_result",
          "data": {
            "text/plain": [
              "30"
            ]
          },
          "metadata": {
            "tags": []
          },
          "execution_count": 6
        }
      ]
    },
    {
      "cell_type": "code",
      "metadata": {
        "id": "0-fSl0jmfBha",
        "colab_type": "code",
        "outputId": "7b46e59a-7e84-4ef0-eb4e-94b759271907",
        "colab": {
          "base_uri": "https://localhost:8080/",
          "height": 35
        }
      },
      "source": [
        "s= lambda x: x**2\n",
        "s(12)"
      ],
      "execution_count": 0,
      "outputs": [
        {
          "output_type": "execute_result",
          "data": {
            "text/plain": [
              "144"
            ]
          },
          "metadata": {
            "tags": []
          },
          "execution_count": 23
        }
      ]
    },
    {
      "cell_type": "markdown",
      "metadata": {
        "id": "sPlnTU49fdyX",
        "colab_type": "text"
      },
      "source": [
        "###map()"
      ]
    },
    {
      "cell_type": "code",
      "metadata": {
        "id": "aWZ48uocfhT9",
        "colab_type": "code",
        "outputId": "fdfb7d41-3d99-4e67-fda6-60ffe93e23c0",
        "colab": {
          "base_uri": "https://localhost:8080/",
          "height": 35
        }
      },
      "source": [
        "list6=list(range(1,11))\n",
        "list6"
      ],
      "execution_count": 0,
      "outputs": [
        {
          "output_type": "execute_result",
          "data": {
            "text/plain": [
              "[1, 2, 3, 4, 5, 6, 7, 8, 9, 10]"
            ]
          },
          "metadata": {
            "tags": []
          },
          "execution_count": 8
        }
      ]
    },
    {
      "cell_type": "code",
      "metadata": {
        "id": "X9mO5sIxfnS5",
        "colab_type": "code",
        "outputId": "6e1504a2-4735-46cd-cc6b-dc9574e422c8",
        "colab": {
          "base_uri": "https://localhost:8080/",
          "height": 35
        }
      },
      "source": [
        "#output:[2,4,6,8,10,12,14,16,18,20]\n",
        "result=[i*2 for i in list6]\n",
        "result"
      ],
      "execution_count": 0,
      "outputs": [
        {
          "output_type": "execute_result",
          "data": {
            "text/plain": [
              "[2, 4, 6, 8, 10, 12, 14, 16, 18, 20]"
            ]
          },
          "metadata": {
            "tags": []
          },
          "execution_count": 9
        }
      ]
    },
    {
      "cell_type": "code",
      "metadata": {
        "id": "D65mYAGXf7oX",
        "colab_type": "code",
        "outputId": "61bffad9-2b38-4859-95e6-9d6dd27e93a3",
        "colab": {
          "base_uri": "https://localhost:8080/",
          "height": 35
        }
      },
      "source": [
        "#map(function_name,iterable object)\n",
        "map(lambda i: i*2,list6)"
      ],
      "execution_count": 0,
      "outputs": [
        {
          "output_type": "execute_result",
          "data": {
            "text/plain": [
              "<map at 0x7f8c918cdf28>"
            ]
          },
          "metadata": {
            "tags": []
          },
          "execution_count": 10
        }
      ]
    },
    {
      "cell_type": "code",
      "metadata": {
        "id": "d2Gj56oQg2af",
        "colab_type": "code",
        "outputId": "614bbbba-9d37-498f-f14e-c5f77da16682",
        "colab": {
          "base_uri": "https://localhost:8080/",
          "height": 35
        }
      },
      "source": [
        "result=list(map(lambda i: i*2,list6))\n",
        "result"
      ],
      "execution_count": 0,
      "outputs": [
        {
          "output_type": "execute_result",
          "data": {
            "text/plain": [
              "[2, 4, 6, 8, 10, 12, 14, 16, 18, 20]"
            ]
          },
          "metadata": {
            "tags": []
          },
          "execution_count": 11
        }
      ]
    },
    {
      "cell_type": "code",
      "metadata": {
        "id": "TGHj2FZ0hAvX",
        "colab_type": "code",
        "outputId": "9334c048-823d-46d0-fed7-112ae0283e06",
        "colab": {
          "base_uri": "https://localhost:8080/",
          "height": 35
        }
      },
      "source": [
        "'10 20 30'.split()"
      ],
      "execution_count": 0,
      "outputs": [
        {
          "output_type": "execute_result",
          "data": {
            "text/plain": [
              "['10', '20', '30']"
            ]
          },
          "metadata": {
            "tags": []
          },
          "execution_count": 12
        }
      ]
    },
    {
      "cell_type": "code",
      "metadata": {
        "id": "zr91UbyPhKD7",
        "colab_type": "code",
        "outputId": "ba4114c0-1739-4c7b-c3ed-0faa7fa6d36f",
        "colab": {
          "base_uri": "https://localhost:8080/",
          "height": 54
        }
      },
      "source": [
        "#unpacking\n",
        "x,y,z=list(map(int,input(\"enter your input: \").split()))\n",
        "print(x,y,z)"
      ],
      "execution_count": 0,
      "outputs": [
        {
          "output_type": "stream",
          "text": [
            "enter your input: 10 20 30\n",
            "10 20 30\n"
          ],
          "name": "stdout"
        }
      ]
    },
    {
      "cell_type": "markdown",
      "metadata": {
        "id": "hCzoOCH0jx4l",
        "colab_type": "text"
      },
      "source": [
        "###filter()"
      ]
    },
    {
      "cell_type": "code",
      "metadata": {
        "id": "CCzxBnuZjzsj",
        "colab_type": "code",
        "outputId": "d751dbdb-271e-4307-b8db-9b2b9c84b7e6",
        "colab": {
          "base_uri": "https://localhost:8080/",
          "height": 35
        }
      },
      "source": [
        "result=[]\n",
        "for i in list6:\n",
        "  if i%5==0:\n",
        "    result.append(i)\n",
        "result"
      ],
      "execution_count": 0,
      "outputs": [
        {
          "output_type": "execute_result",
          "data": {
            "text/plain": [
              "[15, 20]"
            ]
          },
          "metadata": {
            "tags": []
          },
          "execution_count": 26
        }
      ]
    },
    {
      "cell_type": "code",
      "metadata": {
        "id": "P-LXC_hjkEvV",
        "colab_type": "code",
        "outputId": "9290459a-05e5-4214-b5c6-2409fc527859",
        "colab": {
          "base_uri": "https://localhost:8080/",
          "height": 35
        }
      },
      "source": [
        "list(filter(lambda x: (x%3==0),list6))"
      ],
      "execution_count": 0,
      "outputs": [
        {
          "output_type": "execute_result",
          "data": {
            "text/plain": [
              "[12, 15, 18]"
            ]
          },
          "metadata": {
            "tags": []
          },
          "execution_count": 27
        }
      ]
    },
    {
      "cell_type": "markdown",
      "metadata": {
        "id": "L-ZuOaa9kkIh",
        "colab_type": "text"
      },
      "source": [
        "###reduce()"
      ]
    },
    {
      "cell_type": "code",
      "metadata": {
        "id": "20OoM-hgkl_K",
        "colab_type": "code",
        "colab": {}
      },
      "source": [
        "from functools import reduce\n"
      ],
      "execution_count": 0,
      "outputs": []
    },
    {
      "cell_type": "code",
      "metadata": {
        "id": "ySMNhY1gl9zH",
        "colab_type": "code",
        "outputId": "c3c7aa4b-ed1d-412f-c75c-954e206ccad0",
        "colab": {
          "base_uri": "https://localhost:8080/",
          "height": 35
        }
      },
      "source": [
        "#traditional\n",
        "list1=[1,2,3,4,5]\n",
        "#output=120\n",
        "m=1\n",
        "for i in list1:\n",
        "  m*=i\n",
        "print(m)"
      ],
      "execution_count": 0,
      "outputs": [
        {
          "output_type": "stream",
          "text": [
            "120\n"
          ],
          "name": "stdout"
        }
      ]
    },
    {
      "cell_type": "code",
      "metadata": {
        "id": "hc-5dTvir1zI",
        "colab_type": "code",
        "outputId": "f8c46ec5-b843-4b8e-ff5a-9496f6b5d1f0",
        "colab": {
          "base_uri": "https://localhost:8080/",
          "height": 35
        }
      },
      "source": [
        "arr = [[1, 2, 3, 4],[4, 5, 6, 7],[8, 9, 10, 11],[12, 13, 14, 15]]\n",
        "\n",
        "for i in range(1, 4):\n",
        "\n",
        "    print(arr[i].pop(),end=\" \")"
      ],
      "execution_count": 0,
      "outputs": [
        {
          "output_type": "stream",
          "text": [
            "7 11 15 "
          ],
          "name": "stdout"
        }
      ]
    },
    {
      "cell_type": "code",
      "metadata": {
        "id": "cLyF0UMXmPVh",
        "colab_type": "code",
        "outputId": "0ccf9d8e-0c08-400c-89c9-a3d7b3a0cefd",
        "colab": {
          "base_uri": "https://localhost:8080/",
          "height": 35
        }
      },
      "source": [
        "reduce(lambda x,y:x*y,list1)"
      ],
      "execution_count": 0,
      "outputs": [
        {
          "output_type": "execute_result",
          "data": {
            "text/plain": [
              "120"
            ]
          },
          "metadata": {
            "tags": []
          },
          "execution_count": 16
        }
      ]
    }
  ]
}