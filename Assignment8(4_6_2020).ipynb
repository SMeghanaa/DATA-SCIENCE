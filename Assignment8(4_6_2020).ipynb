{
  "nbformat": 4,
  "nbformat_minor": 0,
  "metadata": {
    "colab": {
      "name": "Assignment8(4-6-2020).ipynb",
      "provenance": [],
      "collapsed_sections": [],
      "authorship_tag": "ABX9TyN2DODaQ0iE/annCB7Enymi",
      "include_colab_link": true
    },
    "kernelspec": {
      "name": "python3",
      "display_name": "Python 3"
    }
  },
  "cells": [
    {
      "cell_type": "markdown",
      "metadata": {
        "id": "view-in-github",
        "colab_type": "text"
      },
      "source": [
        "<a href=\"https://colab.research.google.com/github/SMeghanaa/DATA-SCIENCE/blob/master/Assignment8(4_6_2020).ipynb\" target=\"_parent\"><img src=\"https://colab.research.google.com/assets/colab-badge.svg\" alt=\"Open In Colab\"/></a>"
      ]
    },
    {
      "cell_type": "markdown",
      "metadata": {
        "id": "7XU3dGcUZBdC",
        "colab_type": "text"
      },
      "source": [
        "####Question 1:\n",
        "[Reversing an Array] \n",
        "Write a NumPy program to reverse an array (first element becomes last). \n",
        "####Original array:\n",
        "[12 13 14 15 16 17 18 19 20 21 22 23 24 25 26 27 28 29 30 31 32 33 34 35 36 37]\n",
        "####Reverse array:\n",
        "[37 36 35 34 33 32 31 30 29 28 27 26 25 24 23 22 21 20 19 18 17 16 15 14 13 12]\n"
      ]
    },
    {
      "cell_type": "code",
      "metadata": {
        "id": "0PucF0dzYeEV",
        "colab_type": "code",
        "colab": {}
      },
      "source": [
        "import numpy as np"
      ],
      "execution_count": 0,
      "outputs": []
    },
    {
      "cell_type": "code",
      "metadata": {
        "id": "FAkldWx2ZWde",
        "colab_type": "code",
        "colab": {
          "base_uri": "https://localhost:8080/",
          "height": 102
        },
        "outputId": "dcc7af64-15d6-4916-b5a9-5e9d7f7e9624"
      },
      "source": [
        "a=np.array([12,13,14,15,16,17,18,19,20,21,22,23,24,25,26,27,28,29,30,31,32,33,34,35,36,37])\n",
        "print(a[::-1],\"\\n\")\n",
        "#or\n",
        "r= np.flipud(a)\n",
        "r"
      ],
      "execution_count": 7,
      "outputs": [
        {
          "output_type": "stream",
          "text": [
            "[37 36 35 34 33 32 31 30 29 28 27 26 25 24 23 22 21 20 19 18 17 16 15 14\n",
            " 13 12] \n",
            "\n"
          ],
          "name": "stdout"
        },
        {
          "output_type": "execute_result",
          "data": {
            "text/plain": [
              "array([37, 36, 35, 34, 33, 32, 31, 30, 29, 28, 27, 26, 25, 24, 23, 22, 21,\n",
              "       20, 19, 18, 17, 16, 15, 14, 13, 12])"
            ]
          },
          "metadata": {
            "tags": []
          },
          "execution_count": 7
        }
      ]
    },
    {
      "cell_type": "markdown",
      "metadata": {
        "id": "hl87-9KSrBIk",
        "colab_type": "text"
      },
      "source": [
        "####Question 2:\n",
        "[Make Border 1] \n",
        "Write a NumPy program to create a 2d array with 1 on the border and 0 inside. \n",
        "Original array:\n",
        "[[ 1. 1. 1. 1. 1.]\n",
        "...................\n",
        "[ 1. 1. 1. 1. 1.]]\n",
        "1 on the border and 0 inside in the array\n",
        "Expected output:\n",
        "[[ 1. 1. 1. 1. 1.]\n",
        " [1. 0. 0. 0. 1.]\n",
        "……………..\n",
        " [1. 0. 0. 0. 1.]\n",
        "[ 1. 1. 1. 1. 1.]]\n"
      ]
    },
    {
      "cell_type": "code",
      "metadata": {
        "id": "tbxe8SB5xWkc",
        "colab_type": "code",
        "colab": {
          "base_uri": "https://localhost:8080/",
          "height": 272
        },
        "outputId": "4d1b3c9d-f4e5-4b40-ea48-32afe36f0b26"
      },
      "source": [
        "a= np.ones((5,5))\n",
        "print(\"Original array:\\n\")\n",
        "print(a,\"\\n\")\n",
        "print(\"1 on the border and 0 inside in the array: \\n\")\n",
        "a[1:-1,1:-1] = 0\n",
        "print(a)"
      ],
      "execution_count": 17,
      "outputs": [
        {
          "output_type": "stream",
          "text": [
            "Original array:\n",
            "\n",
            "[[1. 1. 1. 1. 1.]\n",
            " [1. 1. 1. 1. 1.]\n",
            " [1. 1. 1. 1. 1.]\n",
            " [1. 1. 1. 1. 1.]\n",
            " [1. 1. 1. 1. 1.]] \n",
            "\n",
            "1 on the border and 0 inside in the array: \n",
            "\n",
            "[[1. 1. 1. 1. 1.]\n",
            " [1. 0. 0. 0. 1.]\n",
            " [1. 0. 0. 0. 1.]\n",
            " [1. 0. 0. 0. 1.]\n",
            " [1. 1. 1. 1. 1.]]\n"
          ],
          "name": "stdout"
        }
      ]
    },
    {
      "cell_type": "markdown",
      "metadata": {
        "id": "yrZIbd3SbD1J",
        "colab_type": "text"
      },
      "source": [
        "####Question 3:\n",
        "[Membership Test] \n",
        "Write a NumPy program to test whether each element of a 1-D array is also present in a second array.\n",
        "- Expected Output:\n",
        "  - Array1: [ 0 10 20 40 60]\n",
        "  - Array2: [0, 40]\n",
        "- Compare each element of array1 and array2\n",
        "- [ True False False True False]\n"
      ]
    },
    {
      "cell_type": "code",
      "metadata": {
        "id": "VvI6j8ZTadXB",
        "colab_type": "code",
        "colab": {
          "base_uri": "https://localhost:8080/",
          "height": 34
        },
        "outputId": "6bb27fbf-7288-4633-ac94-fe944ae23d0c"
      },
      "source": [
        "a1 = np.array([0, 10, 20, 40, 60])\n",
        "a1\n",
        "a2 = [0, 40]\n",
        "a2\n",
        "print(np.in1d(a1, a2))"
      ],
      "execution_count": 13,
      "outputs": [
        {
          "output_type": "stream",
          "text": [
            "[ True False False  True False]\n"
          ],
          "name": "stdout"
        }
      ]
    },
    {
      "cell_type": "markdown",
      "metadata": {
        "id": "EgI-eafIp01R",
        "colab_type": "text"
      },
      "source": [
        "####Question 4:\n",
        "[Set Difference] \n",
        "Write a NumPy program to find the set difference of two arrays. The set difference will return the sorted, unique values in array1 that are not in array2.\n",
        "- Expected Output:\n",
        " - Array1: [ 0 10 20 40 60 80]\n",
        " - Array2: [10, 30, 40, 50, 70, 90]\n",
        "- Set difference between two arrays:\n",
        " - [ 0 20 60 80]\n"
      ]
    },
    {
      "cell_type": "code",
      "metadata": {
        "id": "egDViULrp94a",
        "colab_type": "code",
        "colab": {
          "base_uri": "https://localhost:8080/",
          "height": 34
        },
        "outputId": "2913e87d-6de4-4bcd-9a45-4f03151d7ec6"
      },
      "source": [
        "a1 = np.array([0,10,20,40,60,80])\n",
        "a1\n",
        "a2=[10,30,40,50,70,90]\n",
        "a2\n",
        "print(np.setdiff1d(a1,a2))"
      ],
      "execution_count": 11,
      "outputs": [
        {
          "output_type": "stream",
          "text": [
            "[ 0 20 60 80]\n"
          ],
          "name": "stdout"
        }
      ]
    },
    {
      "cell_type": "markdown",
      "metadata": {
        "id": "PdgGVC8aqH1O",
        "colab_type": "text"
      },
      "source": [
        "####Question 5:\n",
        "[Formation of Diagonal Matrix] \n",
        "Write a NumPy program to create a 2-D array whose diagonal equals [4, 5, 6, 8] and 0's elsewhere.\n",
        "####Expected Output:\n",
        "[[4 0 0 0]\n",
        "[0 5 0 0]\n",
        "[0 0 6 0]\n",
        "[0 0 0 8]]\n"
      ]
    },
    {
      "cell_type": "code",
      "metadata": {
        "id": "_SWyrn7PqRCe",
        "colab_type": "code",
        "colab": {
          "base_uri": "https://localhost:8080/",
          "height": 85
        },
        "outputId": "c62772c0-5238-464a-cd94-5edf08d43379"
      },
      "source": [
        "dl =np.diagflat([4,5,6,8])\n",
        "dl"
      ],
      "execution_count": 10,
      "outputs": [
        {
          "output_type": "execute_result",
          "data": {
            "text/plain": [
              "array([[4, 0, 0, 0],\n",
              "       [0, 5, 0, 0],\n",
              "       [0, 0, 6, 0],\n",
              "       [0, 0, 0, 8]])"
            ]
          },
          "metadata": {
            "tags": []
          },
          "execution_count": 10
        }
      ]
    }
  ]
}