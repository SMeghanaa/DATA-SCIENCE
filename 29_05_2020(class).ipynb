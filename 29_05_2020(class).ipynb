{
  "nbformat": 4,
  "nbformat_minor": 0,
  "metadata": {
    "colab": {
      "name": "29_05_2020.ipynb",
      "provenance": [],
      "collapsed_sections": [],
      "include_colab_link": true
    },
    "kernelspec": {
      "name": "python3",
      "display_name": "Python 3"
    }
  },
  "cells": [
    {
      "cell_type": "markdown",
      "metadata": {
        "id": "view-in-github",
        "colab_type": "text"
      },
      "source": [
        "<a href=\"https://colab.research.google.com/github/SMeghanaa/DATA-SCIENCE/blob/master/29_05_2020(class).ipynb\" target=\"_parent\"><img src=\"https://colab.research.google.com/assets/colab-badge.svg\" alt=\"Open In Colab\"/></a>"
      ]
    },
    {
      "cell_type": "markdown",
      "metadata": {
        "id": "ywW7fVeFl_mB",
        "colab_type": "text"
      },
      "source": [
        "##Loop Control statements : break,continue"
      ]
    },
    {
      "cell_type": "code",
      "metadata": {
        "id": "gQWOzROYl7qg",
        "colab_type": "code",
        "outputId": "281bed5e-b0c0-4985-a0e2-e7903a1293d3",
        "colab": {
          "base_uri": "https://localhost:8080/",
          "height": 85
        }
      },
      "source": [
        "for i in range(1,11) :\n",
        "  if i%5==0:\n",
        "    break\n",
        "  else:\n",
        "    print(i)"
      ],
      "execution_count": 0,
      "outputs": [
        {
          "output_type": "stream",
          "text": [
            "1\n",
            "2\n",
            "3\n",
            "4\n"
          ],
          "name": "stdout"
        }
      ]
    },
    {
      "cell_type": "code",
      "metadata": {
        "id": "fyWYEqfslxpa",
        "colab_type": "code",
        "outputId": "dd98b12a-9653-4e60-be38-59e8c3912a19",
        "colab": {
          "base_uri": "https://localhost:8080/",
          "height": 153
        }
      },
      "source": [
        "for i in range(1,11) :\n",
        "  if i%5==0:\n",
        "    continue\n",
        "  else:\n",
        "    print(i)"
      ],
      "execution_count": 0,
      "outputs": [
        {
          "output_type": "stream",
          "text": [
            "1\n",
            "2\n",
            "3\n",
            "4\n",
            "6\n",
            "7\n",
            "8\n",
            "9\n"
          ],
          "name": "stdout"
        }
      ]
    },
    {
      "cell_type": "markdown",
      "metadata": {
        "id": "RooNknWZnLwd",
        "colab_type": "text"
      },
      "source": [
        "####Question:\n",
        "write a program to validate username and password given by the user.If the user gives wrong credentials it should ask for username and password again and again until the user gives correct details\n"
      ]
    },
    {
      "cell_type": "code",
      "metadata": {
        "id": "P9sedhevnOs9",
        "colab_type": "code",
        "outputId": "9dcc58c0-247f-4bd2-e53d-fed4fe8ccd32",
        "colab": {
          "base_uri": "https://localhost:8080/",
          "height": 153
        }
      },
      "source": [
        "while True:\n",
        "  uu=input(\"Enter Username:\")\n",
        "  if uu=='python':\n",
        "    pp=input(\"Enter password\")\n",
        "    if pp=='abc123':\n",
        "      print(\"Successful\")\n",
        "      break\n",
        "  else:\n",
        "    continue\n",
        "\n"
      ],
      "execution_count": 0,
      "outputs": [
        {
          "output_type": "stream",
          "text": [
            "Enter Username:hey\n",
            "Enter Username:hue\n",
            "Enter Username:python\n",
            "Enter passwordnj\n",
            "Enter Username:yhon\n",
            "Enter Username:python\n",
            "Enter passwordabc123\n",
            "Successful\n"
          ],
          "name": "stdout"
        }
      ]
    },
    {
      "cell_type": "markdown",
      "metadata": {
        "id": "9zCQuPaRqzkT",
        "colab_type": "text"
      },
      "source": [
        "###pass (empty block)"
      ]
    },
    {
      "cell_type": "code",
      "metadata": {
        "id": "yl3JYTFyqvup",
        "colab_type": "code",
        "colab": {}
      },
      "source": [
        "if 23<89 :\n",
        "  pass\n",
        "else:\n",
        "  print(\"Else part\")"
      ],
      "execution_count": 0,
      "outputs": []
    },
    {
      "cell_type": "markdown",
      "metadata": {
        "id": "lOmsuHvIrYAs",
        "colab_type": "text"
      },
      "source": [
        "##FUNCTION"
      ]
    },
    {
      "cell_type": "code",
      "metadata": {
        "id": "xNxXk-aJnOoP",
        "colab_type": "code",
        "outputId": "3dcdee69-8fc2-4135-d0ef-b98e8d8c1f84",
        "colab": {
          "base_uri": "https://localhost:8080/",
          "height": 34
        }
      },
      "source": [
        "def name(user) :\n",
        "  print(\"heeyy\",user)\n",
        "\n",
        "name(\"Meghana\")"
      ],
      "execution_count": 0,
      "outputs": [
        {
          "output_type": "stream",
          "text": [
            "heeyy Meghana\n"
          ],
          "name": "stdout"
        }
      ]
    },
    {
      "cell_type": "code",
      "metadata": {
        "id": "GYDZuBKE3uE6",
        "colab_type": "code",
        "outputId": "c63ae4b0-d2e0-422a-b571-a916a24bdcd0",
        "colab": {
          "base_uri": "https://localhost:8080/",
          "height": 34
        }
      },
      "source": [
        "#Multiple return values\n",
        "def arth(a,b):\n",
        "  return a+b,a-b,a*b,a/b\n",
        "#unpacking\n",
        "add,sub,mul,div=arth(10,20)\n",
        "print(sub)\n"
      ],
      "execution_count": 0,
      "outputs": [
        {
          "output_type": "stream",
          "text": [
            "-10\n"
          ],
          "name": "stdout"
        }
      ]
    },
    {
      "cell_type": "code",
      "metadata": {
        "id": "uRywGyGw4UDI",
        "colab_type": "code",
        "outputId": "eb7cde6f-5a8a-4aa0-8411-bc64bb39dc7b",
        "colab": {
          "base_uri": "https://localhost:8080/",
          "height": 51
        }
      },
      "source": [
        "#Default Argument (should be at the end)\n",
        "def arth(a,b=20):\n",
        "  return a+b\n",
        "\n",
        "print(arth(10))\n",
        "print(arth(50,40))\n"
      ],
      "execution_count": 0,
      "outputs": [
        {
          "output_type": "stream",
          "text": [
            "30\n",
            "90\n"
          ],
          "name": "stdout"
        }
      ]
    },
    {
      "cell_type": "code",
      "metadata": {
        "id": "2nJnK0VNt53T",
        "colab_type": "code",
        "outputId": "95af183e-5cb3-4663-b52e-d17e6854c0a6",
        "colab": {
          "base_uri": "https://localhost:8080/",
          "height": 68
        }
      },
      "source": [
        "#Keyword arguments\n",
        "def add(a,b) :\n",
        "  print(\"a:\",a)\n",
        "  print(\"b:\",b)\n",
        "  return(a+b)\n",
        "add(b=10,a=20)"
      ],
      "execution_count": 0,
      "outputs": [
        {
          "output_type": "stream",
          "text": [
            "a: 20\n",
            "b: 10\n"
          ],
          "name": "stdout"
        },
        {
          "output_type": "execute_result",
          "data": {
            "text/plain": [
              "30"
            ]
          },
          "metadata": {
            "tags": []
          },
          "execution_count": 14
        }
      ]
    },
    {
      "cell_type": "code",
      "metadata": {
        "id": "BtYBxJ_81AxF",
        "colab_type": "code",
        "outputId": "5efcbe7c-1817-40d8-9cf4-34b8531e3761",
        "colab": {
          "base_uri": "https://localhost:8080/",
          "height": 68
        }
      },
      "source": [
        "#Variable length arguments (takes any number of arguments *a)\n",
        "#(120,230,5,8)-->Tuple\n",
        "def add(*a) :\n",
        "  return sum(a)\n",
        "\n",
        "print(add(10,20))\n",
        "print(add(10,20,30))\n",
        "print(add(10,20,30,40))\n",
        "\n"
      ],
      "execution_count": 0,
      "outputs": [
        {
          "output_type": "stream",
          "text": [
            "30\n",
            "60\n",
            "100\n"
          ],
          "name": "stdout"
        }
      ]
    },
    {
      "cell_type": "markdown",
      "metadata": {
        "id": "SdZQyUdx8Cgb",
        "colab_type": "text"
      },
      "source": [
        "###Nested Function : square,cube"
      ]
    },
    {
      "cell_type": "code",
      "metadata": {
        "id": "Ziy-YwW265ms",
        "colab_type": "code",
        "outputId": "60f19bda-8d31-461f-d036-74c3e5991ea1",
        "colab": {
          "base_uri": "https://localhost:8080/",
          "height": 51
        }
      },
      "source": [
        "def square(a) :\n",
        "  return a*a\n",
        "\n",
        "def cube(x) :\n",
        "  return square(x)*x\n",
        "\n",
        "print(square(10))\n",
        "print(cube(10))"
      ],
      "execution_count": 0,
      "outputs": [
        {
          "output_type": "stream",
          "text": [
            "100\n",
            "1000\n"
          ],
          "name": "stdout"
        }
      ]
    },
    {
      "cell_type": "markdown",
      "metadata": {
        "id": "BkrHox1a9i1T",
        "colab_type": "text"
      },
      "source": [
        "###Recursive function\n",
        "1.factorial of a number\n",
        "2.fibonacci series"
      ]
    },
    {
      "cell_type": "code",
      "metadata": {
        "id": "BxyTjqZU9lqO",
        "colab_type": "code",
        "colab": {}
      },
      "source": [
        ""
      ],
      "execution_count": 0,
      "outputs": []
    },
    {
      "cell_type": "markdown",
      "metadata": {
        "id": "4UPw41kD-y0o",
        "colab_type": "text"
      },
      "source": [
        "##Data structures\n",
        " 1.List :\n",
        "- [ ]\n",
        "- indexed\n",
        "- ordered\n",
        "- mutable\n",
        "- duplicate values\n",
        "- diff type of values"
      ]
    },
    {
      "cell_type": "code",
      "metadata": {
        "id": "0rObvBPe_PUG",
        "colab_type": "code",
        "outputId": "fc1c1cee-e8f0-4263-8cff-ab36c1041eba",
        "colab": {
          "base_uri": "https://localhost:8080/",
          "height": 34
        }
      },
      "source": [
        "list=[12,23,45,'abc',True,2]\n",
        "print(type(list))\n"
      ],
      "execution_count": 0,
      "outputs": [
        {
          "output_type": "stream",
          "text": [
            "<class 'list'>\n"
          ],
          "name": "stdout"
        }
      ]
    },
    {
      "cell_type": "markdown",
      "metadata": {
        "id": "FPtyA6rrAjBA",
        "colab_type": "text"
      },
      "source": [
        "Membership operator : in,not in"
      ]
    },
    {
      "cell_type": "code",
      "metadata": {
        "id": "yVJLzDCyACyA",
        "colab_type": "code",
        "outputId": "916fb503-5c43-43b2-a34f-094d0849f02a",
        "colab": {
          "base_uri": "https://localhost:8080/",
          "height": 136
        }
      },
      "source": [
        "list1=[1,2,3]\n",
        "list2=[10,20,30]\n",
        "print(list1+list2)  #concatenation\n",
        "print(list1*2)       #repitition\n",
        "print(list1[1])\n",
        "print(list1[1:3])\n",
        "print(2 in list1)\n",
        "print(50 in list2)\n",
        "print(3 not in list1)"
      ],
      "execution_count": 0,
      "outputs": [
        {
          "output_type": "stream",
          "text": [
            "[1, 2, 3, 10, 20, 30]\n",
            "[1, 2, 3, 1, 2, 3]\n",
            "2\n",
            "[2, 3]\n",
            "True\n",
            "False\n",
            "False\n"
          ],
          "name": "stdout"
        }
      ]
    },
    {
      "cell_type": "markdown",
      "metadata": {
        "id": "inz90SApC3Sh",
        "colab_type": "text"
      },
      "source": [
        "##Built-in functions: len(),min(),max(),list()"
      ]
    },
    {
      "cell_type": "code",
      "metadata": {
        "id": "GIeSi3idDBHF",
        "colab_type": "code",
        "outputId": "91431c48-123e-45ca-ac9b-0f2a68a47267",
        "colab": {
          "base_uri": "https://localhost:8080/",
          "height": 102
        }
      },
      "source": [
        "list1=[1,2,3,4]\n",
        "s1='python'\n",
        "print(len(list1))\n",
        "print(min(list1))\n",
        "print(max(list1))\n",
        "list2=list1\n",
        "print(list2)\n",
        "list1[-1]=100\n",
        "print(list1)"
      ],
      "execution_count": 0,
      "outputs": [
        {
          "output_type": "stream",
          "text": [
            "4\n",
            "1\n",
            "4\n",
            "[1, 2, 3, 4]\n",
            "[1, 2, 3, 100]\n"
          ],
          "name": "stdout"
        }
      ]
    },
    {
      "cell_type": "code",
      "metadata": {
        "id": "Yf-TJZW2AnGN",
        "colab_type": "code",
        "colab": {}
      },
      "source": [
        ""
      ],
      "execution_count": 0,
      "outputs": []
    }
  ]
}