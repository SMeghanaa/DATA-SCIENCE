{
  "nbformat": 4,
  "nbformat_minor": 0,
  "metadata": {
    "colab": {
      "name": "9-06-2020(class).ipynb",
      "provenance": [],
      "authorship_tag": "ABX9TyP7YX9jom6Fx5nrcG9qTT8L",
      "include_colab_link": true
    },
    "kernelspec": {
      "name": "python3",
      "display_name": "Python 3"
    }
  },
  "cells": [
    {
      "cell_type": "markdown",
      "metadata": {
        "id": "view-in-github",
        "colab_type": "text"
      },
      "source": [
        "<a href=\"https://colab.research.google.com/github/SMeghanaa/DATA-SCIENCE/blob/master/9-06-2020(class).ipynb\" target=\"_parent\"><img src=\"https://colab.research.google.com/assets/colab-badge.svg\" alt=\"Open In Colab\"/></a>"
      ]
    },
    {
      "cell_type": "code",
      "metadata": {
        "id": "KOwdfhc-Q80o",
        "colab_type": "code",
        "colab": {}
      },
      "source": [
        "import pandas as pd\n",
        "import numpy as np"
      ],
      "execution_count": 0,
      "outputs": []
    },
    {
      "cell_type": "code",
      "metadata": {
        "id": "hmV_V49yR53o",
        "colab_type": "code",
        "outputId": "bbe79a7a-e1ff-4737-d19a-91beda4500b6",
        "colab": {
          "base_uri": "https://localhost:8080/",
          "height": 318
        }
      },
      "source": [
        "df = pd.DataFrame({\"A\": [\"foo\", \"foo\", \"foo\", \"foo\", \"foo\",\"bar\", \"bar\", \"bar\", \"bar\"],\n",
        "                   \"B\": [\"one\", \"one\", \"one\", \"two\", \"two\",\"one\", \"one\", \"two\", \"two\"],\n",
        "                   \"C\": [\"small\", \"large\", \"large\", \"small\",\"small\", \"large\", \"small\", \"small\",\"large\"],\n",
        "                   \"D\": [1, 2, 2, 3, 3, 4, 5, 6, 7],\n",
        "                   \"E\": [2, 4, 5, 5, 6, 6, 8, 9, 9]})\n",
        "df"
      ],
      "execution_count": 0,
      "outputs": [
        {
          "output_type": "execute_result",
          "data": {
            "text/html": [
              "<div>\n",
              "<style scoped>\n",
              "    .dataframe tbody tr th:only-of-type {\n",
              "        vertical-align: middle;\n",
              "    }\n",
              "\n",
              "    .dataframe tbody tr th {\n",
              "        vertical-align: top;\n",
              "    }\n",
              "\n",
              "    .dataframe thead th {\n",
              "        text-align: right;\n",
              "    }\n",
              "</style>\n",
              "<table border=\"1\" class=\"dataframe\">\n",
              "  <thead>\n",
              "    <tr style=\"text-align: right;\">\n",
              "      <th></th>\n",
              "      <th>A</th>\n",
              "      <th>B</th>\n",
              "      <th>C</th>\n",
              "      <th>D</th>\n",
              "      <th>E</th>\n",
              "    </tr>\n",
              "  </thead>\n",
              "  <tbody>\n",
              "    <tr>\n",
              "      <th>0</th>\n",
              "      <td>foo</td>\n",
              "      <td>one</td>\n",
              "      <td>small</td>\n",
              "      <td>1</td>\n",
              "      <td>2</td>\n",
              "    </tr>\n",
              "    <tr>\n",
              "      <th>1</th>\n",
              "      <td>foo</td>\n",
              "      <td>one</td>\n",
              "      <td>large</td>\n",
              "      <td>2</td>\n",
              "      <td>4</td>\n",
              "    </tr>\n",
              "    <tr>\n",
              "      <th>2</th>\n",
              "      <td>foo</td>\n",
              "      <td>one</td>\n",
              "      <td>large</td>\n",
              "      <td>2</td>\n",
              "      <td>5</td>\n",
              "    </tr>\n",
              "    <tr>\n",
              "      <th>3</th>\n",
              "      <td>foo</td>\n",
              "      <td>two</td>\n",
              "      <td>small</td>\n",
              "      <td>3</td>\n",
              "      <td>5</td>\n",
              "    </tr>\n",
              "    <tr>\n",
              "      <th>4</th>\n",
              "      <td>foo</td>\n",
              "      <td>two</td>\n",
              "      <td>small</td>\n",
              "      <td>3</td>\n",
              "      <td>6</td>\n",
              "    </tr>\n",
              "    <tr>\n",
              "      <th>5</th>\n",
              "      <td>bar</td>\n",
              "      <td>one</td>\n",
              "      <td>large</td>\n",
              "      <td>4</td>\n",
              "      <td>6</td>\n",
              "    </tr>\n",
              "    <tr>\n",
              "      <th>6</th>\n",
              "      <td>bar</td>\n",
              "      <td>one</td>\n",
              "      <td>small</td>\n",
              "      <td>5</td>\n",
              "      <td>8</td>\n",
              "    </tr>\n",
              "    <tr>\n",
              "      <th>7</th>\n",
              "      <td>bar</td>\n",
              "      <td>two</td>\n",
              "      <td>small</td>\n",
              "      <td>6</td>\n",
              "      <td>9</td>\n",
              "    </tr>\n",
              "    <tr>\n",
              "      <th>8</th>\n",
              "      <td>bar</td>\n",
              "      <td>two</td>\n",
              "      <td>large</td>\n",
              "      <td>7</td>\n",
              "      <td>9</td>\n",
              "    </tr>\n",
              "  </tbody>\n",
              "</table>\n",
              "</div>"
            ],
            "text/plain": [
              "     A    B      C  D  E\n",
              "0  foo  one  small  1  2\n",
              "1  foo  one  large  2  4\n",
              "2  foo  one  large  2  5\n",
              "3  foo  two  small  3  5\n",
              "4  foo  two  small  3  6\n",
              "5  bar  one  large  4  6\n",
              "6  bar  one  small  5  8\n",
              "7  bar  two  small  6  9\n",
              "8  bar  two  large  7  9"
            ]
          },
          "metadata": {
            "tags": []
          },
          "execution_count": 4
        }
      ]
    },
    {
      "cell_type": "code",
      "metadata": {
        "id": "cyviGlHtSH80",
        "colab_type": "code",
        "colab": {}
      },
      "source": [
        "df.to_csv(\"newcsv.csv\")"
      ],
      "execution_count": 0,
      "outputs": []
    },
    {
      "cell_type": "markdown",
      "metadata": {
        "id": "qRuARZxLSW0P",
        "colab_type": "text"
      },
      "source": [
        "#### read_excel(),to_excel()"
      ]
    },
    {
      "cell_type": "code",
      "metadata": {
        "id": "L35SX3YCSQCK",
        "colab_type": "code",
        "colab": {}
      },
      "source": [
        "df=pd.read_excel(\"file-name\")"
      ],
      "execution_count": 0,
      "outputs": []
    },
    {
      "cell_type": "code",
      "metadata": {
        "id": "AP9CjLMZSrin",
        "colab_type": "code",
        "colab": {}
      },
      "source": [
        "df.to_excel(\"file-name\")"
      ],
      "execution_count": 0,
      "outputs": []
    },
    {
      "cell_type": "markdown",
      "metadata": {
        "id": "d_LtYvqaTBPx",
        "colab_type": "text"
      },
      "source": [
        "###matplotlib package\n",
        "1. numpy-->numeric values\n",
        "2. pandas-->Tabular format data"
      ]
    },
    {
      "cell_type": "code",
      "metadata": {
        "id": "UjVzrkuMUunb",
        "colab_type": "code",
        "colab": {}
      },
      "source": [
        "import matplotlib.pyplot as plt\n",
        "%matplotlib inline"
      ],
      "execution_count": 0,
      "outputs": []
    },
    {
      "cell_type": "markdown",
      "metadata": {
        "id": "QX1OXCmgU-sJ",
        "colab_type": "text"
      },
      "source": [
        "1.Line plot:"
      ]
    },
    {
      "cell_type": "code",
      "metadata": {
        "id": "ktIa3osrU96x",
        "colab_type": "code",
        "outputId": "a143ce62-9d28-4495-805b-0f0303239a9d",
        "colab": {
          "base_uri": "https://localhost:8080/",
          "height": 295
        }
      },
      "source": [
        "a = np.arange(1,11)\n",
        "b = np.arange(11,21)\n",
        "plt.xlabel(\"a array valeues\")\n",
        "plt.ylabel(\"b array values\")\n",
        "plt.title(\"a versus b\")\n",
        "plt.plot(a,b,color=\"red\",linewidth=5)\n",
        "plt.show()\n"
      ],
      "execution_count": 0,
      "outputs": [
        {
          "output_type": "display_data",
          "data": {
            "image/png": "[encoded data removed]",
            "text/plain": [
              "<Figure size 432x288 with 1 Axes>"
            ]
          },
          "metadata": {
            "tags": [],
            "needs_background": "light"
          }
        }
      ]
    },
    {
      "cell_type": "code",
      "metadata": {
        "id": "xb5yA4JvXa2D",
        "colab_type": "code",
        "outputId": "9d5a60c8-8f69-4fce-d257-fe89298eb643",
        "colab": {
          "base_uri": "https://localhost:8080/",
          "height": 295
        }
      },
      "source": [
        "days = list(range(1,8))\n",
        "temp = [34,36,40,41,42,34,44]\n",
        "plt.xlabel(\"Days\")\n",
        "plt.ylabel(\"Temperature\")\n",
        "plt.title(\"Weather report\")\n",
        "plt.xlim([1,7])\n",
        "plt.ylim([32,46])\n",
        "plt.plot(days,temp,color=\"yellow\",linewidth=3,linestyle=\"-.\")\n",
        "plt.show()"
      ],
      "execution_count": 0,
      "outputs": [
        {
          "output_type": "display_data",
          "data": {
            "image/png": "[encoded data removed]",
            "text/plain": [
              "<Figure size 432x288 with 1 Axes>"
            ]
          },
          "metadata": {
            "tags": [],
            "needs_background": "light"
          }
        }
      ]
    },
    {
      "cell_type": "code",
      "metadata": {
        "id": "N2av30dRZuON",
        "colab_type": "code",
        "outputId": "8290d612-619c-4cce-8194-3a4ab320fe4c",
        "colab": {
          "base_uri": "https://localhost:8080/",
          "height": 279
        }
      },
      "source": [
        "x=np.arange(10)\n",
        "plt.xlabel(\"x axis\")\n",
        "plt.ylabel(\"y axis\")\n",
        "plt.plot(x,x,label=\"x values\")\n",
        "plt.plot(x,2*x,label=\"2*x values\")\n",
        "plt.plot(x,3*x,label=\"3*x values\")\n",
        "plt.plot(x,4*x,label=\"4*x values\")\n",
        "plt.legend()\n",
        "plt.show()"
      ],
      "execution_count": 0,
      "outputs": [
        {
          "output_type": "display_data",
          "data": {
            "image/png": "[encoded data removed]",
            "text/plain": [
              "<Figure size 432x288 with 1 Axes>"
            ]
          },
          "metadata": {
            "tags": [],
            "needs_background": "light"
          }
        }
      ]
    },
    {
      "cell_type": "code",
      "metadata": {
        "id": "1w_rDlP8YBmQ",
        "colab_type": "code",
        "outputId": "fac06261-cb7b-4089-bc1b-1ba589a4a615",
        "colab": {
          "base_uri": "https://localhost:8080/",
          "height": 265
        }
      },
      "source": [
        "x = np.linspace(0, 5, 10)\n",
        "y = np.linspace(3, 6, 10)\n",
        "plt.plot(x,y,\"r-\",x,y**2,\"b+\",x,y**3,\"g^\")\n",
        "#plt.plot(x,y,color=\"red\",linestyle=\"-\")\n",
        "plt.show()"
      ],
      "execution_count": 0,
      "outputs": [
        {
          "output_type": "display_data",
          "data": {
            "image/png": "[encoded data removed]",
            "text/plain": [
              "<Figure size 432x288 with 1 Axes>"
            ]
          },
          "metadata": {
            "tags": [],
            "needs_background": "light"
          }
        }
      ]
    },
    {
      "cell_type": "markdown",
      "metadata": {
        "id": "d9o_mPsddgKA",
        "colab_type": "text"
      },
      "source": [
        "2.Bar plot"
      ]
    },
    {
      "cell_type": "code",
      "metadata": {
        "id": "XHNdIrH_dfX6",
        "colab_type": "code",
        "outputId": "5d4373a2-9e7c-4323-e73b-f9a8c2965b8f",
        "colab": {
          "base_uri": "https://localhost:8080/",
          "height": 279
        }
      },
      "source": [
        "sub=['C', 'C++', 'Java', 'Python', 'PHP'] \n",
        "students=[23,17,35,29,12]\n",
        "preference = [90,85,90,95,80]\n",
        "plt.bar(sub,students)\n",
        "plt.xlabel(\"Languages\")\n",
        "plt.ylabel(\"no of students\")\n",
        "plt.show()"
      ],
      "execution_count": 0,
      "outputs": [
        {
          "output_type": "display_data",
          "data": {
            "image/png": "[encoded data removed]",
            "text/plain": [
              "<Figure size 432x288 with 1 Axes>"
            ]
          },
          "metadata": {
            "tags": [],
            "needs_background": "light"
          }
        }
      ]
    },
    {
      "cell_type": "code",
      "metadata": {
        "id": "EC2pNhBFgHCz",
        "colab_type": "code",
        "outputId": "bfd53e10-a227-4e8e-fe26-8be7fcb74c8d",
        "colab": {
          "base_uri": "https://localhost:8080/",
          "height": 279
        }
      },
      "source": [
        "sub=['C', 'C++', 'Java', 'Python', 'PHP'] \n",
        "students=[23,17,35,29,12]\n",
        "preference = [90,85,90,95,80]\n",
        "plt.barh(sub,students,color=\"green\")\n",
        "plt.xlabel(\"Languages\")\n",
        "plt.ylabel(\"no of students\")\n",
        "plt.show()"
      ],
      "execution_count": 0,
      "outputs": [
        {
          "output_type": "display_data",
          "data": {
            "image/png": "[encoded data removed]",
            "text/plain": [
              "<Figure size 432x288 with 1 Axes>"
            ]
          },
          "metadata": {
            "tags": [],
            "needs_background": "light"
          }
        }
      ]
    },
    {
      "cell_type": "code",
      "metadata": {
        "id": "dE1J3ZNQgS48",
        "colab_type": "code",
        "outputId": "4c0a18cc-e283-45d8-a55f-bd5d8f86c46e",
        "colab": {
          "base_uri": "https://localhost:8080/",
          "height": 35
        }
      },
      "source": [
        "xpos=np.arange(len(sub))\n",
        "xpos"
      ],
      "execution_count": 0,
      "outputs": [
        {
          "output_type": "execute_result",
          "data": {
            "text/plain": [
              "array([0, 1, 2, 3, 4])"
            ]
          },
          "metadata": {
            "tags": []
          },
          "execution_count": 17
        }
      ]
    },
    {
      "cell_type": "code",
      "metadata": {
        "id": "MdFftvk2gcbX",
        "colab_type": "code",
        "outputId": "2807382a-a70a-4373-ec36-d14c2f35d834",
        "colab": {
          "base_uri": "https://localhost:8080/",
          "height": 265
        }
      },
      "source": [
        "plt.bar(xpos-0.2,students,width=0.4,label=\"students\")\n",
        "plt.bar(xpos+0.2,preference,width=0.4,label=\"preference\")\n",
        "plt.legend()\n",
        "plt.xticks(xpos,sub)\n",
        "plt.show()"
      ],
      "execution_count": 0,
      "outputs": [
        {
          "output_type": "display_data",
          "data": {
            "image/png": "[encoded data removed]",
            "text/plain": [
              "<Figure size 432x288 with 1 Axes>"
            ]
          },
          "metadata": {
            "tags": [],
            "needs_background": "light"
          }
        }
      ]
    },
    {
      "cell_type": "markdown",
      "metadata": {
        "id": "LzxS9YyNiElh",
        "colab_type": "text"
      },
      "source": [
        "3. Scatter plot"
      ]
    },
    {
      "cell_type": "code",
      "metadata": {
        "id": "0mCPrHvOhrS6",
        "colab_type": "code",
        "outputId": "c844733e-47ec-4193-a2f1-2a2b9d3e5315",
        "colab": {
          "base_uri": "https://localhost:8080/",
          "height": 296
        }
      },
      "source": [
        "girls_grades = [89, 90, 70, 89, 100, 80, 90, 100, 80, 34] \n",
        "boys_grades = [30, 29, 49, 48, 100, 48, 38, 45, 20, 30] \n",
        "grades_range = [10, 20, 30, 40, 50, 60, 70, 80, 90, 100] \n",
        "plt.scatter(grades_range,girls_grades,color=\"red\")\n",
        "plt.scatter(grades_range,boys_grades,color=\"blue\")\n",
        "plt.xlabel(\"grades_range\")\n",
        "plt.ylabel(\"grades\")\n",
        "plt.title(\"scatter plot\")\n",
        "plt.show()"
      ],
      "execution_count": 0,
      "outputs": [
        {
          "output_type": "display_data",
          "data": {
            "image/png": "[encoded data removed]",
            "text/plain": [
              "<Figure size 432x288 with 1 Axes>"
            ]
          },
          "metadata": {
            "tags": [],
            "needs_background": "light"
          }
        }
      ]
    },
    {
      "cell_type": "markdown",
      "metadata": {
        "id": "5kBf-boekyMj",
        "colab_type": "text"
      },
      "source": [
        "4.Histogram"
      ]
    },
    {
      "cell_type": "code",
      "metadata": {
        "id": "fqOkmZoNk1rD",
        "colab_type": "code",
        "outputId": "0e47d3f3-0246-4cfd-c30e-a34c02613f09",
        "colab": {
          "base_uri": "https://localhost:8080/",
          "height": 265
        }
      },
      "source": [
        "a=np.array([22,87,5,43,56,73,55,54,11,20,51,5,79,31,27]) \n",
        "plt.hist(a,bins=[0,25,50,75,100])\n",
        "plt.grid()\n",
        "plt.show()"
      ],
      "execution_count": 0,
      "outputs": [
        {
          "output_type": "display_data",
          "data": {
            "image/png": "[encoded data removed]",
            "text/plain": [
              "<Figure size 432x288 with 1 Axes>"
            ]
          },
          "metadata": {
            "tags": [],
            "needs_background": "light"
          }
        }
      ]
    },
    {
      "cell_type": "markdown",
      "metadata": {
        "id": "rchXAjnMlckb",
        "colab_type": "text"
      },
      "source": [
        "5.Pie plot"
      ]
    },
    {
      "cell_type": "code",
      "metadata": {
        "id": "WJjBJ0QdlgVC",
        "colab_type": "code",
        "outputId": "f7006e3b-d76a-47c1-9447-3ff7b845f5f6",
        "colab": {
          "base_uri": "https://localhost:8080/",
          "height": 304
        }
      },
      "source": [
        "exp_vals = [1400,600,300,410,250]\n",
        "exp_labels = [\"Home Rent\",\"Food\",\"Phone/Internet Bill\",\"Car \",\"Other Utilities\"]\n",
        "plt.pie(exp_vals,labels=exp_labels,autopct=\"%0.2f%%\",radius=1.5,colors=[\"red\",\"blue\",\"green\",\"gold\",\"pink\"],\n",
        "        explode=[0,0,0,0,0.4],startangle=45)\n",
        "plt.show()"
      ],
      "execution_count": 0,
      "outputs": [
        {
          "output_type": "display_data",
          "data": {
            "image/png": "[encoded data removed]",
            "text/plain": [
              "<Figure size 432x288 with 1 Axes>"
            ]
          },
          "metadata": {
            "tags": []
          }
        }
      ]
    },
    {
      "cell_type": "markdown",
      "metadata": {
        "id": "5wjCrqrKoinW",
        "colab_type": "text"
      },
      "source": [
        "6.Sub plots"
      ]
    },
    {
      "cell_type": "code",
      "metadata": {
        "id": "fy_8y1stomZh",
        "colab_type": "code",
        "outputId": "e6808608-e130-412c-fc7b-ff5d85bc75d5",
        "colab": {
          "base_uri": "https://localhost:8080/",
          "height": 281
        }
      },
      "source": [
        "fig,a=plt.subplots(2,2)\n",
        "x=np.arange(1,5)\n",
        "a[0][0].plot(x,x*x)\n",
        "a[0][0].set_title(\"square\")\n",
        "a[0][1].plot(x,np.sqrt(x))\n",
        "a[0][1].set_title(\"square root\")\n",
        "a[1][0].plot(x,np.exp(x))\n",
        "a[1][0].set_title(\"exp\")\n",
        "a[1][1].plot(x,np.log10(x))\n",
        "a[1][1].set_title(\"log\")\n",
        "plt.show()"
      ],
      "execution_count": 0,
      "outputs": [
        {
          "output_type": "display_data",
          "data": {
            "image/png": "[encoded data removed]",
            "text/plain": [
              "<Figure size 432x288 with 4 Axes>"
            ]
          },
          "metadata": {
            "tags": [],
            "needs_background": "light"
          }
        }
      ]
    },
    {
      "cell_type": "markdown",
      "metadata": {
        "id": "4fy99epSqSHF",
        "colab_type": "text"
      },
      "source": [
        "7.Box plot"
      ]
    },
    {
      "cell_type": "code",
      "metadata": {
        "id": "KZigtwhSqWlD",
        "colab_type": "code",
        "outputId": "48501bd2-b7f7-41a5-f0b4-e48ca9ee5e3f",
        "colab": {
          "base_uri": "https://localhost:8080/",
          "height": 265
        }
      },
      "source": [
        "values = np.arange(1,21,2)\n",
        "plt.ylim(0,21)\n",
        "plt.boxplot(values)\n",
        "plt.grid()\n",
        "plt.show()"
      ],
      "execution_count": 0,
      "outputs": [
        {
          "output_type": "display_data",
          "data": {
            "image/png": "[encoded data removed]",
            "text/plain": [
              "<Figure size 432x288 with 1 Axes>"
            ]
          },
          "metadata": {
            "tags": [],
            "needs_background": "light"
          }
        }
      ]
    },
    {
      "cell_type": "code",
      "metadata": {
        "id": "DcwU1nMlupFh",
        "colab_type": "code",
        "outputId": "0c3d6164-e2c5-4a2b-e7f8-e02b1eb4f6a3",
        "colab": {
          "base_uri": "https://localhost:8080/",
          "height": 295
        }
      },
      "source": [
        "values = np.arange(1,21,2)\n",
        "plt.ylim(0,21)\n",
        "plt.boxplot(values)\n",
        "plt.xlabel(\"box position\")\n",
        "plt.ylabel(\"values\")\n",
        "plt.title(\"Box Plot\")\n",
        "#plt.grid()\n",
        "plt.show()"
      ],
      "execution_count": 0,
      "outputs": [
        {
          "output_type": "display_data",
          "data": {
            "image/png": "[encoded data removed]",
            "text/plain": [
              "<Figure size 432x288 with 1 Axes>"
            ]
          },
          "metadata": {
            "tags": [],
            "needs_background": "light"
          }
        }
      ]
    },
    {
      "cell_type": "code",
      "metadata": {
        "id": "Wh39fuPpwOve",
        "colab_type": "code",
        "outputId": "990c5dcd-2e93-46ca-eeb0-48aacad729ee",
        "colab": {
          "base_uri": "https://localhost:8080/",
          "height": 126
        }
      },
      "source": [
        "import pandas as pd\n",
        "\n",
        "\n",
        "import numpy as np\n",
        "\n",
        "mylist = list('abcedfghijklmnopqrstuvwxyz')\n",
        "\n",
        "myarr = np.arange(26)\n",
        "\n",
        "mydict = dict(zip(mylist, myarr))\n",
        "\n",
        "ser = pd.Series(mydict)\n",
        "\n",
        "df = ser.to_frame().reset_index() \n",
        "print(df.head())"
      ],
      "execution_count": 0,
      "outputs": [
        {
          "output_type": "stream",
          "text": [
            "  index  0\n",
            "0     a  0\n",
            "1     b  1\n",
            "2     c  2\n",
            "3     e  3\n",
            "4     d  4\n"
          ],
          "name": "stdout"
        }
      ]
    },
    {
      "cell_type": "code",
      "metadata": {
        "id": "KsPdpBZcw00w",
        "colab_type": "code",
        "outputId": "5e9c6510-cb7f-441b-e015-305ede49de21",
        "colab": {
          "base_uri": "https://localhost:8080/",
          "height": 181
        }
      },
      "source": [
        "ser = pd.Series(np.take(list('abcdefgh'), np.random.randint(8, size=30)))\n",
        "ser.value_counts()"
      ],
      "execution_count": 0,
      "outputs": [
        {
          "output_type": "execute_result",
          "data": {
            "text/plain": [
              "f    7\n",
              "e    6\n",
              "d    4\n",
              "a    4\n",
              "c    3\n",
              "g    2\n",
              "b    2\n",
              "h    2\n",
              "dtype: int64"
            ]
          },
          "metadata": {
            "tags": []
          },
          "execution_count": 38
        }
      ]
    },
    {
      "cell_type": "code",
      "metadata": {
        "id": "sZSPvr2dxH9d",
        "colab_type": "code",
        "outputId": "02586f86-d476-401d-c3bd-5be9d6722989",
        "colab": {
          "base_uri": "https://localhost:8080/",
          "height": 545
        }
      },
      "source": [
        "df = pd.read_csv('https://raw.githubusercontent.com/sushma-projects/March-17-2020ML-basics/master/movie_metadata.csv')\n",
        "df.isnull().sum()"
      ],
      "execution_count": 0,
      "outputs": [
        {
          "output_type": "execute_result",
          "data": {
            "text/plain": [
              "color                         19\n",
              "director_name                104\n",
              "num_critic_for_reviews        50\n",
              "duration                      15\n",
              "director_facebook_likes      104\n",
              "actor_3_facebook_likes        23\n",
              "actor_2_name                  13\n",
              "actor_1_facebook_likes         7\n",
              "gross                        884\n",
              "genres                         0\n",
              "actor_1_name                   7\n",
              "movie_title                    0\n",
              "num_voted_users                0\n",
              "cast_total_facebook_likes      0\n",
              "actor_3_name                  23\n",
              "facenumber_in_poster          13\n",
              "plot_keywords                153\n",
              "movie_imdb_link                0\n",
              "num_user_for_reviews          21\n",
              "language                      12\n",
              "country                        5\n",
              "content_rating               303\n",
              "budget                       492\n",
              "title_year                   108\n",
              "actor_2_facebook_likes        13\n",
              "imdb_score                     0\n",
              "aspect_ratio                 329\n",
              "movie_facebook_likes           0\n",
              "dtype: int64"
            ]
          },
          "metadata": {
            "tags": []
          },
          "execution_count": 40
        }
      ]
    }
  ]
}