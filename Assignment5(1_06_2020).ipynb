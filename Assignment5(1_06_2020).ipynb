{
  "nbformat": 4,
  "nbformat_minor": 0,
  "metadata": {
    "colab": {
      "name": "Assignment5(1_06_2020).ipynb",
      "provenance": [],
      "collapsed_sections": [],
      "include_colab_link": true
    },
    "kernelspec": {
      "name": "python3",
      "display_name": "Python 3"
    }
  },
  "cells": [
    {
      "cell_type": "markdown",
      "metadata": {
        "id": "view-in-github",
        "colab_type": "text"
      },
      "source": [
        "<a href=\"https://colab.research.google.com/github/SMeghanaa/DATA-SCIENCE/blob/master/Assignment5(1_06_2020).ipynb\" target=\"_parent\"><img src=\"https://colab.research.google.com/assets/colab-badge.svg\" alt=\"Open In Colab\"/></a>"
      ]
    },
    {
      "cell_type": "markdown",
      "metadata": {
        "id": "9LCVJkk4TtEW",
        "colab_type": "text"
      },
      "source": [
        "###**Password Picker**"
      ]
    },
    {
      "cell_type": "code",
      "metadata": {
        "id": "aZxSAI7YGuwy",
        "colab_type": "code",
        "outputId": "c4475369-bf49-42d5-cba5-21b2a1fbd0c9",
        "colab": {
          "base_uri": "https://localhost:8080/",
          "height": 181
        }
      },
      "source": [
        "import random\n",
        "import string\n",
        "print(\"Welcome, this is password picker\")\n",
        "adj=['cerulean','blue-eyed','cheeful','cloudy','excited','funny','sparkling','raspy','aloof','black','macabre','nebulous','picayune','zealous']\n",
        "nouns=['ocean','fluffy','pride','sun','snow','hero','art','music','law','night','heart','queen']\n",
        "num=['0','1','2','3','4','5','6','7','8','9']\n",
        "chrs=[',','.','@','!','%','&','#','|','^']\n",
        "while(True):\n",
        "  adjective=random.choice(adj)\n",
        "  noun=random.choice(nouns)\n",
        " #number=random.choice(num)\n",
        "  number=str(random.randint(0,100))\n",
        "  splchr=random.choice(chrs)\n",
        "  password=adjective+noun+number+splchr\n",
        "  print(password)\n",
        "  a=input(\"Password okay? : yes\\n no \\n:\")\n",
        "  if(a=='no'):\n",
        "    continue\n",
        "  else:\n",
        "    break\n"
      ],
      "execution_count": 0,
      "outputs": [
        {
          "output_type": "stream",
          "text": [
            "Welcome, this is password picker\n",
            "ceruleanocean55#\n",
            "Password okay? : yes\n",
            " no \n",
            ":no\n",
            "blue-eyedsnow90&\n",
            "Password okay? : yes\n",
            " no \n",
            ":yes\n"
          ],
          "name": "stdout"
        }
      ]
    },
    {
      "cell_type": "code",
      "metadata": {
        "id": "EgbV1hVDORvW",
        "colab_type": "code",
        "colab": {}
      },
      "source": [
        ""
      ],
      "execution_count": 0,
      "outputs": []
    }
  ]
}