{
  "nbformat": 4,
  "nbformat_minor": 0,
  "metadata": {
    "colab": {
      "name": "Assignment-3(29-05-2020).ipynb",
      "provenance": [],
      "collapsed_sections": []
    },
    "kernelspec": {
      "name": "python3",
      "display_name": "Python 3"
    }
  },
  "cells": [
    {
      "cell_type": "markdown",
      "metadata": {
        "id": "MZjosqcotsvG",
        "colab_type": "text"
      },
      "source": [
        "###Question 1:\n",
        "Create a function to find Factorial of a number using Recursion\n"
      ]
    },
    {
      "cell_type": "code",
      "metadata": {
        "id": "BgBlXxFT6iHH",
        "colab_type": "code",
        "colab": {
          "base_uri": "https://localhost:8080/",
          "height": 52
        },
        "outputId": "d1b225f0-9d65-4815-fcbc-f25b91747ffa"
      },
      "source": [
        "def fact(n):\n",
        "  if n>=1:\n",
        "    return n*fact(n-1)\n",
        "  else:\n",
        "    return 1\n",
        "\n",
        "n=int(input('Enter the number: '))\n",
        "f=fact(n)    \n",
        "print(\"Factorial of \",n,\"is: \",f)"
      ],
      "execution_count": 3,
      "outputs": [
        {
          "output_type": "stream",
          "text": [
            "Enter the number: 5\n",
            "Factorial of  5 is:  120\n"
          ],
          "name": "stdout"
        }
      ]
    },
    {
      "cell_type": "markdown",
      "metadata": {
        "id": "1VZLt-Sc65DX",
        "colab_type": "text"
      },
      "source": [
        "####Question 2:\n",
        "Create a function and display ‘n’ Fibonacci numbers using Recursion\n"
      ]
    },
    {
      "cell_type": "code",
      "metadata": {
        "id": "phsyF4Nc69EI",
        "colab_type": "code",
        "colab": {
          "base_uri": "https://localhost:8080/",
          "height": 35
        },
        "outputId": "5f7763bf-f36c-445a-f519-ad035fe853db"
      },
      "source": [
        "def fibo(n): \n",
        "    if n<0: \n",
        "        print(\"Incorrect input\") \n",
        "    elif n==1: \n",
        "        return 0\n",
        "    elif n==2: \n",
        "        return 1\n",
        "    else: \n",
        "        return fibo(n-1)+fibo(n-2) \n",
        "print(fibo(9)) "
      ],
      "execution_count": 5,
      "outputs": [
        {
          "output_type": "stream",
          "text": [
            "21\n"
          ],
          "name": "stdout"
        }
      ]
    },
    {
      "cell_type": "markdown",
      "metadata": {
        "id": "oL0FmAtr9wYx",
        "colab_type": "text"
      },
      "source": [
        "####Question 3:\n",
        "Print sum of list of elements without using sum() function\n"
      ]
    },
    {
      "cell_type": "code",
      "metadata": {
        "id": "pD-jc5s792mW",
        "colab_type": "code",
        "colab": {
          "base_uri": "https://localhost:8080/",
          "height": 35
        },
        "outputId": "49d404c2-389a-4ed0-a45b-324af1a59e3f"
      },
      "source": [
        "list1=[1,2,3,4,5]\n",
        "sum=0\n",
        "for i in range(0,5):\n",
        "  sum+=list1[i]\n",
        "print(sum)"
      ],
      "execution_count": 9,
      "outputs": [
        {
          "output_type": "stream",
          "text": [
            "15\n"
          ],
          "name": "stdout"
        }
      ]
    },
    {
      "cell_type": "markdown",
      "metadata": {
        "id": "BLpEwOzv_thj",
        "colab_type": "text"
      },
      "source": [
        "####Question 4:\n",
        "print only even numbers from the list\n"
      ]
    },
    {
      "cell_type": "code",
      "metadata": {
        "id": "-4V5Dfho_4SM",
        "colab_type": "code",
        "colab": {
          "base_uri": "https://localhost:8080/",
          "height": 35
        },
        "outputId": "b7e70f58-2ec8-444a-98a6-6c9b6ea50d18"
      },
      "source": [
        "list1=[]\n",
        "n=int(input(\"enter size\"))\n",
        "for i in range(0,n):\n",
        "  ele=int(input())\n",
        "  list1.append(ele)\n",
        "  if list1[i]%2==0:\n",
        "    print(list1[i])"
      ],
      "execution_count": 0,
      "outputs": [
        {
          "output_type": "stream",
          "text": [
            "6\n"
          ],
          "name": "stdout"
        }
      ]
    },
    {
      "cell_type": "markdown",
      "metadata": {
        "id": "7qnJ2rcMqDFK",
        "colab_type": "text"
      },
      "source": [
        "###Question 5:\n",
        "Write a Python program to get the smallest number from a list and display index of smallest element of the list\n"
      ]
    },
    {
      "cell_type": "code",
      "metadata": {
        "id": "lHxnXYXnqHjm",
        "colab_type": "code",
        "colab": {
          "base_uri": "https://localhost:8080/",
          "height": 163
        },
        "outputId": "4de75b9a-0a8e-4e6b-99d8-90d46b7293ef"
      },
      "source": [
        "list1=[]\n",
        "n=int(input(\"enter size\"))\n",
        "for i in range(0,n):\n",
        "  ele=int(input())\n",
        "  list1.append(ele)\n",
        "print(\"Smallest Number: \",min(list1))\n",
        "print(\"Index of Smallest Number: \",list1.index(min(list1)))"
      ],
      "execution_count": 7,
      "outputs": [
        {
          "output_type": "stream",
          "text": [
            "enter size5\n",
            "7\n",
            "8\n",
            "3\n",
            "2\n",
            "5\n",
            "Smallest Number:  2\n",
            "Index of Smallest Number:  3\n"
          ],
          "name": "stdout"
        }
      ]
    },
    {
      "cell_type": "markdown",
      "metadata": {
        "id": "In3OjiRat4AE",
        "colab_type": "text"
      },
      "source": [
        "###Question 6:\n",
        "Write a Python function that checks whether a passed string is palindrome or not.\n"
      ]
    },
    {
      "cell_type": "code",
      "metadata": {
        "id": "agNXn7Ftt_Nm",
        "colab_type": "code",
        "colab": {
          "base_uri": "https://localhost:8080/",
          "height": 54
        },
        "outputId": "c8603177-b002-4867-e407-ab57f69ea18b"
      },
      "source": [
        "def palin(n):\n",
        " if n==n[: :-1]:\n",
        "   print(\"Its a palindrome\")\n",
        " else:\n",
        "   print(\"Its not a palindrome\")\n",
        " \n",
        "n=input(\"Enter the string: \")\n",
        "palin(n)\n"
      ],
      "execution_count": 11,
      "outputs": [
        {
          "output_type": "stream",
          "text": [
            "Enter the string: mom\n",
            "Its a palindrome\n"
          ],
          "name": "stdout"
        }
      ]
    },
    {
      "cell_type": "markdown",
      "metadata": {
        "id": "MXVHkA5RwjKQ",
        "colab_type": "text"
      },
      "source": [
        "###Question 7:\n",
        "Write a Python program to count the number of even and odd numbers from a series of numbers. \n",
        "- Sample numbers : numbers = [1, 2, 3, 4, 5, 6, 7, 8, 9]\n",
        "- Expected Output :\n",
        "- Number of even numbers : 4\n",
        "- Number of odd numbers : 5\n"
      ]
    },
    {
      "cell_type": "code",
      "metadata": {
        "id": "5UkKck5FKEW7",
        "colab_type": "code",
        "colab": {
          "base_uri": "https://localhost:8080/",
          "height": 145
        },
        "outputId": "1f6e39b2-d699-4f1f-dbfd-0345a40a447f"
      },
      "source": [
        "list1=[]\n",
        "o,e=0,0\n",
        "n=int(input(\"Enter the size\"))\n",
        "for i in range(0,n):\n",
        "  ele=int(input())\n",
        "  list1.append(ele)\n",
        "  if list1[i]%2==0 :\n",
        "    e+=1\n",
        "  else:\n",
        "    o+=1\n",
        "print(\"Even: \",e,\"Odd: \",o)"
      ],
      "execution_count": 18,
      "outputs": [
        {
          "output_type": "stream",
          "text": [
            "Enter the size5\n",
            "1\n",
            "2\n",
            "3\n",
            "4\n",
            "5\n",
            "Even:  2 Odd:  3\n"
          ],
          "name": "stdout"
        }
      ]
    },
    {
      "cell_type": "markdown",
      "metadata": {
        "id": "5zbUNRHaKOyq",
        "colab_type": "text"
      },
      "source": [
        "###Question 8:\n",
        "Write a Python program that prints all the numbers from 0 to 6 except 3 and 6.\n",
        "- Note : Use 'continue' statement.\n",
        "- Expected Output : 0 1 2 4 5\n"
      ]
    },
    {
      "cell_type": "code",
      "metadata": {
        "id": "LO8-XCy7KWT-",
        "colab_type": "code",
        "colab": {
          "base_uri": "https://localhost:8080/",
          "height": 108
        },
        "outputId": "3beb1400-b4ab-4de0-dc15-2d2ee37f83fb"
      },
      "source": [
        "list1=[0,1,2,3,4,5,6]\n",
        "for i in range(0,7):\n",
        "  if i==3 or i==6:\n",
        "    pass\n",
        "  else:\n",
        "    print(i)\n",
        "    continue"
      ],
      "execution_count": 22,
      "outputs": [
        {
          "output_type": "stream",
          "text": [
            "0\n",
            "1\n",
            "2\n",
            "4\n",
            "5\n"
          ],
          "name": "stdout"
        }
      ]
    },
    {
      "cell_type": "markdown",
      "metadata": {
        "id": "ttKbkM0oLzaA",
        "colab_type": "text"
      },
      "source": [
        "###Question 9:\n",
        "Write a python function to check whether the given number is prime or not\n"
      ]
    },
    {
      "cell_type": "code",
      "metadata": {
        "id": "4Nd99MZjL40Y",
        "colab_type": "code",
        "colab": {
          "base_uri": "https://localhost:8080/",
          "height": 54
        },
        "outputId": "985a917d-34ef-4448-99d3-5ee8365b931b"
      },
      "source": [
        "def prime(n):\n",
        "  f=2\n",
        "  for i in range(2,n):\n",
        "    if n%i==0:\n",
        "      f+=1\n",
        "  if f==2: \n",
        "    print(n,\"is a prime number\")\n",
        "  else:\n",
        "    print(n,\"is not a prime number\")   \n",
        "n=int(input('ENTER THE NUMBER: '))\n",
        "prime(n)"
      ],
      "execution_count": 30,
      "outputs": [
        {
          "output_type": "stream",
          "text": [
            "ENTER THE NUMBER: 4\n",
            "4 is not a prime number\n"
          ],
          "name": "stdout"
        }
      ]
    },
    {
      "cell_type": "markdown",
      "metadata": {
        "id": "K3LW4dWFO_n8",
        "colab_type": "text"
      },
      "source": [
        "###Question 10:\n",
        "Write a python function to check whether the given number is Adam number or not\n",
        "- Example: \n",
        "- Input : 12\n",
        "- Output : Adam Number\n",
        "\n",
        "- Explanation: 12*12 = 144\n",
        "- Reverse of 12 is 21 → 21*21 =441\n",
        "- Reverse of 144 == 441"
      ]
    },
    {
      "cell_type": "code",
      "metadata": {
        "id": "A1oUvBRdPN1h",
        "colab_type": "code",
        "colab": {
          "base_uri": "https://localhost:8080/",
          "height": 54
        },
        "outputId": "518dbaae-15b8-4334-9f45-ee835ada14fd"
      },
      "source": [
        "n=int(input(\"enter a number :\"))\n",
        "if int(str(n**2)[::-1])==int(str(n)[::-1])**2:\n",
        "  print(\"adam number\")\n",
        "else:\n",
        "  print(\"mot an adam number\")"
      ],
      "execution_count": 31,
      "outputs": [
        {
          "output_type": "stream",
          "text": [
            "enter a number :12\n",
            "adam number\n"
          ],
          "name": "stdout"
        }
      ]
    },
    {
      "cell_type": "code",
      "metadata": {
        "id": "oT6GZQqcLHuJ",
        "colab_type": "code",
        "colab": {}
      },
      "source": [
        ""
      ],
      "execution_count": 0,
      "outputs": []
    }
  ]
}