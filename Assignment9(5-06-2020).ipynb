{
  "nbformat": 4,
  "nbformat_minor": 0,
  "metadata": {
    "colab": {
      "name": "Assignment9(5_06_2020).ipynb",
      "provenance": [],
      "collapsed_sections": [],
      "include_colab_link": true
    },
    "kernelspec": {
      "name": "python3",
      "display_name": "Python 3"
    }
  },
  "cells": [
    {
      "cell_type": "markdown",
      "metadata": {
        "id": "view-in-github",
        "colab_type": "text"
      },
      "source": [
        "<a href=\"https://colab.research.google.com/github/SMeghanaa/DATA-SCIENCE/blob/master/Assignment9(5-06-2020).ipynb\" target=\"_parent\"><img src=\"https://colab.research.google.com/assets/colab-badge.svg\" alt=\"Open In Colab\"/></a>"
      ]
    },
    {
      "cell_type": "code",
      "metadata": {
        "id": "It21nhpJyv-I",
        "colab_type": "code",
        "colab": {}
      },
      "source": [
        "import pandas as pd\n",
        "import numpy as np"
      ],
      "execution_count": 0,
      "outputs": []
    },
    {
      "cell_type": "markdown",
      "metadata": {
        "id": "qNjzpNUYakeP",
        "colab_type": "text"
      },
      "source": [
        "####Question 1:\n",
        "[Data Series] \n",
        "####Write a Python program to add, subtract, multiple and divide two Pandas Series. \n",
        "- Sample Series: \n",
        "[2, 4, 6, 8, 10], [1, 3, 5, 7, 9]\n",
        "- Sample Output:\n",
        "[2, 4, 6, 8, 10] + [1, 3, 5, 7, 9] = [3, 7, 11, 15, 19]\n"
      ]
    },
    {
      "cell_type": "code",
      "metadata": {
        "id": "uRNBwS78aw3Q",
        "colab_type": "code",
        "outputId": "6bb50127-3bd1-4ad7-f38e-de148639aaa1",
        "colab": {
          "base_uri": "https://localhost:8080/",
          "height": 340
        }
      },
      "source": [
        "d1=pd.Series([2, 4, 6, 8, 10])\n",
        "d2=pd.Series([1, 3, 5, 7, 9])\n",
        "print(d1,d2)\n",
        "ds=d1.add(d2)\n",
        "print(\"ADDITION OF SERIES:\\n\",list(d1),\"+\",list(d2),\"=\",list(ds))\n",
        "ds=d1.sub(d2)\n",
        "print(\"SUBTRACTION OF SERIES:\\n\",list(d1),\"-\",list(d2),\"=\",list(ds))\n",
        "ds=d1.mul(d2)\n",
        "print(\"MULTIPLICATION OF SERIES:\\n\",list(d1),\"*\",list(d2),\"=\",list(ds))\n",
        "ds=d1.div(d2)\n",
        "print(\"DIVISION OF SERIES:\\n\",list(d1),\"/\",list(d2),\"=\",list(ds.round(2)))"
      ],
      "execution_count": 2,
      "outputs": [
        {
          "output_type": "stream",
          "text": [
            "0     2\n",
            "1     4\n",
            "2     6\n",
            "3     8\n",
            "4    10\n",
            "dtype: int64 0    1\n",
            "1    3\n",
            "2    5\n",
            "3    7\n",
            "4    9\n",
            "dtype: int64\n",
            "ADDITION OF SERIES:\n",
            " [2, 4, 6, 8, 10] + [1, 3, 5, 7, 9] = [3, 7, 11, 15, 19]\n",
            "SUBTRACTION OF SERIES:\n",
            " [2, 4, 6, 8, 10] - [1, 3, 5, 7, 9] = [1, 1, 1, 1, 1]\n",
            "MULTIPLICATION OF SERIES:\n",
            " [2, 4, 6, 8, 10] * [1, 3, 5, 7, 9] = [2, 12, 30, 56, 90]\n",
            "DIVISION OF SERIES:\n",
            " [2, 4, 6, 8, 10] / [1, 3, 5, 7, 9] = [2.0, 1.33, 1.2, 1.14, 1.11]\n"
          ],
          "name": "stdout"
        }
      ]
    },
    {
      "cell_type": "markdown",
      "metadata": {
        "id": "4dpqBs1m_aLA",
        "colab_type": "text"
      },
      "source": [
        "###Question 2:\n",
        "[Quartiles] \n",
        "####Write a Pandas program to compute the minimum, 25th percentile, median, 75th, and maximum of a given series. \n",
        "Sample Output:\n",
        "####Original Series:\n",
        "0 3.000938\n",
        "\n",
        "1 11.370722\n",
        "\n",
        "2 14.612143\n",
        "\n",
        "3 8.990256\n",
        "\n",
        "4 13.925283\n",
        "\n",
        "5 12.056875\n",
        "\n",
        ".... 17 14.118931\n",
        "\n",
        "18 8.247458\n",
        "\n",
        "19 5.526727\n",
        "\n",
        "dtype: float64\n",
        "- Minimum, 25th percentile, median, 75th, and maximum of a given series:\n",
        "\n",
        "[ 3.00093811 8.09463867 10.23353705 12.21537733 14.61214321]\n"
      ]
    },
    {
      "cell_type": "code",
      "metadata": {
        "id": "S9h9M40I_qrd",
        "colab_type": "code",
        "outputId": "eb5710d0-ebbc-4952-84fc-d432b711f8ae",
        "colab": {
          "base_uri": "https://localhost:8080/",
          "height": 442
        }
      },
      "source": [
        "state= np.random.RandomState(100)\n",
        "num = pd.Series(state.normal(10, 4, 20))\n",
        "print(\"Original Series:\")\n",
        "print(num)\n",
        "res= np.percentile(num, q=[0, 25, 50, 75, 100])\n",
        "print(\"\\nMinimum, 25th percentile, median, 75th, and maximum of a given series:\")\n",
        "print(res.round(3))"
      ],
      "execution_count": 3,
      "outputs": [
        {
          "output_type": "stream",
          "text": [
            "Original Series:\n",
            "0      3.000938\n",
            "1     11.370722\n",
            "2     14.612143\n",
            "3      8.990256\n",
            "4     13.925283\n",
            "5     12.056875\n",
            "6     10.884719\n",
            "7      5.719827\n",
            "8      9.242017\n",
            "9     11.020006\n",
            "10     8.167892\n",
            "11    11.740654\n",
            "12     7.665620\n",
            "13    13.267388\n",
            "14    12.690883\n",
            "15     9.582355\n",
            "16     7.874878\n",
            "17    14.118931\n",
            "18     8.247458\n",
            "19     5.526727\n",
            "dtype: float64\n",
            "\n",
            "Minimum, 25th percentile, median, 75th, and maximum of a given series:\n",
            "[ 3.001  8.095 10.234 12.215 14.612]\n"
          ],
          "name": "stdout"
        }
      ]
    },
    {
      "cell_type": "markdown",
      "metadata": {
        "id": "nRaCAiwPBBQH",
        "colab_type": "text"
      },
      "source": [
        "###Question 3:\n",
        "[List Difference] \n",
        "####Write a Pandas program to get the items of a given series not present in another given series. \n",
        "Sample Output:\n",
        "- Original Series:\n",
        "\n",
        "sr1:\n",
        "\n",
        "0 1\n",
        "\n",
        "1 2\n",
        "\n",
        "2 3\n",
        "\n",
        "3 4\n",
        "\n",
        "4 5\n",
        "\n",
        "dtype: int64\n",
        "\n",
        "sr2:\n",
        "\n",
        "0 2\n",
        "\n",
        "1 4\n",
        "\n",
        "2 6\n",
        "\n",
        "3 8\n",
        "\n",
        "4 10\n",
        "\n",
        "dtype: int64\n",
        "\n",
        "Items of sr1 not present in sr2:\n",
        "\n",
        "0 1\n",
        "\n",
        "2 3\n",
        "\n",
        "4 5\n",
        "\n",
        "dtype: int64\n"
      ]
    },
    {
      "cell_type": "code",
      "metadata": {
        "id": "l9QqhUyeBY6m",
        "colab_type": "code",
        "outputId": "f81fa504-e8ee-4097-8305-a05a977b464c",
        "colab": {
          "base_uri": "https://localhost:8080/",
          "height": 374
        }
      },
      "source": [
        "s1 = pd.Series([1, 2, 3, 4, 5])\n",
        "s2 = pd.Series([2, 4, 6, 8, 10])\n",
        "print(\"Original Series:\")\n",
        "print(\"s1:\")\n",
        "print(s1)\n",
        "print(\"s2:\")\n",
        "print(s2)\n",
        "print(\"\\nItems of series 1 not present in series 2:\")\n",
        "result = s1[~s1.isin(s2)]\n",
        "print(result)"
      ],
      "execution_count": 4,
      "outputs": [
        {
          "output_type": "stream",
          "text": [
            "Original Series:\n",
            "s1:\n",
            "0    1\n",
            "1    2\n",
            "2    3\n",
            "3    4\n",
            "4    5\n",
            "dtype: int64\n",
            "s2:\n",
            "0     2\n",
            "1     4\n",
            "2     6\n",
            "3     8\n",
            "4    10\n",
            "dtype: int64\n",
            "\n",
            "Items of series 1 not present in series 2:\n",
            "0    1\n",
            "2    3\n",
            "4    5\n",
            "dtype: int64\n"
          ],
          "name": "stdout"
        }
      ]
    },
    {
      "cell_type": "markdown",
      "metadata": {
        "id": "NPv6R5vaC2kE",
        "colab_type": "text"
      },
      "source": [
        "### Question 4:\n",
        "[Filter Words with Multiple Vowels] \n",
        "####Write a Pandas program to filter words from a given series that contain at least two vowels. \n",
        "Sample Output:\n",
        "- Original Series:\n",
        "0 Red\n",
        "1 Green\n",
        "2 Orange\n",
        "3 Pink\n",
        "4 Yellow\n",
        "5 White\n",
        "dtype: object\n",
        "\n",
        "- Filtered words:\n",
        "1 Green\n",
        "2 Orange\n",
        "4 Yellow\n",
        "5 White\n",
        "dtype: object\n",
        "\n"
      ]
    },
    {
      "cell_type": "code",
      "metadata": {
        "id": "rMxIAMoqDEyb",
        "colab_type": "code",
        "outputId": "15785fdb-645e-4e9d-e661-398c24d2ec41",
        "colab": {
          "base_uri": "https://localhost:8080/",
          "height": 272
        }
      },
      "source": [
        "from collections import Counter\n",
        "colors = pd.Series(['Red', 'Green', 'Orange', 'Pink', 'Yellow', 'White'])\n",
        "print(\"Original Series:\")\n",
        "print(colors)\n",
        "print(\"\\nFiltered words:\")\n",
        "result = mask = colors.map(lambda c: sum([Counter(c.lower()).get(i, 0) for i in list('aeiou')]) >= 2)\n",
        "print(colors[result])"
      ],
      "execution_count": 5,
      "outputs": [
        {
          "output_type": "stream",
          "text": [
            "Original Series:\n",
            "0       Red\n",
            "1     Green\n",
            "2    Orange\n",
            "3      Pink\n",
            "4    Yellow\n",
            "5     White\n",
            "dtype: object\n",
            "\n",
            "Filtered words:\n",
            "1     Green\n",
            "2    Orange\n",
            "4    Yellow\n",
            "5     White\n",
            "dtype: object\n"
          ],
          "name": "stdout"
        }
      ]
    },
    {
      "cell_type": "markdown",
      "metadata": {
        "id": "dyuCFqITDzRQ",
        "colab_type": "text"
      },
      "source": [
        "#### Question 5:\n",
        "Consider the following as my DataFrame,Write a Pandas program to select the rows where the number of attempts in the examination is greater than 2.\n"
      ]
    },
    {
      "cell_type": "code",
      "metadata": {
        "id": "lZoLvVQUD_gp",
        "colab_type": "code",
        "outputId": "69efc29b-94d2-4481-904d-bca8a77fc0b1",
        "colab": {
          "base_uri": "https://localhost:8080/",
          "height": 306
        }
      },
      "source": [
        "data = {'Name': ['Anastasia', 'Dima', 'Katherine', 'James', 'Emily', 'Michael', 'Matthew', 'Laura', 'Kevin', 'Jonas'],\n",
        "'Score': [12.5, 9, 16.5, np.nan, 9, 20, 14.5, np.nan, 8, 19],\n",
        "'Attempts': [1, 3, 2, 3, 2, 3, 1, 1, 2, 1],\n",
        "'Qualify': ['yes', 'no', 'yes', 'no', 'no', 'yes', 'yes', 'no', 'no', 'yes']}\n",
        "label = ['a', 'b', 'c', 'd', 'e', 'f', 'g', 'h', 'i', 'j']\n",
        "data = pd.DataFrame(data,index=label,dtype=np.int32)\n",
        "print(data,\"\\n\")\n",
        "print(\"Attempts in the examination greater than 2:\")\n",
        "print(data[data['Attempts'] > 2])"
      ],
      "execution_count": 6,
      "outputs": [
        {
          "output_type": "stream",
          "text": [
            "        Name Score  Attempts Qualify\n",
            "a  Anastasia  12.5         1     yes\n",
            "b       Dima     9         3      no\n",
            "c  Katherine  16.5         2     yes\n",
            "d      James   NaN         3      no\n",
            "e      Emily     9         2      no\n",
            "f    Michael    20         3     yes\n",
            "g    Matthew  14.5         1     yes\n",
            "h      Laura   NaN         1      no\n",
            "i      Kevin     8         2      no\n",
            "j      Jonas    19         1     yes \n",
            "\n",
            "Attempts in the examination greater than 2:\n",
            "      Name Score  Attempts Qualify\n",
            "b     Dima     9         3      no\n",
            "d    James   NaN         3      no\n",
            "f  Michael    20         3     yes\n"
          ],
          "name": "stdout"
        }
      ]
    }
  ]
}