{
  "nbformat": 4,
  "nbformat_minor": 0,
  "metadata": {
    "colab": {
      "name": "27-05-2020(CLASS).ipynb",
      "provenance": [],
      "collapsed_sections": []
    },
    "kernelspec": {
      "name": "python3",
      "display_name": "Python 3"
    }
  },
  "cells": [
    {
      "cell_type": "code",
      "metadata": {
        "id": "HxQ9wmkSTvlD",
        "colab_type": "code",
        "outputId": "a5f8cef8-6a33-4191-a981-da76fabcd5a2",
        "colab": {
          "base_uri": "https://localhost:8080/",
          "height": 34
        }
      },
      "source": [
        "print(\"hello\");"
      ],
      "execution_count": 0,
      "outputs": [
        {
          "output_type": "stream",
          "text": [
            "hello\n"
          ],
          "name": "stdout"
        }
      ]
    },
    {
      "cell_type": "markdown",
      "metadata": {
        "id": "R0XC4INXWkuB",
        "colab_type": "text"
      },
      "source": [
        " # python\n",
        " ##  python\n",
        " ### python\n",
        " #### python\n",
        " ##### python\n",
        " ###### python"
      ]
    },
    {
      "cell_type": "markdown",
      "metadata": {
        "id": "rGQJe3_aWF41",
        "colab_type": "text"
      },
      "source": [
        " ### List of programming languages\n",
        "  1. Python\n",
        "  2. Java\n",
        "  3.C\n",
        "  4. C++\n",
        "  5. .NET\n",
        "  "
      ]
    },
    {
      "cell_type": "markdown",
      "metadata": {
        "id": "9UrCRgJgTnOj",
        "colab_type": "text"
      },
      "source": [
        " #### List of programming languages\n",
        "  - Python\n",
        "    - core java\n",
        "    - Adv java\n",
        "  -Java\n",
        "  -C\n",
        "  - C++\n",
        "  - .NET\n"
      ]
    },
    {
      "cell_type": "markdown",
      "metadata": {
        "id": "akjeKZ6mW7R4",
        "colab_type": "text"
      },
      "source": [
        " **Python Prograaming**      /bold **\n",
        "\n",
        " *python programming*        /Italic *"
      ]
    },
    {
      "cell_type": "markdown",
      "metadata": {
        "id": "w-LMk4JVYXXi",
        "colab_type": "text"
      },
      "source": [
        "   [click here](URL)      -            /giving a link \n",
        "\n",
        "   ![image](data:image/png;base64,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)"
      ]
    },
    {
      "cell_type": "markdown",
      "metadata": {
        "id": "yu8CkJq7bjOI",
        "colab_type": "text"
      },
      "source": [
        " <img src=\"data:image/png;base64,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\" width=200 height=200>"
      ]
    },
    {
      "cell_type": "markdown",
      "metadata": {
        "id": "QShhrsuheyNu",
        "colab_type": "text"
      },
      "source": [
        " ### Numeric data types\n",
        "  1. int\n",
        "  2. float\n",
        "  3. complex"
      ]
    },
    {
      "cell_type": "code",
      "metadata": {
        "id": "TscUbc6ue9AG",
        "colab_type": "code",
        "outputId": "25f141a7-b98c-4e5a-de81-0e6e2e8ef37a",
        "colab": {
          "base_uri": "https://localhost:8080/",
          "height": 51
        }
      },
      "source": [
        "a=10; b=11.2; c=12+3j\n",
        "print(a,b,c)\n",
        "print(type(a),type(b),type(c))"
      ],
      "execution_count": 0,
      "outputs": [
        {
          "output_type": "stream",
          "text": [
            "10 11.2 (12+3j)\n",
            "<class 'int'> <class 'float'> <class 'complex'>\n"
          ],
          "name": "stdout"
        }
      ]
    },
    {
      "cell_type": "code",
      "metadata": {
        "id": "uk13PzW7hNm-",
        "colab_type": "code",
        "outputId": "7ef9c5d8-f06f-42fb-fd20-6d227749148c",
        "colab": {
          "base_uri": "https://localhost:8080/",
          "height": 68
        }
      },
      "source": [
        "c1=4+5j\n",
        "c2=complex(3+6j)\n",
        "print(c1+c2)\n",
        "print(c2.real)\n",
        "print(c2.imag)\n"
      ],
      "execution_count": 0,
      "outputs": [
        {
          "output_type": "stream",
          "text": [
            "(7+11j)\n",
            "3.0\n",
            "6.0\n"
          ],
          "name": "stdout"
        }
      ]
    },
    {
      "cell_type": "code",
      "metadata": {
        "id": "yg5iBEbNh2id",
        "colab_type": "code",
        "outputId": "7bec402e-8877-4ab5-ff64-e75063864ff1",
        "colab": {
          "base_uri": "https://localhost:8080/",
          "height": 170
        }
      },
      "source": [
        "   a = int(input(\"enter value of a\"))\n",
        "   b = int(input(\"enter value of b\"))\n",
        "   print(a+b)\n",
        "   print(a-b)\n",
        "   print(a*b)\n",
        "   print(a/b)                  #foat quotient\n",
        "   print(a%b)\n",
        "   print(a//b)                  #int quotient\n",
        "   print(a ** b)                #exponent 2 5"
      ],
      "execution_count": 0,
      "outputs": [
        {
          "output_type": "stream",
          "text": [
            "enter value of a19\n",
            "enter value of b2\n",
            "21\n",
            "17\n",
            "38\n",
            "9.5\n",
            "1\n",
            "9\n",
            "361\n"
          ],
          "name": "stdout"
        }
      ]
    },
    {
      "cell_type": "markdown",
      "metadata": {
        "id": "beSyI9N6mlm-",
        "colab_type": "text"
      },
      "source": [
        " ## Relational operator: <,>,<=,>=,==,!="
      ]
    },
    {
      "cell_type": "code",
      "metadata": {
        "id": "1kbvdEdCmvgb",
        "colab_type": "code",
        "outputId": "9c7ec020-9d0f-4693-d214-212335941a23",
        "colab": {
          "base_uri": "https://localhost:8080/",
          "height": 119
        }
      },
      "source": [
        "   print(a<b)\n",
        "   print(a>b)\n",
        "   print(a<=b)\n",
        "   print(a>=b)\n",
        "   print(a==b)\n",
        "   print(a!=b)"
      ],
      "execution_count": 0,
      "outputs": [
        {
          "output_type": "stream",
          "text": [
            "True\n",
            "False\n",
            "True\n",
            "False\n",
            "False\n",
            "True\n"
          ],
          "name": "stdout"
        }
      ]
    },
    {
      "cell_type": "markdown",
      "metadata": {
        "id": "Xp9in36AoMbI",
        "colab_type": "text"
      },
      "source": [
        " ## Logical operators : and,or,not"
      ]
    },
    {
      "cell_type": "code",
      "metadata": {
        "id": "4aqkL5wWoVzm",
        "colab_type": "code",
        "outputId": "f8a517f6-45eb-4eb3-bc6b-e8d76b34e32f",
        "colab": {
          "base_uri": "https://localhost:8080/",
          "height": 255
        }
      },
      "source": [
        " print(help(\"keywords\"))"
      ],
      "execution_count": 0,
      "outputs": [
        {
          "output_type": "stream",
          "text": [
            "\n",
            "Here is a list of the Python keywords.  Enter any keyword to get more help.\n",
            "\n",
            "False               def                 if                  raise\n",
            "None                del                 import              return\n",
            "True                elif                in                  try\n",
            "and                 else                is                  while\n",
            "as                  except              lambda              with\n",
            "assert              finally             nonlocal            yield\n",
            "break               for                 not                 \n",
            "class               from                or                  \n",
            "continue            global              pass                \n",
            "\n",
            "None\n"
          ],
          "name": "stdout"
        }
      ]
    },
    {
      "cell_type": "markdown",
      "metadata": {
        "id": "Q3BSVomTq0zy",
        "colab_type": "text"
      },
      "source": [
        " ##Membership operators: in,not in"
      ]
    },
    {
      "cell_type": "code",
      "metadata": {
        "id": "0aW2OO6uqPWh",
        "colab_type": "code",
        "outputId": "56107400-1930-49c6-be8b-dba6c68246b8",
        "colab": {
          "base_uri": "https://localhost:8080/",
          "height": 68
        }
      },
      "source": [
        "\n",
        " list1= [12,13,141,15]\n",
        " print(12 in list1)\n",
        " print(90 in list1)\n",
        " print(91 not in list1)"
      ],
      "execution_count": 0,
      "outputs": [
        {
          "output_type": "stream",
          "text": [
            "True\n",
            "False\n",
            "True\n"
          ],
          "name": "stdout"
        }
      ]
    },
    {
      "cell_type": "markdown",
      "metadata": {
        "id": "Jyd3itWBr0dw",
        "colab_type": "text"
      },
      "source": [
        " ##Conditional statements: if,else,elif"
      ]
    },
    {
      "cell_type": "code",
      "metadata": {
        "id": "AOrdL5U-r8Dg",
        "colab_type": "code",
        "outputId": "58f14b98-cd75-4c52-dadd-72024e9f780e",
        "colab": {
          "base_uri": "https://localhost:8080/",
          "height": 34
        }
      },
      "source": [
        " if a<b:\n",
        "   print(\"a is less than b\")\n",
        " else:\n",
        "   print(\"a is greater than b\")"
      ],
      "execution_count": 0,
      "outputs": [
        {
          "output_type": "stream",
          "text": [
            "a is greater than b\n"
          ],
          "name": "stdout"
        }
      ]
    },
    {
      "cell_type": "code",
      "metadata": {
        "id": "qtAkEAWGt72m",
        "colab_type": "code",
        "outputId": "8acb06e7-b124-42d4-e590-0a600283d825",
        "colab": {
          "base_uri": "https://localhost:8080/",
          "height": 527
        }
      },
      "source": [
        " a=int(input(\"enter a \"))\n",
        " b=int(input(\"enter b \"))\n",
        " c=int(input(\"enter c \"))\n",
        "if a>b and a>c:\n",
        "     print(\"a is largest\")\n",
        "elif b>c and b>a:\n",
        "     print(\"b is largest\")\n",
        "else:\n",
        "     print(\"c is largest\")\n",
        "\n"
      ],
      "execution_count": 0,
      "outputs": [
        {
          "output_type": "error",
          "ename": "KeyboardInterrupt",
          "evalue": "ignored",
          "traceback": [
            "\u001b[0;31m---------------------------------------------------------------------------\u001b[0m",
            "\u001b[0;31mKeyboardInterrupt\u001b[0m                         Traceback (most recent call last)",
            "\u001b[0;32m/usr/local/lib/python3.6/dist-packages/ipykernel/kernelbase.py\u001b[0m in \u001b[0;36m_input_request\u001b[0;34m(self, prompt, ident, parent, password)\u001b[0m\n\u001b[1;32m    728\u001b[0m             \u001b[0;32mtry\u001b[0m\u001b[0;34m:\u001b[0m\u001b[0;34m\u001b[0m\u001b[0;34m\u001b[0m\u001b[0m\n\u001b[0;32m--> 729\u001b[0;31m                 \u001b[0mident\u001b[0m\u001b[0;34m,\u001b[0m \u001b[0mreply\u001b[0m \u001b[0;34m=\u001b[0m \u001b[0mself\u001b[0m\u001b[0;34m.\u001b[0m\u001b[0msession\u001b[0m\u001b[0;34m.\u001b[0m\u001b[0mrecv\u001b[0m\u001b[0;34m(\u001b[0m\u001b[0mself\u001b[0m\u001b[0;34m.\u001b[0m\u001b[0mstdin_socket\u001b[0m\u001b[0;34m,\u001b[0m \u001b[0;36m0\u001b[0m\u001b[0;34m)\u001b[0m\u001b[0;34m\u001b[0m\u001b[0;34m\u001b[0m\u001b[0m\n\u001b[0m\u001b[1;32m    730\u001b[0m             \u001b[0;32mexcept\u001b[0m \u001b[0mException\u001b[0m\u001b[0;34m:\u001b[0m\u001b[0;34m\u001b[0m\u001b[0;34m\u001b[0m\u001b[0m\n",
            "\u001b[0;32m/usr/local/lib/python3.6/dist-packages/jupyter_client/session.py\u001b[0m in \u001b[0;36mrecv\u001b[0;34m(self, socket, mode, content, copy)\u001b[0m\n\u001b[1;32m    802\u001b[0m         \u001b[0;32mtry\u001b[0m\u001b[0;34m:\u001b[0m\u001b[0;34m\u001b[0m\u001b[0;34m\u001b[0m\u001b[0m\n\u001b[0;32m--> 803\u001b[0;31m             \u001b[0mmsg_list\u001b[0m \u001b[0;34m=\u001b[0m \u001b[0msocket\u001b[0m\u001b[0;34m.\u001b[0m\u001b[0mrecv_multipart\u001b[0m\u001b[0;34m(\u001b[0m\u001b[0mmode\u001b[0m\u001b[0;34m,\u001b[0m \u001b[0mcopy\u001b[0m\u001b[0;34m=\u001b[0m\u001b[0mcopy\u001b[0m\u001b[0;34m)\u001b[0m\u001b[0;34m\u001b[0m\u001b[0;34m\u001b[0m\u001b[0m\n\u001b[0m\u001b[1;32m    804\u001b[0m         \u001b[0;32mexcept\u001b[0m \u001b[0mzmq\u001b[0m\u001b[0;34m.\u001b[0m\u001b[0mZMQError\u001b[0m \u001b[0;32mas\u001b[0m \u001b[0me\u001b[0m\u001b[0;34m:\u001b[0m\u001b[0;34m\u001b[0m\u001b[0;34m\u001b[0m\u001b[0m\n",
            "\u001b[0;32m/usr/local/lib/python3.6/dist-packages/zmq/sugar/socket.py\u001b[0m in \u001b[0;36mrecv_multipart\u001b[0;34m(self, flags, copy, track)\u001b[0m\n\u001b[1;32m    474\u001b[0m         \"\"\"\n\u001b[0;32m--> 475\u001b[0;31m         \u001b[0mparts\u001b[0m \u001b[0;34m=\u001b[0m \u001b[0;34m[\u001b[0m\u001b[0mself\u001b[0m\u001b[0;34m.\u001b[0m\u001b[0mrecv\u001b[0m\u001b[0;34m(\u001b[0m\u001b[0mflags\u001b[0m\u001b[0;34m,\u001b[0m \u001b[0mcopy\u001b[0m\u001b[0;34m=\u001b[0m\u001b[0mcopy\u001b[0m\u001b[0;34m,\u001b[0m \u001b[0mtrack\u001b[0m\u001b[0;34m=\u001b[0m\u001b[0mtrack\u001b[0m\u001b[0;34m)\u001b[0m\u001b[0;34m]\u001b[0m\u001b[0;34m\u001b[0m\u001b[0;34m\u001b[0m\u001b[0m\n\u001b[0m\u001b[1;32m    476\u001b[0m         \u001b[0;31m# have first part already, only loop while more to receive\u001b[0m\u001b[0;34m\u001b[0m\u001b[0;34m\u001b[0m\u001b[0;34m\u001b[0m\u001b[0m\n",
            "\u001b[0;32mzmq/backend/cython/socket.pyx\u001b[0m in \u001b[0;36mzmq.backend.cython.socket.Socket.recv\u001b[0;34m()\u001b[0m\n",
            "\u001b[0;32mzmq/backend/cython/socket.pyx\u001b[0m in \u001b[0;36mzmq.backend.cython.socket.Socket.recv\u001b[0;34m()\u001b[0m\n",
            "\u001b[0;32mzmq/backend/cython/socket.pyx\u001b[0m in \u001b[0;36mzmq.backend.cython.socket._recv_copy\u001b[0;34m()\u001b[0m\n",
            "\u001b[0;32m/usr/local/lib/python3.6/dist-packages/zmq/backend/cython/checkrc.pxd\u001b[0m in \u001b[0;36mzmq.backend.cython.checkrc._check_rc\u001b[0;34m()\u001b[0m\n",
            "\u001b[0;31mKeyboardInterrupt\u001b[0m: ",
            "\nDuring handling of the above exception, another exception occurred:\n",
            "\u001b[0;31mKeyboardInterrupt\u001b[0m                         Traceback (most recent call last)",
            "\u001b[0;32m<ipython-input-24-204078e293e8>\u001b[0m in \u001b[0;36m<module>\u001b[0;34m()\u001b[0m\n\u001b[0;32m----> 1\u001b[0;31m \u001b[0ma\u001b[0m\u001b[0;34m=\u001b[0m\u001b[0mint\u001b[0m\u001b[0;34m(\u001b[0m\u001b[0minput\u001b[0m\u001b[0;34m(\u001b[0m\u001b[0;34m\"enter a \"\u001b[0m\u001b[0;34m)\u001b[0m\u001b[0;34m)\u001b[0m\u001b[0;34m\u001b[0m\u001b[0;34m\u001b[0m\u001b[0m\n\u001b[0m\u001b[1;32m      2\u001b[0m \u001b[0mb\u001b[0m\u001b[0;34m=\u001b[0m\u001b[0mint\u001b[0m\u001b[0;34m(\u001b[0m\u001b[0minput\u001b[0m\u001b[0;34m(\u001b[0m\u001b[0;34m\"enter b \"\u001b[0m\u001b[0;34m)\u001b[0m\u001b[0;34m)\u001b[0m\u001b[0;34m\u001b[0m\u001b[0;34m\u001b[0m\u001b[0m\n\u001b[1;32m      3\u001b[0m \u001b[0mc\u001b[0m\u001b[0;34m=\u001b[0m\u001b[0mint\u001b[0m\u001b[0;34m(\u001b[0m\u001b[0minput\u001b[0m\u001b[0;34m(\u001b[0m\u001b[0;34m\"enter c \"\u001b[0m\u001b[0;34m)\u001b[0m\u001b[0;34m)\u001b[0m\u001b[0;34m\u001b[0m\u001b[0;34m\u001b[0m\u001b[0m\n\u001b[1;32m      4\u001b[0m \u001b[0;32mif\u001b[0m \u001b[0ma\u001b[0m\u001b[0;34m>\u001b[0m\u001b[0mb\u001b[0m \u001b[0;32mand\u001b[0m \u001b[0ma\u001b[0m\u001b[0;34m>\u001b[0m\u001b[0mc\u001b[0m\u001b[0;34m:\u001b[0m\u001b[0;34m\u001b[0m\u001b[0;34m\u001b[0m\u001b[0m\n\u001b[1;32m      5\u001b[0m     \u001b[0mprint\u001b[0m\u001b[0;34m(\u001b[0m\u001b[0;34m\"a is largest\"\u001b[0m\u001b[0;34m)\u001b[0m\u001b[0;34m\u001b[0m\u001b[0;34m\u001b[0m\u001b[0m\n",
            "\u001b[0;32m/usr/local/lib/python3.6/dist-packages/ipykernel/kernelbase.py\u001b[0m in \u001b[0;36mraw_input\u001b[0;34m(self, prompt)\u001b[0m\n\u001b[1;32m    702\u001b[0m             \u001b[0mself\u001b[0m\u001b[0;34m.\u001b[0m\u001b[0m_parent_ident\u001b[0m\u001b[0;34m,\u001b[0m\u001b[0;34m\u001b[0m\u001b[0;34m\u001b[0m\u001b[0m\n\u001b[1;32m    703\u001b[0m             \u001b[0mself\u001b[0m\u001b[0;34m.\u001b[0m\u001b[0m_parent_header\u001b[0m\u001b[0;34m,\u001b[0m\u001b[0;34m\u001b[0m\u001b[0;34m\u001b[0m\u001b[0m\n\u001b[0;32m--> 704\u001b[0;31m             \u001b[0mpassword\u001b[0m\u001b[0;34m=\u001b[0m\u001b[0;32mFalse\u001b[0m\u001b[0;34m,\u001b[0m\u001b[0;34m\u001b[0m\u001b[0;34m\u001b[0m\u001b[0m\n\u001b[0m\u001b[1;32m    705\u001b[0m         )\n\u001b[1;32m    706\u001b[0m \u001b[0;34m\u001b[0m\u001b[0m\n",
            "\u001b[0;32m/usr/local/lib/python3.6/dist-packages/ipykernel/kernelbase.py\u001b[0m in \u001b[0;36m_input_request\u001b[0;34m(self, prompt, ident, parent, password)\u001b[0m\n\u001b[1;32m    732\u001b[0m             \u001b[0;32mexcept\u001b[0m \u001b[0mKeyboardInterrupt\u001b[0m\u001b[0;34m:\u001b[0m\u001b[0;34m\u001b[0m\u001b[0;34m\u001b[0m\u001b[0m\n\u001b[1;32m    733\u001b[0m                 \u001b[0;31m# re-raise KeyboardInterrupt, to truncate traceback\u001b[0m\u001b[0;34m\u001b[0m\u001b[0;34m\u001b[0m\u001b[0;34m\u001b[0m\u001b[0m\n\u001b[0;32m--> 734\u001b[0;31m                 \u001b[0;32mraise\u001b[0m \u001b[0mKeyboardInterrupt\u001b[0m\u001b[0;34m\u001b[0m\u001b[0;34m\u001b[0m\u001b[0m\n\u001b[0m\u001b[1;32m    735\u001b[0m             \u001b[0;32melse\u001b[0m\u001b[0;34m:\u001b[0m\u001b[0;34m\u001b[0m\u001b[0;34m\u001b[0m\u001b[0m\n\u001b[1;32m    736\u001b[0m                 \u001b[0;32mbreak\u001b[0m\u001b[0;34m\u001b[0m\u001b[0;34m\u001b[0m\u001b[0m\n",
            "\u001b[0;31mKeyboardInterrupt\u001b[0m: "
          ]
        }
      ]
    }
  ]
}