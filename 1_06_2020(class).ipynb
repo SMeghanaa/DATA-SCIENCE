{
  "nbformat": 4,
  "nbformat_minor": 0,
  "metadata": {
    "colab": {
      "name": "1-06-2020(class).ipynb",
      "provenance": [],
      "collapsed_sections": []
    },
    "kernelspec": {
      "name": "python3",
      "display_name": "Python 3"
    }
  },
  "cells": [
    {
      "cell_type": "markdown",
      "metadata": {
        "id": "DycpiXmOBfvz",
        "colab_type": "text"
      },
      "source": [
        "###Tuple\n",
        "- Immutable #cannot be changed\n",
        "- using() elements are seperated by ,\n",
        "- Indexed,Ordered\n",
        "- Allows duplicate values\n",
        "If changes are to be made, convert it into list, make changes, then again convert it back to a tuple."
      ]
    },
    {
      "cell_type": "code",
      "metadata": {
        "id": "9-Pyd9HUBsyo",
        "colab_type": "code",
        "outputId": "382cbac7-7c87-454e-e79a-dc94c15f235c",
        "colab": {
          "base_uri": "https://localhost:8080/",
          "height": 35
        }
      },
      "source": [
        "#Tuple\n",
        "tup1=(12,3,45.6,\"abc\",True)\n",
        "print(type(tup1))"
      ],
      "execution_count": 0,
      "outputs": [
        {
          "output_type": "stream",
          "text": [
            "<class 'tuple'>\n"
          ],
          "name": "stdout"
        }
      ]
    },
    {
      "cell_type": "code",
      "metadata": {
        "id": "hcHlhQOACBRc",
        "colab_type": "code",
        "outputId": "93a8e2c2-52fc-46dd-808d-88432a117063",
        "colab": {
          "base_uri": "https://localhost:8080/",
          "height": 54
        }
      },
      "source": [
        "print(tup1[2])\n",
        "print(tup1[-1])"
      ],
      "execution_count": 0,
      "outputs": [
        {
          "output_type": "stream",
          "text": [
            "45.6\n",
            "True\n"
          ],
          "name": "stdout"
        }
      ]
    },
    {
      "cell_type": "code",
      "metadata": {
        "id": "0DK7whubCTGv",
        "colab_type": "code",
        "outputId": "2491daad-947c-4d35-e74a-aa02a3613fd5",
        "colab": {
          "base_uri": "https://localhost:8080/",
          "height": 35
        }
      },
      "source": [
        "list1=list(tup1)\n",
        "list1[2]=100\n",
        "tup1=tuple(list1)\n",
        "tup1"
      ],
      "execution_count": 0,
      "outputs": [
        {
          "output_type": "execute_result",
          "data": {
            "text/plain": [
              "(12, 3, 100, 'abc', True)"
            ]
          },
          "metadata": {
            "tags": []
          },
          "execution_count": 9
        }
      ]
    },
    {
      "cell_type": "markdown",
      "metadata": {
        "id": "W6datFm5DU5G",
        "colab_type": "text"
      },
      "source": [
        "###Built-in methods\n",
        "1. count()\n",
        "2. index()"
      ]
    },
    {
      "cell_type": "code",
      "metadata": {
        "id": "8YiQ_vRPDUZh",
        "colab_type": "code",
        "outputId": "b8fb8bc2-32c6-4f82-aa1c-550b4f8177d5",
        "colab": {
          "base_uri": "https://localhost:8080/",
          "height": 54
        }
      },
      "source": [
        "print(tup1.count(12))       #counts the occurences\n",
        "print(tup1.index(12))"
      ],
      "execution_count": 0,
      "outputs": [
        {
          "output_type": "stream",
          "text": [
            "1\n",
            "0\n"
          ],
          "name": "stdout"
        }
      ]
    },
    {
      "cell_type": "code",
      "metadata": {
        "id": "1st68aE5D-HN",
        "colab_type": "code",
        "outputId": "dd17517c-fbc3-4090-91bb-16ba3d302d21",
        "colab": {
          "base_uri": "https://localhost:8080/",
          "height": 35
        }
      },
      "source": [
        "#unpacking\n",
        "tup2=(23,56,234,5)\n",
        "a,b,c,d=tup2\n",
        "print(b)\n"
      ],
      "execution_count": 0,
      "outputs": [
        {
          "output_type": "stream",
          "text": [
            "56\n"
          ],
          "name": "stdout"
        }
      ]
    },
    {
      "cell_type": "code",
      "metadata": {
        "id": "ypECantjEdyg",
        "colab_type": "code",
        "outputId": "9f90467d-4d6b-4ce2-e942-ff79dede200b",
        "colab": {
          "base_uri": "https://localhost:8080/",
          "height": 54
        }
      },
      "source": [
        "#packing\n",
        "x=10,20,30\n",
        "print(x)\n",
        "print(type(x))"
      ],
      "execution_count": 0,
      "outputs": [
        {
          "output_type": "stream",
          "text": [
            "(10, 20, 30)\n",
            "<class 'tuple'>\n"
          ],
          "name": "stdout"
        }
      ]
    },
    {
      "cell_type": "markdown",
      "metadata": {
        "id": "HBkyJqIWHa__",
        "colab_type": "text"
      },
      "source": [
        "###SET\n",
        "1. {}\n",
        "2. not ordered\n",
        "3. unindexed\n",
        "4. mutable\n",
        "5. No duplicate values"
      ]
    },
    {
      "cell_type": "code",
      "metadata": {
        "id": "mhxg6aQUHI1i",
        "colab_type": "code",
        "outputId": "edd73c9e-c94e-46c7-f338-5e778321f1ec",
        "colab": {
          "base_uri": "https://localhost:8080/",
          "height": 35
        }
      },
      "source": [
        "se1={1,2,334,5,6,7,8}\n",
        "print(se1)"
      ],
      "execution_count": 0,
      "outputs": [
        {
          "output_type": "stream",
          "text": [
            "{1, 2, 5, 6, 7, 8, 334}\n"
          ],
          "name": "stdout"
        }
      ]
    },
    {
      "cell_type": "code",
      "metadata": {
        "id": "-eybOT37Hq8y",
        "colab_type": "code",
        "outputId": "356e234e-a3ce-4def-f0e4-d411637d2b2c",
        "colab": {
          "base_uri": "https://localhost:8080/",
          "height": 145
        }
      },
      "source": [
        "for i in se1:\n",
        "  print(i)"
      ],
      "execution_count": 0,
      "outputs": [
        {
          "output_type": "stream",
          "text": [
            "1\n",
            "2\n",
            "5\n",
            "6\n",
            "7\n",
            "8\n",
            "334\n"
          ],
          "name": "stdout"
        }
      ]
    },
    {
      "cell_type": "markdown",
      "metadata": {
        "id": "NUv7OENlImxZ",
        "colab_type": "text"
      },
      "source": [
        "###Built-in functions\n",
        "1. len()\n",
        "2. min()\n",
        "3. max()\n",
        "4. set()"
      ]
    },
    {
      "cell_type": "code",
      "metadata": {
        "id": "ui4oilfkHtQX",
        "colab_type": "code",
        "outputId": "f65d0ec4-6cc4-41ee-d97f-f8ae0170ec71",
        "colab": {
          "base_uri": "https://localhost:8080/",
          "height": 90
        }
      },
      "source": [
        "print(se1)\n",
        "print(len(se1))\n",
        "print(min(se1))\n",
        "print(max(se1))"
      ],
      "execution_count": 0,
      "outputs": [
        {
          "output_type": "stream",
          "text": [
            "{1, 2, 5, 6, 7, 8, 334}\n",
            "7\n",
            "1\n",
            "334\n"
          ],
          "name": "stdout"
        }
      ]
    },
    {
      "cell_type": "code",
      "metadata": {
        "id": "U9L_XeDAJBwY",
        "colab_type": "code",
        "outputId": "6c616d7a-49db-4e45-c977-77ba3719b3eb",
        "colab": {
          "base_uri": "https://localhost:8080/",
          "height": 35
        }
      },
      "source": [
        "#Removing dupliactes from the list\n",
        "list1=[1,2,3,4,5,1,2,3]\n",
        "list1=set(list1)\n",
        "list1"
      ],
      "execution_count": 0,
      "outputs": [
        {
          "output_type": "execute_result",
          "data": {
            "text/plain": [
              "{1, 2, 3, 4, 5}"
            ]
          },
          "metadata": {
            "tags": []
          },
          "execution_count": 22
        }
      ]
    },
    {
      "cell_type": "markdown",
      "metadata": {
        "id": "jPeBwEPMJnaw",
        "colab_type": "text"
      },
      "source": [
        "###Built-in Methods:\n",
        "1. add()\n",
        "###Removing elements\n",
        "2. remove()\n",
        "3. discard()\n",
        "4. pop()\n",
        "5. clear()\n"
      ]
    },
    {
      "cell_type": "code",
      "metadata": {
        "id": "e03StPXHJPAS",
        "colab_type": "code",
        "outputId": "0b6f306f-57f1-49fa-cdd1-10f7c3e96c21",
        "colab": {
          "base_uri": "https://localhost:8080/",
          "height": 35
        }
      },
      "source": [
        "set2=set()\n",
        "print(type(set2))"
      ],
      "execution_count": 0,
      "outputs": [
        {
          "output_type": "stream",
          "text": [
            "<class 'set'>\n"
          ],
          "name": "stdout"
        }
      ]
    },
    {
      "cell_type": "code",
      "metadata": {
        "id": "93vUeUunK2yf",
        "colab_type": "code",
        "outputId": "f66e03c9-c32e-4077-8bae-b10f404464c5",
        "colab": {
          "base_uri": "https://localhost:8080/",
          "height": 35
        }
      },
      "source": [
        "#Adding on element\n",
        "set2.add(12)\n",
        "set2.add(23)\n",
        "set2.add(56)\n",
        "set2"
      ],
      "execution_count": 0,
      "outputs": [
        {
          "output_type": "execute_result",
          "data": {
            "text/plain": [
              "{12, 23, 56}"
            ]
          },
          "metadata": {
            "tags": []
          },
          "execution_count": 25
        }
      ]
    },
    {
      "cell_type": "code",
      "metadata": {
        "id": "k6RCk9shLJqB",
        "colab_type": "code",
        "outputId": "1bd1ed4c-d861-41bd-bf16-127b8e06eb6d",
        "colab": {
          "base_uri": "https://localhost:8080/",
          "height": 35
        }
      },
      "source": [
        "set2.pop()\n",
        "set2"
      ],
      "execution_count": 0,
      "outputs": [
        {
          "output_type": "execute_result",
          "data": {
            "text/plain": [
              "{12, 23}"
            ]
          },
          "metadata": {
            "tags": []
          },
          "execution_count": 26
        }
      ]
    },
    {
      "cell_type": "code",
      "metadata": {
        "id": "QTCxyyyHLgz2",
        "colab_type": "code",
        "outputId": "c316ded8-10e2-4ffd-ee73-f8d57462174f",
        "colab": {
          "base_uri": "https://localhost:8080/",
          "height": 189
        }
      },
      "source": [
        "set2.remove(12)    #gives an error if the element is not present in the set\n",
        "set2"
      ],
      "execution_count": 0,
      "outputs": [
        {
          "output_type": "error",
          "ename": "KeyError",
          "evalue": "ignored",
          "traceback": [
            "\u001b[0;31m---------------------------------------------------------------------------\u001b[0m",
            "\u001b[0;31mKeyError\u001b[0m                                  Traceback (most recent call last)",
            "\u001b[0;32m<ipython-input-31-5d4f6ecfd6e6>\u001b[0m in \u001b[0;36m<module>\u001b[0;34m()\u001b[0m\n\u001b[0;32m----> 1\u001b[0;31m \u001b[0mset2\u001b[0m\u001b[0;34m.\u001b[0m\u001b[0mremove\u001b[0m\u001b[0;34m(\u001b[0m\u001b[0;36m12\u001b[0m\u001b[0;34m)\u001b[0m\u001b[0;34m\u001b[0m\u001b[0;34m\u001b[0m\u001b[0m\n\u001b[0m\u001b[1;32m      2\u001b[0m \u001b[0mset2\u001b[0m\u001b[0;34m\u001b[0m\u001b[0;34m\u001b[0m\u001b[0m\n",
            "\u001b[0;31mKeyError\u001b[0m: 12"
          ]
        }
      ]
    },
    {
      "cell_type": "code",
      "metadata": {
        "id": "DoAMoDjfLnw9",
        "colab_type": "code",
        "outputId": "8b1a5a46-1cb4-409c-8997-e0dac63752fc",
        "colab": {
          "base_uri": "https://localhost:8080/",
          "height": 35
        }
      },
      "source": [
        "set2.discard(12)          #no error if the element doesnt exist in the set\n",
        "set2"
      ],
      "execution_count": 0,
      "outputs": [
        {
          "output_type": "execute_result",
          "data": {
            "text/plain": [
              "{23}"
            ]
          },
          "metadata": {
            "tags": []
          },
          "execution_count": 30
        }
      ]
    },
    {
      "cell_type": "code",
      "metadata": {
        "id": "7KRYsGBuL-rN",
        "colab_type": "code",
        "outputId": "ba344f61-d791-4743-bfb3-70f69aaebabf",
        "colab": {
          "base_uri": "https://localhost:8080/",
          "height": 35
        }
      },
      "source": [
        "set2.clear()\n",
        "set2"
      ],
      "execution_count": 0,
      "outputs": [
        {
          "output_type": "execute_result",
          "data": {
            "text/plain": [
              "set()"
            ]
          },
          "metadata": {
            "tags": []
          },
          "execution_count": 32
        }
      ]
    },
    {
      "cell_type": "code",
      "metadata": {
        "id": "b_fm2PtNOnxA",
        "colab_type": "code",
        "colab": {
          "base_uri": "https://localhost:8080/",
          "height": 90
        },
        "outputId": "34fa0f0f-9253-4007-9f67-da6ad6db4f1d"
      },
      "source": [
        "A={1,2,3,4,5}\n",
        "B={3,4,5,6,7}\n",
        "#UNION\n",
        "print(A.union(B))\n",
        "#A-B==>{1,2}\n",
        "#B-A==>{6,7}\n",
        "print(A.difference(B))\n",
        "print(B.difference(A))\n",
        "##Intersection a and b==>{3,4,5}\n",
        "print(A.intersection(B))"
      ],
      "execution_count": 18,
      "outputs": [
        {
          "output_type": "stream",
          "text": [
            "{1, 2, 3, 4, 5, 6, 7}\n",
            "{1, 2}\n",
            "{6, 7}\n",
            "{3, 4, 5}\n"
          ],
          "name": "stdout"
        }
      ]
    },
    {
      "cell_type": "code",
      "metadata": {
        "id": "7Jqk3bbNPgA2",
        "colab_type": "code",
        "colab": {
          "base_uri": "https://localhost:8080/",
          "height": 90
        },
        "outputId": "0c349357-5460-4a68-b6c7-d8cbda3db464"
      },
      "source": [
        "# subset,super set,disjoint\n",
        "# symmetic difference\n",
        "A={1,2,3,4,5}\n",
        "B={3,4,5,6,7}\n",
        "c={1,2,3,4,5,6,7,8,9,10}\n",
        "print(A.issubset(c))\n",
        "print(A.issubset(B))\n",
        "print(c.issuperset(A))\n",
        "print(c.issuperset(B))\n"
      ],
      "execution_count": 21,
      "outputs": [
        {
          "output_type": "stream",
          "text": [
            "True\n",
            "False\n",
            "True\n",
            "True\n"
          ],
          "name": "stdout"
        }
      ]
    },
    {
      "cell_type": "code",
      "metadata": {
        "id": "p-6w07onBBIe",
        "colab_type": "code",
        "colab": {
          "base_uri": "https://localhost:8080/",
          "height": 54
        },
        "outputId": "205cfbbb-0974-4268-a308-a018fbdc0af4"
      },
      "source": [
        "#Disjoint\n",
        "x={1,2}\n",
        "y={23,24,25}\n",
        "print(A.isdisjoint(B))\n",
        "print(x.isdisjoint(y))"
      ],
      "execution_count": 22,
      "outputs": [
        {
          "output_type": "stream",
          "text": [
            "False\n",
            "True\n"
          ],
          "name": "stdout"
        }
      ]
    },
    {
      "cell_type": "code",
      "metadata": {
        "id": "5zXXGBN6BftL",
        "colab_type": "code",
        "colab": {
          "base_uri": "https://localhost:8080/",
          "height": 54
        },
        "outputId": "b0ea8293-f2aa-4fb3-faf3-d529f92a690c"
      },
      "source": [
        "A.update(B)\n",
        "print(A)\n",
        "print(B)"
      ],
      "execution_count": 23,
      "outputs": [
        {
          "output_type": "stream",
          "text": [
            "{1, 2, 3, 4, 5, 6, 7}\n",
            "{3, 4, 5, 6, 7}\n"
          ],
          "name": "stdout"
        }
      ]
    },
    {
      "cell_type": "code",
      "metadata": {
        "id": "nSSZfLWIB269",
        "colab_type": "code",
        "colab": {
          "base_uri": "https://localhost:8080/",
          "height": 54
        },
        "outputId": "ae5810f7-d7bb-450e-fafe-f507a633bbcf"
      },
      "source": [
        "A.intersection_update(B)\n",
        "print(A)\n",
        "print(B)"
      ],
      "execution_count": 24,
      "outputs": [
        {
          "output_type": "stream",
          "text": [
            "{3, 4, 5, 6, 7}\n",
            "{3, 4, 5, 6, 7}\n"
          ],
          "name": "stdout"
        }
      ]
    },
    {
      "cell_type": "code",
      "metadata": {
        "id": "cwPSHGGcB_9J",
        "colab_type": "code",
        "colab": {
          "base_uri": "https://localhost:8080/",
          "height": 54
        },
        "outputId": "ebe233b3-e047-4ab1-8dfa-1af946b6916b"
      },
      "source": [
        "A.difference_update(B)\n",
        "print(A)\n",
        "print(B)"
      ],
      "execution_count": 25,
      "outputs": [
        {
          "output_type": "stream",
          "text": [
            "set()\n",
            "{3, 4, 5, 6, 7}\n"
          ],
          "name": "stdout"
        }
      ]
    },
    {
      "cell_type": "code",
      "metadata": {
        "id": "PWu3QPO-CEFs",
        "colab_type": "code",
        "colab": {
          "base_uri": "https://localhost:8080/",
          "height": 54
        },
        "outputId": "52ab46fe-aa41-4cce-ff18-25b53260ebd6"
      },
      "source": [
        "A.symmetric_difference_update(B)\n",
        "print(A)\n",
        "print(B)"
      ],
      "execution_count": 26,
      "outputs": [
        {
          "output_type": "stream",
          "text": [
            "{3, 4, 5, 6, 7}\n",
            "{3, 4, 5, 6, 7}\n"
          ],
          "name": "stdout"
        }
      ]
    },
    {
      "cell_type": "markdown",
      "metadata": {
        "id": "bmoNMjYYCPnL",
        "colab_type": "text"
      },
      "source": [
        "###Dictionary\n",
        "dictionary name={key1:value1,key2:value2,...}\n",
        "- Rules for key:\n",
        "    - keys should be unique\n",
        "    - keys should be immutable(example:numerics,string,tuple)"
      ]
    },
    {
      "cell_type": "code",
      "metadata": {
        "id": "umia9raFCrjk",
        "colab_type": "code",
        "colab": {
          "base_uri": "https://localhost:8080/",
          "height": 35
        },
        "outputId": "ca4b315b-d133-42ab-95b1-6928269398b3"
      },
      "source": [
        "#Creating a dictionary\n",
        "dict1={\"name\":\"megh\",\"student id\":\"54\",\"address\":\"hyd\"}\n",
        "print(dict1)"
      ],
      "execution_count": 27,
      "outputs": [
        {
          "output_type": "stream",
          "text": [
            "{'name': 'megh', 'student id': '54', 'address': 'hyd'}\n"
          ],
          "name": "stdout"
        }
      ]
    },
    {
      "cell_type": "code",
      "metadata": {
        "id": "koyMiOJHDCOO",
        "colab_type": "code",
        "colab": {
          "base_uri": "https://localhost:8080/",
          "height": 35
        },
        "outputId": "25449598-0499-4aff-d6a1-214e60a8dfd4"
      },
      "source": [
        "#extracting an element\n",
        "print(dict1[\"student id\"])"
      ],
      "execution_count": 28,
      "outputs": [
        {
          "output_type": "stream",
          "text": [
            "54\n"
          ],
          "name": "stdout"
        }
      ]
    },
    {
      "cell_type": "code",
      "metadata": {
        "id": "GzCaNyLPDIlu",
        "colab_type": "code",
        "colab": {}
      },
      "source": [
        "#Removing or deleting an entry\n",
        "del dict1[\"address\"]\n",
        "print(dict1)"
      ],
      "execution_count": 0,
      "outputs": []
    },
    {
      "cell_type": "code",
      "metadata": {
        "id": "mHBMc1u6DPkB",
        "colab_type": "code",
        "colab": {
          "base_uri": "https://localhost:8080/",
          "height": 35
        },
        "outputId": "05726930-1875-4bd0-e96f-a8c82cdca334"
      },
      "source": [
        "#Adding an entry\n",
        "dict1[\"course\"]=\"python\"\n",
        "print(dict1)"
      ],
      "execution_count": 30,
      "outputs": [
        {
          "output_type": "stream",
          "text": [
            "{'name': 'megh', 'student id': '54', 'address': 'hyd', 'course': 'python'}\n"
          ],
          "name": "stdout"
        }
      ]
    },
    {
      "cell_type": "markdown",
      "metadata": {
        "id": "YDiPSxknDW7Q",
        "colab_type": "text"
      },
      "source": [
        "###Built-in methods\n",
        "1. keys()\n",
        "2. values()\n",
        "3. items()\n",
        "4. get()\n",
        "5. update()\n",
        "6. pop()\n",
        "7. popitem()"
      ]
    },
    {
      "cell_type": "code",
      "metadata": {
        "id": "8X0iudBYDU4F",
        "colab_type": "code",
        "colab": {
          "base_uri": "https://localhost:8080/",
          "height": 92
        },
        "outputId": "abcefd75-1213-4041-90cf-c721b883a887"
      },
      "source": [
        "print(dict1.keys())\n",
        "print(dict1.values())\n",
        "print(dict1.items())\n"
      ],
      "execution_count": 33,
      "outputs": [
        {
          "output_type": "stream",
          "text": [
            "dict_keys(['name', 'student id', 'address', 'course'])\n",
            "dict_values(['megh', '54', 'hyd', 'python'])\n",
            "dict_items([('name', 'megh'), ('student id', '54'), ('address', 'hyd'), ('course', 'python')])\n"
          ],
          "name": "stdout"
        }
      ]
    },
    {
      "cell_type": "code",
      "metadata": {
        "id": "wjFvo_JqD2Zg",
        "colab_type": "code",
        "colab": {
          "base_uri": "https://localhost:8080/",
          "height": 54
        },
        "outputId": "7a37d517-7af0-4bcd-b757-7777d94b3368"
      },
      "source": [
        "#ectracting an element\n",
        "print(dict1[\"name\"])\n",
        "print(dict1.get(\"name\"))"
      ],
      "execution_count": 32,
      "outputs": [
        {
          "output_type": "stream",
          "text": [
            "megh\n",
            "megh\n"
          ],
          "name": "stdout"
        }
      ]
    },
    {
      "cell_type": "code",
      "metadata": {
        "id": "ZZ7lii9XEYXn",
        "colab_type": "code",
        "colab": {
          "base_uri": "https://localhost:8080/",
          "height": 35
        },
        "outputId": "4f05549d-1a86-46b7-a9c6-a16c94ce1974"
      },
      "source": [
        "#adding an entry\n",
        "dict1[\"address\"]=\"hyd\"\n",
        "dict1"
      ],
      "execution_count": 34,
      "outputs": [
        {
          "output_type": "execute_result",
          "data": {
            "text/plain": [
              "{'address': 'hyd', 'course': 'python', 'name': 'megh', 'student id': '54'}"
            ]
          },
          "metadata": {
            "tags": []
          },
          "execution_count": 34
        }
      ]
    },
    {
      "cell_type": "code",
      "metadata": {
        "id": "kndMimsJEeyF",
        "colab_type": "code",
        "colab": {
          "base_uri": "https://localhost:8080/",
          "height": 55
        },
        "outputId": "80c96bb3-d5c2-46ae-8b05-19ced39eda2c"
      },
      "source": [
        "d={1:1,2:2,3:3}\n",
        "dict1.update(d)\n",
        "print(dict1)"
      ],
      "execution_count": 35,
      "outputs": [
        {
          "output_type": "stream",
          "text": [
            "{'name': 'megh', 'student id': '54', 'address': 'hyd', 'course': 'python', 1: 1, 2: 2, 3: 3}\n"
          ],
          "name": "stdout"
        }
      ]
    },
    {
      "cell_type": "code",
      "metadata": {
        "id": "Jq7hiYw8Eone",
        "colab_type": "code",
        "colab": {
          "base_uri": "https://localhost:8080/",
          "height": 35
        },
        "outputId": "149b7455-71ea-43fc-cec6-825ec416f04b"
      },
      "source": [
        "#removing an entry\n",
        "#pop()\n",
        "#popitem()\n",
        "\n",
        "dict1.pop(\"name\")\n",
        "dict1"
      ],
      "execution_count": 36,
      "outputs": [
        {
          "output_type": "execute_result",
          "data": {
            "text/plain": [
              "{1: 1, 2: 2, 3: 3, 'address': 'hyd', 'course': 'python', 'student id': '54'}"
            ]
          },
          "metadata": {
            "tags": []
          },
          "execution_count": 36
        }
      ]
    },
    {
      "cell_type": "code",
      "metadata": {
        "id": "hYxtt6nuExb4",
        "colab_type": "code",
        "colab": {
          "base_uri": "https://localhost:8080/",
          "height": 35
        },
        "outputId": "a0813227-7e13-4be2-e78d-437b239194d2"
      },
      "source": [
        "dict1.popitem()"
      ],
      "execution_count": 37,
      "outputs": [
        {
          "output_type": "execute_result",
          "data": {
            "text/plain": [
              "(3, 3)"
            ]
          },
          "metadata": {
            "tags": []
          },
          "execution_count": 37
        }
      ]
    },
    {
      "cell_type": "code",
      "metadata": {
        "id": "mQxpt35hE1tK",
        "colab_type": "code",
        "colab": {
          "base_uri": "https://localhost:8080/",
          "height": 35
        },
        "outputId": "62e364cf-54d0-4aca-fc9b-c4ae14c3f930"
      },
      "source": [
        "dict1"
      ],
      "execution_count": 38,
      "outputs": [
        {
          "output_type": "execute_result",
          "data": {
            "text/plain": [
              "{1: 1, 2: 2, 'address': 'hyd', 'course': 'python', 'student id': '54'}"
            ]
          },
          "metadata": {
            "tags": []
          },
          "execution_count": 38
        }
      ]
    }
  ]
}