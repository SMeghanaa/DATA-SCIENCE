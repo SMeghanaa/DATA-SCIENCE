{
  "nbformat": 4,
  "nbformat_minor": 0,
  "metadata": {
    "colab": {
      "name": "30-05-2020(class).ipynb",
      "provenance": [],
      "collapsed_sections": []
    },
    "kernelspec": {
      "name": "python3",
      "display_name": "Python 3"
    }
  },
  "cells": [
    {
      "cell_type": "markdown",
      "metadata": {
        "id": "hnexlbaxxTs6",
        "colab_type": "text"
      },
      "source": [
        ""
      ]
    },
    {
      "cell_type": "code",
      "metadata": {
        "id": "CCmTM8qHxQP0",
        "colab_type": "code",
        "colab": {
          "base_uri": "https://localhost:8080/",
          "height": 52
        },
        "outputId": "a3cdd7cb-01ea-41ed-f7c2-8d1627e432b2"
      },
      "source": [
        "n=int(input(\"enter a number :\"))\n",
        "if int(str(n**2)[::-1])==int(str(n)[::-1])**2:\n",
        "  print(\"adam number\")\n",
        "else:\n",
        "  print(\"mot an adam number\")"
      ],
      "execution_count": 2,
      "outputs": [
        {
          "output_type": "stream",
          "text": [
            "enter a number :11\n",
            "adam number\n"
          ],
          "name": "stdout"
        }
      ]
    },
    {
      "cell_type": "code",
      "metadata": {
        "id": "dnF4AveS0LaW",
        "colab_type": "code",
        "colab": {
          "base_uri": "https://localhost:8080/",
          "height": 52
        },
        "outputId": "46f5831c-9305-43e8-e9de-7eb3ae394613"
      },
      "source": [
        "#conditional operator\n",
        "n=int(input(\"enter a number: \"))\n",
        "print(\"Adam number\") if int(str(n**2)[::-1])==int(str(n)[::-1])**2 else print(\"Not an adam number\")"
      ],
      "execution_count": 4,
      "outputs": [
        {
          "output_type": "stream",
          "text": [
            "enter a number: 3\n",
            "Adam number\n"
          ],
          "name": "stdout"
        }
      ]
    },
    {
      "cell_type": "markdown",
      "metadata": {
        "id": "zgvDOoQI6OLU",
        "colab_type": "text"
      },
      "source": [
        "##Fibonacci series"
      ]
    },
    {
      "cell_type": "code",
      "metadata": {
        "id": "LTLl8lK2DQWv",
        "colab_type": "code",
        "colab": {
          "base_uri": "https://localhost:8080/",
          "height": 52
        },
        "outputId": "64aafefc-8733-47c8-bf7c-b234aca0f8b2"
      },
      "source": [
        "fibs=[0,1]\n",
        "def fib(n):\n",
        "  if n<=len(fibs):\n",
        "    return fibs[n-1]\n",
        "  else:\n",
        "    fibs.append(fibs[len(fibs)-1]+fibs[len(fibs)-2])\n",
        "    return fib(n)\n",
        "print(fib(10))\n",
        "print(fibs)"
      ],
      "execution_count": 8,
      "outputs": [
        {
          "output_type": "stream",
          "text": [
            "34\n",
            "[0, 1, 1, 2, 3, 5, 8, 13, 21, 34]\n"
          ],
          "name": "stdout"
        }
      ]
    },
    {
      "cell_type": "markdown",
      "metadata": {
        "id": "3-6w2rScDS5C",
        "colab_type": "text"
      },
      "source": [
        "###List"
      ]
    },
    {
      "cell_type": "code",
      "metadata": {
        "id": "jivDm87ODk9F",
        "colab_type": "code",
        "colab": {
          "base_uri": "https://localhost:8080/",
          "height": 52
        },
        "outputId": "ac953ce7-d975-48ac-9763-c980fdd9039f"
      },
      "source": [
        "list1=[12,34,45,6,\"STR\",True]\n",
        "list2=[34,45,6,45,[6,4,5,6,[67,90,43,23]]]\n",
        "print(list1[4][2])\n",
        "print(list2[4][4][3])"
      ],
      "execution_count": 13,
      "outputs": [
        {
          "output_type": "stream",
          "text": [
            "R\n",
            "23\n"
          ],
          "name": "stdout"
        }
      ]
    },
    {
      "cell_type": "markdown",
      "metadata": {
        "id": "W_Nwab9AE2Ah",
        "colab_type": "text"
      },
      "source": [
        "####Built-in Methods:\n",
        "Adding elements\n",
        "1. append()   //one value\n",
        "2. insert()         at a time   //\n",
        "3. extend()    //multiple values"
      ]
    },
    {
      "cell_type": "code",
      "metadata": {
        "id": "R48WieuDFFKn",
        "colab_type": "code",
        "colab": {
          "base_uri": "https://localhost:8080/",
          "height": 52
        },
        "outputId": "719fd11b-cd5b-47d2-a716-5e4f3362f66c"
      },
      "source": [
        "#append()\n",
        "list1=[1,2,3,4,5]\n",
        "list1.append(6)\n",
        "print(list1)\n",
        "list1.append(7)\n",
        "print(list1)"
      ],
      "execution_count": 15,
      "outputs": [
        {
          "output_type": "stream",
          "text": [
            "[1, 2, 3, 4, 5, 6]\n",
            "[1, 2, 3, 4, 5, 6, 7]\n"
          ],
          "name": "stdout"
        }
      ]
    },
    {
      "cell_type": "code",
      "metadata": {
        "id": "qg4U9Vz3FmRy",
        "colab_type": "code",
        "colab": {
          "base_uri": "https://localhost:8080/",
          "height": 35
        },
        "outputId": "dfcd9743-3a2f-4dc7-ec9a-31eabe1e1eb3"
      },
      "source": [
        "#insert(pos,ele)  //enters element at a pos\n",
        "list1.insert(2,100)\n",
        "print(list1)"
      ],
      "execution_count": 16,
      "outputs": [
        {
          "output_type": "stream",
          "text": [
            "[1, 2, 100, 3, 4, 5, 6, 7]\n"
          ],
          "name": "stdout"
        }
      ]
    },
    {
      "cell_type": "code",
      "metadata": {
        "id": "EKkH6vtOF4V7",
        "colab_type": "code",
        "colab": {
          "base_uri": "https://localhost:8080/",
          "height": 35
        },
        "outputId": "988575e1-767b-4223-b982-b41e2fb36dd6"
      },
      "source": [
        "##extend()        //adds element only at the end of the list //Takes multiple values at once\n",
        "list1.extend([8,9,10])\n",
        "print(list1)"
      ],
      "execution_count": 17,
      "outputs": [
        {
          "output_type": "stream",
          "text": [
            "[1, 2, 100, 3, 4, 5, 6, 7, 8, 9, 10]\n"
          ],
          "name": "stdout"
        }
      ]
    },
    {
      "cell_type": "markdown",
      "metadata": {
        "id": "j7bTOhIOGVSC",
        "colab_type": "text"
      },
      "source": [
        "###Removing elements:\n",
        "1. pop()\n",
        "2. remove()\n",
        "3. clear()\n"
      ]
    },
    {
      "cell_type": "code",
      "metadata": {
        "id": "YpeFDvOrGpCk",
        "colab_type": "code",
        "colab": {
          "base_uri": "https://localhost:8080/",
          "height": 69
        },
        "outputId": "112fca75-d1c1-4648-fe97-d5c178c77b5f"
      },
      "source": [
        "#pop\n",
        "print(list1)\n",
        "list1.pop()\n",
        "print(list1)\n",
        "list1.pop(2) //at a position"
      ],
      "execution_count": 20,
      "outputs": [
        {
          "output_type": "stream",
          "text": [
            "[1, 2, 100, 3, 4, 5, 6, 7, 8]\n",
            "[1, 2, 100, 3, 4, 5, 6, 7]\n"
          ],
          "name": "stdout"
        },
        {
          "output_type": "execute_result",
          "data": {
            "text/plain": [
              "100"
            ]
          },
          "metadata": {
            "tags": []
          },
          "execution_count": 20
        }
      ]
    },
    {
      "cell_type": "code",
      "metadata": {
        "id": "0lp7F7sJHEbY",
        "colab_type": "code",
        "colab": {
          "base_uri": "https://localhost:8080/",
          "height": 35
        },
        "outputId": "06a01a9b-79f7-4710-f799-651415c2d583"
      },
      "source": [
        "#remove   /when the position of the element is not known\n",
        "list1.remove(7)\n",
        "print(list1)"
      ],
      "execution_count": 21,
      "outputs": [
        {
          "output_type": "stream",
          "text": [
            "[1, 2, 3, 4, 5, 6]\n"
          ],
          "name": "stdout"
        }
      ]
    },
    {
      "cell_type": "code",
      "metadata": {
        "id": "RUDl1T-3HXg0",
        "colab_type": "code",
        "colab": {
          "base_uri": "https://localhost:8080/",
          "height": 35
        },
        "outputId": "730e4f37-541a-4455-b7b4-4b431b798cf0"
      },
      "source": [
        "#clear  /entire list is cleared\n",
        "list1.clear()\n",
        "print(list1)"
      ],
      "execution_count": 22,
      "outputs": [
        {
          "output_type": "stream",
          "text": [
            "[]\n"
          ],
          "name": "stdout"
        }
      ]
    },
    {
      "cell_type": "markdown",
      "metadata": {
        "id": "-7B2Lmq0HlGc",
        "colab_type": "text"
      },
      "source": [
        "####sorting and reversing\n",
        "1. sort()\n",
        "8. reverse()\n",
        "9. index()\n",
        "10. copy()\n",
        "11. count()\n"
      ]
    },
    {
      "cell_type": "code",
      "metadata": {
        "id": "7rJ5qdwAHviU",
        "colab_type": "code",
        "colab": {
          "base_uri": "https://localhost:8080/",
          "height": 52
        },
        "outputId": "c5040efa-92a0-4772-9bdc-ce7644ff6b12"
      },
      "source": [
        "#index()\n",
        "list1=[12,25,13,14,25,27]\n",
        "print(list1.index(13))   #ndex of element 13\n",
        "print(list1.count(25))   #frequency of an element (counts duplicate values)"
      ],
      "execution_count": 26,
      "outputs": [
        {
          "output_type": "stream",
          "text": [
            "2\n",
            "2\n"
          ],
          "name": "stdout"
        }
      ]
    },
    {
      "cell_type": "code",
      "metadata": {
        "id": "culDk_PbIWys",
        "colab_type": "code",
        "colab": {
          "base_uri": "https://localhost:8080/",
          "height": 52
        },
        "outputId": "2651e2f5-0918-4936-f75c-e6fa42717d97"
      },
      "source": [
        "#sort\n",
        "list1.sort(reverse=False)    #ascending order\n",
        "print(list1)\n",
        "list1.sort(reverse=True)    #descending order\n",
        "print(list1)"
      ],
      "execution_count": 29,
      "outputs": [
        {
          "output_type": "stream",
          "text": [
            "[12, 13, 14, 25, 25, 27]\n",
            "[27, 25, 25, 14, 13, 12]\n"
          ],
          "name": "stdout"
        }
      ]
    },
    {
      "cell_type": "code",
      "metadata": {
        "id": "3Y8ljYaKIwPH",
        "colab_type": "code",
        "colab": {
          "base_uri": "https://localhost:8080/",
          "height": 35
        },
        "outputId": "e30d4acf-ceb6-463d-acd2-5889f6cdfd56"
      },
      "source": [
        "#Reverse\n",
        "list1.reverse()\n",
        "print(list1)"
      ],
      "execution_count": 30,
      "outputs": [
        {
          "output_type": "stream",
          "text": [
            "[12, 13, 14, 25, 25, 27]\n"
          ],
          "name": "stdout"
        }
      ]
    },
    {
      "cell_type": "code",
      "metadata": {
        "id": "TfRc2LKNI8lX",
        "colab_type": "code",
        "colab": {
          "base_uri": "https://localhost:8080/",
          "height": 69
        },
        "outputId": "8c76bf19-1597-4319-f11d-2671294d5639"
      },
      "source": [
        "#copy\n",
        "list1=[1,2,3,4,5]\n",
        "list2=[]\n",
        "list3=[]\n",
        "list2=list1       #deep copying(changes are seen on the copied list2,if list1 has changes)\n",
        "print(list2)\n",
        "list3=list1.copy()    #shallow copying (changes dont reflect on the copied list)\n",
        "print(list3)\n",
        "list1.append(6)\n",
        "list1.append(7)\n",
        "print(list1,list2,list3)"
      ],
      "execution_count": 33,
      "outputs": [
        {
          "output_type": "stream",
          "text": [
            "[1, 2, 3, 4, 5]\n",
            "[1, 2, 3, 4, 5]\n",
            "[1, 2, 3, 4, 5, 6, 7] [1, 2, 3, 4, 5, 6, 7] [1, 2, 3, 4, 5]\n"
          ],
          "name": "stdout"
        }
      ]
    },
    {
      "cell_type": "markdown",
      "metadata": {
        "id": "v92Snd3jMTkA",
        "colab_type": "text"
      },
      "source": [
        "##**FILES**\n",
        "###Modes\n",
        "1. write(w)      //file will be created if not present already\n",
        "2. read(r)    //file must be available\n",
        "3. append(a)  //adds new content\n",
        "4. new file creation(x)  //new file is created if not present, else throws an error\n",
        "- open()\n",
        "- close()\n",
        "\n",
        "\n"
      ]
    },
    {
      "cell_type": "code",
      "metadata": {
        "id": "mxDD6_h8NCbR",
        "colab_type": "code",
        "colab": {}
      },
      "source": [
        "f=open(\"sample.txt\",\"w\")\n",
        "f.write(\"hello\")\n",
        "f.close()"
      ],
      "execution_count": 0,
      "outputs": []
    },
    {
      "cell_type": "code",
      "metadata": {
        "id": "hLrKXGN7OH6m",
        "colab_type": "code",
        "colab": {
          "base_uri": "https://localhost:8080/",
          "height": 35
        },
        "outputId": "dcbef566-d7ab-448f-f336-f750e4b4cd65"
      },
      "source": [
        "f=open(\"sample.txt\",\"r\")\n",
        "data=f.read()\n",
        "print(data)\n",
        "f.close()"
      ],
      "execution_count": 35,
      "outputs": [
        {
          "output_type": "stream",
          "text": [
            "hello\n"
          ],
          "name": "stdout"
        }
      ]
    },
    {
      "cell_type": "code",
      "metadata": {
        "id": "9TUTwIaROtsE",
        "colab_type": "code",
        "colab": {}
      },
      "source": [
        "f=open(\"sample.txt\",\"a\")\n",
        "s='''  how are you?               \n",
        "how is your day going'''\n",
        "f.write(s)\n",
        "f.close()"
      ],
      "execution_count": 0,
      "outputs": []
    },
    {
      "cell_type": "code",
      "metadata": {
        "id": "7D73X2x_PNfF",
        "colab_type": "code",
        "colab": {
          "base_uri": "https://localhost:8080/",
          "height": 69
        },
        "outputId": "b5a22849-f276-4fac-d299-284e18be70e0"
      },
      "source": [
        "f=open(\"sample.txt\",\"r\")\n",
        "data=f.read()\n",
        "print(data)\n",
        "f.close()"
      ],
      "execution_count": 39,
      "outputs": [
        {
          "output_type": "stream",
          "text": [
            "hellohow are you?               \n",
            "how is your day going  how are you?               \n",
            "how is your day going\n"
          ],
          "name": "stdout"
        }
      ]
    }
  ]
}