{
  "nbformat": 4,
  "nbformat_minor": 0,
  "metadata": {
    "kernelspec": {
      "display_name": "Python 3",
      "language": "python",
      "name": "python3"
    },
    "language_info": {
      "codemirror_mode": {
        "name": "ipython",
        "version": 3
      },
      "file_extension": ".py",
      "mimetype": "text/x-python",
      "name": "python",
      "nbconvert_exporter": "python",
      "pygments_lexer": "ipython3",
      "version": "3.7.6"
    },
    "colab": {
      "name": "3-06-2020(class).ipynb",
      "provenance": [],
      "collapsed_sections": [],
      "include_colab_link": true
    }
  },
  "cells": [
    {
      "cell_type": "markdown",
      "metadata": {
        "id": "view-in-github",
        "colab_type": "text"
      },
      "source": [
        "<a href=\"https://colab.research.google.com/github/SMeghanaa/DATA-SCIENCE/blob/master/3_06_2020(class).ipynb\" target=\"_parent\"><img src=\"https://colab.research.google.com/assets/colab-badge.svg\" alt=\"Open In Colab\"/></a>"
      ]
    },
    {
      "cell_type": "markdown",
      "metadata": {
        "id": "GXPoiN3E50sN",
        "colab_type": "text"
      },
      "source": [
        "### Modules \n",
        "-  Predefined module\n",
        "-  User-defined modules"
      ]
    },
    {
      "cell_type": "code",
      "metadata": {
        "id": "VE7m3asd50sU",
        "colab_type": "code",
        "colab": {},
        "outputId": "3357df57-f627-4f96-dccf-f476d4af028c"
      },
      "source": [
        "import string\n",
        "string.digits"
      ],
      "execution_count": 0,
      "outputs": [
        {
          "output_type": "execute_result",
          "data": {
            "text/plain": [
              "'0123456789'"
            ]
          },
          "metadata": {
            "tags": []
          },
          "execution_count": 5
        }
      ]
    },
    {
      "cell_type": "code",
      "metadata": {
        "id": "LYMtwnHU50st",
        "colab_type": "code",
        "colab": {},
        "outputId": "415a0f3c-328b-4582-8775-6f0ed1ecbca8"
      },
      "source": [
        "import string as s   #with an alias name\n",
        "s.digits"
      ],
      "execution_count": 0,
      "outputs": [
        {
          "output_type": "execute_result",
          "data": {
            "text/plain": [
              "'0123456789'"
            ]
          },
          "metadata": {
            "tags": []
          },
          "execution_count": 6
        }
      ]
    },
    {
      "cell_type": "code",
      "metadata": {
        "id": "H_DUzaW-50s7",
        "colab_type": "code",
        "colab": {},
        "outputId": "2194c009-be78-4e21-fe6f-73903cb72124"
      },
      "source": [
        "from string import *\n",
        "print(digits)\n",
        "print(punctuation)"
      ],
      "execution_count": 0,
      "outputs": [
        {
          "output_type": "stream",
          "text": [
            "0123456789\n",
            "!\"#$%&'()*+,-./:;<=>?@[\\]^_`{|}~\n"
          ],
          "name": "stdout"
        }
      ]
    },
    {
      "cell_type": "code",
      "metadata": {
        "id": "Ghf_norL50tR",
        "colab_type": "code",
        "colab": {},
        "outputId": "b5b3e724-fea6-4ef9-f1fb-89c533273276"
      },
      "source": [
        "from string import digits,punctuation\n",
        "#digits=10\n",
        "print(digits)\n",
        "print(punctuation)"
      ],
      "execution_count": 0,
      "outputs": [
        {
          "output_type": "stream",
          "text": [
            "0123456789\n",
            "!\"#$%&'()*+,-./:;<=>?@[\\]^_`{|}~\n"
          ],
          "name": "stdout"
        }
      ]
    },
    {
      "cell_type": "code",
      "metadata": {
        "id": "j6PNYHJq50u7",
        "colab_type": "code",
        "colab": {},
        "outputId": "5c24550d-2cb7-4ddd-8f97-2cc848e9d70e"
      },
      "source": [
        "import operations as o\n",
        "o.wish(\"Meghana\")"
      ],
      "execution_count": 0,
      "outputs": [
        {
          "output_type": "stream",
          "text": [
            "Good afternoon Meghana\n"
          ],
          "name": "stdout"
        }
      ]
    },
    {
      "cell_type": "code",
      "metadata": {
        "id": "6x2nOuxJ50wR",
        "colab_type": "code",
        "colab": {},
        "outputId": "542ab93e-a30a-4ce2-8aaa-87199bd1bb4a"
      },
      "source": [
        "o.result"
      ],
      "execution_count": 0,
      "outputs": [
        {
          "output_type": "execute_result",
          "data": {
            "text/plain": [
              "'True'"
            ]
          },
          "metadata": {
            "tags": []
          },
          "execution_count": 4
        }
      ]
    },
    {
      "cell_type": "markdown",
      "metadata": {
        "id": "44yMYIgb50w5",
        "colab_type": "text"
      },
      "source": [
        "### Built-in functions\n",
        "1. math()\n",
        "2. statisctics"
      ]
    },
    {
      "cell_type": "code",
      "metadata": {
        "id": "EJO22LV550xA",
        "colab_type": "code",
        "colab": {}
      },
      "source": [
        "import math"
      ],
      "execution_count": 0,
      "outputs": []
    },
    {
      "cell_type": "code",
      "metadata": {
        "id": "kVww3Phl50yn",
        "colab_type": "code",
        "colab": {},
        "outputId": "1366b581-86b3-4851-f5d4-783da8468b09"
      },
      "source": [
        "math.factorial(5)"
      ],
      "execution_count": 0,
      "outputs": [
        {
          "output_type": "execute_result",
          "data": {
            "text/plain": [
              "120"
            ]
          },
          "metadata": {
            "tags": []
          },
          "execution_count": 33
        }
      ]
    },
    {
      "cell_type": "code",
      "metadata": {
        "id": "_4NEJ1Py50zT",
        "colab_type": "code",
        "colab": {},
        "outputId": "e922dc89-7bd1-445f-e7c5-f57bde46a166"
      },
      "source": [
        "#area of circle(pi*r*r)\n",
        "def Area(radius):\n",
        "    return math.pi*math.pow(radius,2)\n",
        "Area(7)\n"
      ],
      "execution_count": 0,
      "outputs": [
        {
          "output_type": "execute_result",
          "data": {
            "text/plain": [
              "153.93804002589985"
            ]
          },
          "metadata": {
            "tags": []
          },
          "execution_count": 32
        }
      ]
    },
    {
      "cell_type": "markdown",
      "metadata": {
        "id": "3phXVGsJ50z2",
        "colab_type": "text"
      },
      "source": [
        "### statistics:"
      ]
    },
    {
      "cell_type": "code",
      "metadata": {
        "id": "0mc6NDpv50z5",
        "colab_type": "code",
        "colab": {},
        "outputId": "1fd63011-0a56-42d7-e12d-cf56d0b6e152"
      },
      "source": [
        "import statistics as st\n",
        "list1=list(range(1,21))\n",
        "list1"
      ],
      "execution_count": 0,
      "outputs": [
        {
          "output_type": "execute_result",
          "data": {
            "text/plain": [
              "[1, 2, 3, 4, 5, 6, 7, 8, 9, 10, 11, 12, 13, 14, 15, 16, 17, 18, 19, 20]"
            ]
          },
          "metadata": {
            "tags": []
          },
          "execution_count": 19
        }
      ]
    },
    {
      "cell_type": "code",
      "metadata": {
        "id": "x31Xkqo8500I",
        "colab_type": "code",
        "colab": {},
        "outputId": "8a8bff96-8d59-46d3-b39a-2bf393b82f60"
      },
      "source": [
        "print(st.mean(list1))\n",
        "print(sum(list1)/len(list1))"
      ],
      "execution_count": 0,
      "outputs": [
        {
          "output_type": "stream",
          "text": [
            "10.5\n",
            "10.5\n"
          ],
          "name": "stdout"
        }
      ]
    },
    {
      "cell_type": "code",
      "metadata": {
        "id": "NzmBqqm4500V",
        "colab_type": "code",
        "colab": {},
        "outputId": "28f974d3-936d-4b95-8d7a-8338bf1a8100"
      },
      "source": [
        "print(st.median(list1))"
      ],
      "execution_count": 0,
      "outputs": [
        {
          "output_type": "stream",
          "text": [
            "10.5\n"
          ],
          "name": "stdout"
        }
      ]
    },
    {
      "cell_type": "code",
      "metadata": {
        "id": "wK-qhzjw500p",
        "colab_type": "code",
        "colab": {},
        "outputId": "0ec9e24a-6998-4223-e842-000962a121cf"
      },
      "source": [
        "list2=[1,2,3,4,3,3,4,2,2,2]\n",
        "print(st.mode(list2))"
      ],
      "execution_count": 0,
      "outputs": [
        {
          "output_type": "stream",
          "text": [
            "2\n"
          ],
          "name": "stdout"
        }
      ]
    },
    {
      "cell_type": "code",
      "metadata": {
        "id": "YvFTIn555003",
        "colab_type": "code",
        "colab": {},
        "outputId": "1f408827-e22f-4d7a-a35c-69db6320982e"
      },
      "source": [
        "#standard deviation\n",
        "st.stdev(list2)"
      ],
      "execution_count": 0,
      "outputs": [
        {
          "output_type": "execute_result",
          "data": {
            "text/plain": [
              "0.9660917830792959"
            ]
          },
          "metadata": {
            "tags": []
          },
          "execution_count": 26
        }
      ]
    },
    {
      "cell_type": "code",
      "metadata": {
        "id": "2U-d8ydd501E",
        "colab_type": "code",
        "colab": {},
        "outputId": "3bda79b0-983b-4e91-ed82-681ad819c8cf"
      },
      "source": [
        "st.variance(list2)"
      ],
      "execution_count": 0,
      "outputs": [
        {
          "output_type": "execute_result",
          "data": {
            "text/plain": [
              "0.9333333333333333"
            ]
          },
          "metadata": {
            "tags": []
          },
          "execution_count": 27
        }
      ]
    },
    {
      "cell_type": "markdown",
      "metadata": {
        "id": "_2uNK7gH501O",
        "colab_type": "text"
      },
      "source": [
        "### random\n",
        "1. randint()---> randint(start,stop)  both values are included\n",
        "2. randrange()---> stop values is excluded\n",
        "3. random()\n",
        "4. choice()\n",
        "5. choices() ---> gives multiple values"
      ]
    },
    {
      "cell_type": "code",
      "metadata": {
        "id": "KXGDI4Ci501Q",
        "colab_type": "code",
        "colab": {},
        "outputId": "2f6055fa-f2d0-4a9a-fc09-ee9b33032726"
      },
      "source": [
        "import random\n",
        "print(random.randint(1,10))\n",
        "print(random.randrange(1,10))\n",
        "print(random.random())"
      ],
      "execution_count": 0,
      "outputs": [
        {
          "output_type": "stream",
          "text": [
            "3\n",
            "1\n",
            "0.6172380613858975\n"
          ],
          "name": "stdout"
        }
      ]
    },
    {
      "cell_type": "code",
      "metadata": {
        "id": "KtRhA8HZ501a",
        "colab_type": "code",
        "colab": {},
        "outputId": "a665986b-c354-4eda-f095-c54fc77d6efc"
      },
      "source": [
        "list1=[1,2,3,4,5,6,7,8]\n",
        "print(random.choice(list1))\n",
        "print(random.choices(list1,k=3))"
      ],
      "execution_count": 0,
      "outputs": [
        {
          "output_type": "stream",
          "text": [
            "4\n",
            "[7, 1, 4]\n"
          ],
          "name": "stdout"
        }
      ]
    },
    {
      "cell_type": "markdown",
      "metadata": {
        "id": "bAg7Cfw3501w",
        "colab_type": "text"
      },
      "source": [
        "### OS\n",
        "1. rename()\n",
        "2. remove()\n",
        "3. mkdir()\n",
        "4. getcwd()  -->current working directory\n",
        "5. listdir() --> list of things\n",
        "6. chdir() --> change directory\n",
        "7. rmdir()"
      ]
    },
    {
      "cell_type": "code",
      "metadata": {
        "id": "k2RX8N1x501z",
        "colab_type": "code",
        "colab": {}
      },
      "source": [
        "import os\n",
        "os.mkdir(\"sample\")"
      ],
      "execution_count": 0,
      "outputs": []
    },
    {
      "cell_type": "code",
      "metadata": {
        "id": "ufLDMo6N502C",
        "colab_type": "code",
        "colab": {},
        "outputId": "df1ac7ad-c025-467b-9082-655c4e6c4a15"
      },
      "source": [
        "os.getcwd()"
      ],
      "execution_count": 0,
      "outputs": [
        {
          "output_type": "execute_result",
          "data": {
            "text/plain": [
              "'C:\\\\Users\\\\Thinkpad\\\\Anaconda3\\\\newfolder'"
            ]
          },
          "metadata": {
            "tags": []
          },
          "execution_count": 35
        }
      ]
    },
    {
      "cell_type": "code",
      "metadata": {
        "id": "7_V5sT_p502O",
        "colab_type": "code",
        "colab": {},
        "outputId": "bbf54c36-1a4c-425c-b2bf-9bfa48e8b905"
      },
      "source": [
        "os.listdir()"
      ],
      "execution_count": 0,
      "outputs": [
        {
          "output_type": "execute_result",
          "data": {
            "text/plain": [
              "['.ipynb_checkpoints',\n",
              " 'operations.py',\n",
              " 'sample',\n",
              " 'Untitled.ipynb',\n",
              " '__pycache__']"
            ]
          },
          "metadata": {
            "tags": []
          },
          "execution_count": 37
        }
      ]
    },
    {
      "cell_type": "code",
      "metadata": {
        "id": "OLDPP4Hz502g",
        "colab_type": "code",
        "colab": {}
      },
      "source": [
        "os.mkdir('python')"
      ],
      "execution_count": 0,
      "outputs": []
    },
    {
      "cell_type": "code",
      "metadata": {
        "id": "fWlxkAqb502r",
        "colab_type": "code",
        "colab": {}
      },
      "source": [
        "os.chdir('C:\\\\Users\\\\Thinkpad\\\\Anaconda3\\\\newfolder\\\\python')"
      ],
      "execution_count": 0,
      "outputs": []
    },
    {
      "cell_type": "code",
      "metadata": {
        "id": "6uw8bi0U5021",
        "colab_type": "code",
        "colab": {}
      },
      "source": [
        "os.getcwd()"
      ],
      "execution_count": 0,
      "outputs": []
    },
    {
      "cell_type": "code",
      "metadata": {
        "id": "9RKTjj1z503D",
        "colab_type": "code",
        "colab": {}
      },
      "source": [
        "os.chdir('C:\\\\Users\\\\Thinkpad\\\\Anaconda3\\\\newfolder')"
      ],
      "execution_count": 0,
      "outputs": []
    },
    {
      "cell_type": "code",
      "metadata": {
        "id": "5elblZBJ503L",
        "colab_type": "code",
        "colab": {}
      },
      "source": [
        "os.getcwd()"
      ],
      "execution_count": 0,
      "outputs": []
    },
    {
      "cell_type": "code",
      "metadata": {
        "id": "Tq781nAk503X",
        "colab_type": "code",
        "colab": {}
      },
      "source": [
        "os.rmdir(\"python\")"
      ],
      "execution_count": 0,
      "outputs": []
    },
    {
      "cell_type": "markdown",
      "metadata": {
        "id": "PT7sPcqe503m",
        "colab_type": "text"
      },
      "source": [
        "### Numpy Package\n",
        "1. operations related Numerics\n",
        "2. Computational operation"
      ]
    },
    {
      "cell_type": "code",
      "metadata": {
        "id": "0ryBz0S5503o",
        "colab_type": "code",
        "colab": {},
        "outputId": "f9891032-c952-4aa4-e95f-10a1c2a8803e"
      },
      "source": [
        "import numpy as np\n",
        "list1=[1,2,3,4,5]\n",
        "arr1=np.array(list)\n",
        "type(arr1)\n"
      ],
      "execution_count": 0,
      "outputs": [
        {
          "output_type": "execute_result",
          "data": {
            "text/plain": [
              "numpy.ndarray"
            ]
          },
          "metadata": {
            "tags": []
          },
          "execution_count": 59
        }
      ]
    },
    {
      "cell_type": "code",
      "metadata": {
        "id": "p0pQ9egS5030",
        "colab_type": "code",
        "colab": {},
        "outputId": "3f6f0b59-cc55-4b26-a43a-dc99410f310e"
      },
      "source": [
        "list2=list(range(1,11))\n",
        "list2"
      ],
      "execution_count": 0,
      "outputs": [
        {
          "output_type": "execute_result",
          "data": {
            "text/plain": [
              "[1, 2, 3, 4, 5, 6, 7, 8, 9, 10]"
            ]
          },
          "metadata": {
            "tags": []
          },
          "execution_count": 60
        }
      ]
    },
    {
      "cell_type": "markdown",
      "metadata": {
        "id": "3KUzYm3u503_",
        "colab_type": "text"
      },
      "source": [
        "### Differences between Python list and Numpy Array\n",
        "1. Less memory\n",
        "2. fast\n",
        "3. convinient\n"
      ]
    },
    {
      "cell_type": "code",
      "metadata": {
        "id": "Ct6HAbng504C",
        "colab_type": "code",
        "colab": {},
        "outputId": "01d2179e-d311-4559-dcc6-826dcbf6eb26"
      },
      "source": [
        "import sys\n",
        "size=1000\n",
        "list1=list(range(size))\n",
        "print(sys.getsizeof(list1[0])) #each element occupies 24 bytes\n",
        "print(sys.getsizeof(list1[0])*size)\n",
        "arr1=np.arange(1000)\n",
        "print(arr1.itemsize*arr1.size)"
      ],
      "execution_count": 0,
      "outputs": [
        {
          "output_type": "stream",
          "text": [
            "24\n",
            "24000\n",
            "4000\n"
          ],
          "name": "stdout"
        }
      ]
    },
    {
      "cell_type": "code",
      "metadata": {
        "id": "I-Ab_rVk504U",
        "colab_type": "code",
        "colab": {},
        "outputId": "18d168fd-5f0c-4b33-9b64-55e3e04cafa6"
      },
      "source": [
        "import time\n",
        "size=20000\n",
        "list1=list(range(size))\n",
        "list2=list(range(size))\n",
        "start=time.time()\n",
        "result=[x+y for x,y in zip(list1,list2)]\n",
        "print(\"time for python list: \",time.time()-start)\n",
        "arr1=np.arange(size)\n",
        "arr2=np.arange(size)\n",
        "start=time.time()\n",
        "result=arr1+arr2\n",
        "print(\"time for Numpy list: \",time.time()-start)"
      ],
      "execution_count": 0,
      "outputs": [
        {
          "output_type": "stream",
          "text": [
            "time for python list:  0.062499284744262695\n",
            "time for Numpy list:  0.0156252384185791\n"
          ],
          "name": "stdout"
        }
      ]
    },
    {
      "cell_type": "code",
      "metadata": {
        "id": "5Bd5B6ss504k",
        "colab_type": "code",
        "colab": {},
        "outputId": "98cf8a93-5fca-4836-ac61-b57deebd5d6b"
      },
      "source": [
        "l1=[1,2,3,4,5]\n",
        "l2=[10,11,12,13,14]\n",
        "result=[x+y for x,y in zip(l1,l2)]\n",
        "result\n"
      ],
      "execution_count": 0,
      "outputs": [
        {
          "output_type": "execute_result",
          "data": {
            "text/plain": [
              "[11, 13, 15, 17, 19]"
            ]
          },
          "metadata": {
            "tags": []
          },
          "execution_count": 69
        }
      ]
    },
    {
      "cell_type": "code",
      "metadata": {
        "id": "X-VhGJ7y504v",
        "colab_type": "code",
        "colab": {},
        "outputId": "55670d38-434c-46f4-f537-e67372f8363a"
      },
      "source": [
        "##Numpy arrays are convenient\n",
        "a1=np.array(l1)\n",
        "a2=np.array(l2)\n",
        "a1+a2"
      ],
      "execution_count": 0,
      "outputs": [
        {
          "output_type": "execute_result",
          "data": {
            "text/plain": [
              "array([11, 13, 15, 17, 19])"
            ]
          },
          "metadata": {
            "tags": []
          },
          "execution_count": 70
        }
      ]
    },
    {
      "cell_type": "code",
      "metadata": {
        "id": "ey25dP3n505A",
        "colab_type": "code",
        "colab": {}
      },
      "source": [
        ""
      ],
      "execution_count": 0,
      "outputs": []
    }
  ]
}